{
 "cells": [
  {
   "cell_type": "markdown",
   "id": "eaf5a27c",
   "metadata": {},
   "source": [
    "# Working notebook with exaples"
   ]
  },
  {
   "cell_type": "code",
   "execution_count": 499,
   "id": "43b3da7f",
   "metadata": {},
   "outputs": [],
   "source": [
    "import pandas as pd\n",
    "import sqlite3\n",
    "import numpy as np"
   ]
  },
  {
   "cell_type": "code",
   "execution_count": 500,
   "id": "d80549cf",
   "metadata": {},
   "outputs": [],
   "source": [
    "con = sqlite3.connect('C:/Users/79295/Desktop/GITHUB/SQL/SQL для анализа данных/databases/german_credit.db')"
   ]
  },
  {
   "cell_type": "code",
   "execution_count": 505,
   "id": "95f47bdf",
   "metadata": {},
   "outputs": [],
   "source": [
    "df = pd.read_csv('C:/Users/79295/Desktop/GITHUB/SQL/SQL для анализа данных/datasets/german_credit_augmented.csv')"
   ]
  },
  {
   "cell_type": "code",
   "execution_count": 506,
   "id": "f29de98c",
   "metadata": {},
   "outputs": [],
   "source": [
    "df.contract_dt = pd.to_datetime(df.contract_dt, format='%Y-%m-%d %H:%M:%S')"
   ]
  },
  {
   "cell_type": "code",
   "execution_count": 507,
   "id": "a3c1f592",
   "metadata": {},
   "outputs": [
    {
     "data": {
      "text/plain": [
       "1000"
      ]
     },
     "execution_count": 507,
     "metadata": {},
     "output_type": "execute_result"
    }
   ],
   "source": [
    "# Выгружаем нашу табличку в базу данных\n",
    "\n",
    "df.to_sql('german_credit', con, index=False,if_exists='replace')"
   ]
  },
  {
   "cell_type": "code",
   "execution_count": 508,
   "id": "54772df8",
   "metadata": {},
   "outputs": [],
   "source": [
    "# Заворачиваем функцию  pd.read_sql(sql,con) во вспомогательную функцию select(sql), чтобы меньше печатать \n",
    "\n",
    "def select(sql):\n",
    "    return pd.read_sql(sql,con)"
   ]
  },
  {
   "cell_type": "code",
   "execution_count": 509,
   "id": "c084d37b",
   "metadata": {},
   "outputs": [
    {
     "data": {
      "text/html": [
       "<div>\n",
       "<style scoped>\n",
       "    .dataframe tbody tr th:only-of-type {\n",
       "        vertical-align: middle;\n",
       "    }\n",
       "\n",
       "    .dataframe tbody tr th {\n",
       "        vertical-align: top;\n",
       "    }\n",
       "\n",
       "    .dataframe thead th {\n",
       "        text-align: right;\n",
       "    }\n",
       "</style>\n",
       "<table border=\"1\" class=\"dataframe\">\n",
       "  <thead>\n",
       "    <tr style=\"text-align: right;\">\n",
       "      <th></th>\n",
       "      <th>age</th>\n",
       "      <th>sex</th>\n",
       "      <th>job</th>\n",
       "      <th>housing</th>\n",
       "      <th>saving_accounts</th>\n",
       "      <th>checking_account</th>\n",
       "      <th>credit_amount</th>\n",
       "      <th>duration</th>\n",
       "      <th>purpose</th>\n",
       "      <th>default</th>\n",
       "      <th>contract_dt</th>\n",
       "      <th>client_id</th>\n",
       "      <th>age_mult3</th>\n",
       "    </tr>\n",
       "  </thead>\n",
       "  <tbody>\n",
       "    <tr>\n",
       "      <th>0</th>\n",
       "      <td>22</td>\n",
       "      <td>male</td>\n",
       "      <td>2</td>\n",
       "      <td>own</td>\n",
       "      <td>rich</td>\n",
       "      <td>moderate</td>\n",
       "      <td>1007</td>\n",
       "      <td>12</td>\n",
       "      <td>car</td>\n",
       "      <td>0</td>\n",
       "      <td>2007-07-17 12:33:24</td>\n",
       "      <td>67</td>\n",
       "      <td>66</td>\n",
       "    </tr>\n",
       "  </tbody>\n",
       "</table>\n",
       "</div>"
      ],
      "text/plain": [
       "   age   sex  job housing saving_accounts checking_account  credit_amount  \\\n",
       "0   22  male    2     own            rich         moderate           1007   \n",
       "\n",
       "   duration purpose  default          contract_dt  client_id  age_mult3  \n",
       "0        12     car        0  2007-07-17 12:33:24         67         66  "
      ]
     },
     "execution_count": 509,
     "metadata": {},
     "output_type": "execute_result"
    }
   ],
   "source": [
    "sql = '''select\n",
    "            t.*,\n",
    "            t.age * 3 as age_mult3\n",
    "        from german_credit t\n",
    "        where t.age < 23 \n",
    "            and t.purpose = \"car\"\n",
    "            and t.housing = \"own\"\n",
    "        '''\n",
    "select(sql)"
   ]
  },
  {
   "cell_type": "code",
   "execution_count": 510,
   "id": "e54855e6",
   "metadata": {
    "scrolled": true
   },
   "outputs": [
    {
     "data": {
      "text/html": [
       "<div>\n",
       "<style scoped>\n",
       "    .dataframe tbody tr th:only-of-type {\n",
       "        vertical-align: middle;\n",
       "    }\n",
       "\n",
       "    .dataframe tbody tr th {\n",
       "        vertical-align: top;\n",
       "    }\n",
       "\n",
       "    .dataframe thead th {\n",
       "        text-align: right;\n",
       "    }\n",
       "</style>\n",
       "<table border=\"1\" class=\"dataframe\">\n",
       "  <thead>\n",
       "    <tr style=\"text-align: right;\">\n",
       "      <th></th>\n",
       "      <th>age</th>\n",
       "      <th>sex</th>\n",
       "      <th>job</th>\n",
       "      <th>housing</th>\n",
       "      <th>saving_accounts</th>\n",
       "      <th>checking_account</th>\n",
       "      <th>credit_amount</th>\n",
       "      <th>duration</th>\n",
       "      <th>purpose</th>\n",
       "      <th>default</th>\n",
       "      <th>contract_dt</th>\n",
       "      <th>client_id</th>\n",
       "      <th>age_mult3</th>\n",
       "    </tr>\n",
       "  </thead>\n",
       "  <tbody>\n",
       "    <tr>\n",
       "      <th>0</th>\n",
       "      <td>21</td>\n",
       "      <td>female</td>\n",
       "      <td>2</td>\n",
       "      <td>rent</td>\n",
       "      <td>little</td>\n",
       "      <td>None</td>\n",
       "      <td>2570</td>\n",
       "      <td>27</td>\n",
       "      <td>car</td>\n",
       "      <td>1</td>\n",
       "      <td>2008-06-14 22:03:03</td>\n",
       "      <td>724</td>\n",
       "      <td>63</td>\n",
       "    </tr>\n",
       "    <tr>\n",
       "      <th>1</th>\n",
       "      <td>20</td>\n",
       "      <td>female</td>\n",
       "      <td>2</td>\n",
       "      <td>rent</td>\n",
       "      <td>None</td>\n",
       "      <td>None</td>\n",
       "      <td>4675</td>\n",
       "      <td>12</td>\n",
       "      <td>car</td>\n",
       "      <td>0</td>\n",
       "      <td>2008-06-06 19:31:48</td>\n",
       "      <td>296</td>\n",
       "      <td>60</td>\n",
       "    </tr>\n",
       "    <tr>\n",
       "      <th>2</th>\n",
       "      <td>21</td>\n",
       "      <td>male</td>\n",
       "      <td>2</td>\n",
       "      <td>rent</td>\n",
       "      <td>little</td>\n",
       "      <td>moderate</td>\n",
       "      <td>2779</td>\n",
       "      <td>18</td>\n",
       "      <td>car</td>\n",
       "      <td>0</td>\n",
       "      <td>2008-06-06 15:51:39</td>\n",
       "      <td>425</td>\n",
       "      <td>63</td>\n",
       "    </tr>\n",
       "    <tr>\n",
       "      <th>3</th>\n",
       "      <td>20</td>\n",
       "      <td>female</td>\n",
       "      <td>2</td>\n",
       "      <td>rent</td>\n",
       "      <td>rich</td>\n",
       "      <td>None</td>\n",
       "      <td>3186</td>\n",
       "      <td>15</td>\n",
       "      <td>car</td>\n",
       "      <td>0</td>\n",
       "      <td>2008-05-06 18:34:56</td>\n",
       "      <td>420</td>\n",
       "      <td>60</td>\n",
       "    </tr>\n",
       "    <tr>\n",
       "      <th>4</th>\n",
       "      <td>20</td>\n",
       "      <td>female</td>\n",
       "      <td>1</td>\n",
       "      <td>rent</td>\n",
       "      <td>little</td>\n",
       "      <td>moderate</td>\n",
       "      <td>2718</td>\n",
       "      <td>24</td>\n",
       "      <td>car</td>\n",
       "      <td>1</td>\n",
       "      <td>2008-04-12 12:34:40</td>\n",
       "      <td>593</td>\n",
       "      <td>60</td>\n",
       "    </tr>\n",
       "  </tbody>\n",
       "</table>\n",
       "</div>"
      ],
      "text/plain": [
       "   age     sex  job housing saving_accounts checking_account  credit_amount  \\\n",
       "0   21  female    2    rent          little             None           2570   \n",
       "1   20  female    2    rent            None             None           4675   \n",
       "2   21    male    2    rent          little         moderate           2779   \n",
       "3   20  female    2    rent            rich             None           3186   \n",
       "4   20  female    1    rent          little         moderate           2718   \n",
       "\n",
       "   duration purpose  default          contract_dt  client_id  age_mult3  \n",
       "0        27     car        1  2008-06-14 22:03:03        724         63  \n",
       "1        12     car        0  2008-06-06 19:31:48        296         60  \n",
       "2        18     car        0  2008-06-06 15:51:39        425         63  \n",
       "3        15     car        0  2008-05-06 18:34:56        420         60  \n",
       "4        24     car        1  2008-04-12 12:34:40        593         60  "
      ]
     },
     "execution_count": 510,
     "metadata": {},
     "output_type": "execute_result"
    }
   ],
   "source": [
    "sql = '''select\n",
    "        t.*,\n",
    "        t.age * 3 as age_mult3\n",
    "        from german_credit t\n",
    "        where t.age < 22 \n",
    "        and t.purpose = \"car\"\n",
    "        and t.housing in (\"own\",\"rent\")\n",
    "        '''\n",
    "select(sql)"
   ]
  },
  {
   "cell_type": "markdown",
   "id": "d7573290",
   "metadata": {},
   "source": [
    "# Saving query result to new table"
   ]
  },
  {
   "cell_type": "code",
   "execution_count": 39,
   "id": "cb132d84",
   "metadata": {},
   "outputs": [],
   "source": [
    "cur = con.cursor()"
   ]
  },
  {
   "cell_type": "code",
   "execution_count": 50,
   "id": "5ee4b6fd",
   "metadata": {},
   "outputs": [],
   "source": [
    "# Создадим запрос в котором сначала будем дропать табличку, чтобы оставалась возможность перезапуска"
   ]
  },
  {
   "cell_type": "code",
   "execution_count": 46,
   "id": "187926a8",
   "metadata": {},
   "outputs": [],
   "source": [
    "sql = '''\n",
    "    drop table if exists my_table; \n",
    "    create table \n",
    "        my_table as \n",
    "    select\n",
    "        t.*,\n",
    "        t.age * 3 as age_mult3\n",
    "    from \n",
    "        german_credit t\n",
    "    where t.age < 22 \n",
    "        and t.purpose = \"car\"\n",
    "        and t.housing in (\"own\",\"rent\")\n",
    "    '''"
   ]
  },
  {
   "cell_type": "code",
   "execution_count": 47,
   "id": "cee4b3ea",
   "metadata": {},
   "outputs": [
    {
     "data": {
      "text/plain": [
       "<sqlite3.Cursor at 0x246ab089110>"
      ]
     },
     "execution_count": 47,
     "metadata": {},
     "output_type": "execute_result"
    }
   ],
   "source": [
    "cur.executescript(sql)"
   ]
  },
  {
   "cell_type": "code",
   "execution_count": 48,
   "id": "44dc1abc",
   "metadata": {},
   "outputs": [],
   "source": [
    "sql = '''\n",
    "select *\n",
    "from my_table\n",
    "'''"
   ]
  },
  {
   "cell_type": "code",
   "execution_count": 49,
   "id": "1f7afa67",
   "metadata": {},
   "outputs": [
    {
     "data": {
      "text/html": [
       "<div>\n",
       "<style scoped>\n",
       "    .dataframe tbody tr th:only-of-type {\n",
       "        vertical-align: middle;\n",
       "    }\n",
       "\n",
       "    .dataframe tbody tr th {\n",
       "        vertical-align: top;\n",
       "    }\n",
       "\n",
       "    .dataframe thead th {\n",
       "        text-align: right;\n",
       "    }\n",
       "</style>\n",
       "<table border=\"1\" class=\"dataframe\">\n",
       "  <thead>\n",
       "    <tr style=\"text-align: right;\">\n",
       "      <th></th>\n",
       "      <th>age</th>\n",
       "      <th>sex</th>\n",
       "      <th>job</th>\n",
       "      <th>housing</th>\n",
       "      <th>saving_accounts</th>\n",
       "      <th>checking_account</th>\n",
       "      <th>credit_amount</th>\n",
       "      <th>duration</th>\n",
       "      <th>purpose</th>\n",
       "      <th>default</th>\n",
       "      <th>contract_dt</th>\n",
       "      <th>client_id</th>\n",
       "      <th>age_mult3</th>\n",
       "    </tr>\n",
       "  </thead>\n",
       "  <tbody>\n",
       "    <tr>\n",
       "      <th>0</th>\n",
       "      <td>21</td>\n",
       "      <td>female</td>\n",
       "      <td>2</td>\n",
       "      <td>rent</td>\n",
       "      <td>little</td>\n",
       "      <td>None</td>\n",
       "      <td>2570</td>\n",
       "      <td>27</td>\n",
       "      <td>car</td>\n",
       "      <td>1</td>\n",
       "      <td>2008-06-14 22:03:03</td>\n",
       "      <td>724</td>\n",
       "      <td>63</td>\n",
       "    </tr>\n",
       "    <tr>\n",
       "      <th>1</th>\n",
       "      <td>20</td>\n",
       "      <td>female</td>\n",
       "      <td>2</td>\n",
       "      <td>rent</td>\n",
       "      <td>None</td>\n",
       "      <td>None</td>\n",
       "      <td>4675</td>\n",
       "      <td>12</td>\n",
       "      <td>car</td>\n",
       "      <td>0</td>\n",
       "      <td>2008-06-06 19:31:48</td>\n",
       "      <td>296</td>\n",
       "      <td>60</td>\n",
       "    </tr>\n",
       "    <tr>\n",
       "      <th>2</th>\n",
       "      <td>21</td>\n",
       "      <td>male</td>\n",
       "      <td>2</td>\n",
       "      <td>rent</td>\n",
       "      <td>little</td>\n",
       "      <td>moderate</td>\n",
       "      <td>2779</td>\n",
       "      <td>18</td>\n",
       "      <td>car</td>\n",
       "      <td>0</td>\n",
       "      <td>2008-06-06 15:51:39</td>\n",
       "      <td>425</td>\n",
       "      <td>63</td>\n",
       "    </tr>\n",
       "    <tr>\n",
       "      <th>3</th>\n",
       "      <td>20</td>\n",
       "      <td>female</td>\n",
       "      <td>2</td>\n",
       "      <td>rent</td>\n",
       "      <td>rich</td>\n",
       "      <td>None</td>\n",
       "      <td>3186</td>\n",
       "      <td>15</td>\n",
       "      <td>car</td>\n",
       "      <td>0</td>\n",
       "      <td>2008-05-06 18:34:56</td>\n",
       "      <td>420</td>\n",
       "      <td>60</td>\n",
       "    </tr>\n",
       "    <tr>\n",
       "      <th>4</th>\n",
       "      <td>20</td>\n",
       "      <td>female</td>\n",
       "      <td>1</td>\n",
       "      <td>rent</td>\n",
       "      <td>little</td>\n",
       "      <td>moderate</td>\n",
       "      <td>2718</td>\n",
       "      <td>24</td>\n",
       "      <td>car</td>\n",
       "      <td>1</td>\n",
       "      <td>2008-04-12 12:34:40</td>\n",
       "      <td>593</td>\n",
       "      <td>60</td>\n",
       "    </tr>\n",
       "  </tbody>\n",
       "</table>\n",
       "</div>"
      ],
      "text/plain": [
       "   age     sex  job housing saving_accounts checking_account  credit_amount  \\\n",
       "0   21  female    2    rent          little             None           2570   \n",
       "1   20  female    2    rent            None             None           4675   \n",
       "2   21    male    2    rent          little         moderate           2779   \n",
       "3   20  female    2    rent            rich             None           3186   \n",
       "4   20  female    1    rent          little         moderate           2718   \n",
       "\n",
       "   duration purpose  default          contract_dt  client_id  age_mult3  \n",
       "0        27     car        1  2008-06-14 22:03:03        724         63  \n",
       "1        12     car        0  2008-06-06 19:31:48        296         60  \n",
       "2        18     car        0  2008-06-06 15:51:39        425         63  \n",
       "3        15     car        0  2008-05-06 18:34:56        420         60  \n",
       "4        24     car        1  2008-04-12 12:34:40        593         60  "
      ]
     },
     "execution_count": 49,
     "metadata": {},
     "output_type": "execute_result"
    }
   ],
   "source": [
    "select(sql)"
   ]
  },
  {
   "cell_type": "markdown",
   "id": "13c1029b",
   "metadata": {},
   "source": [
    "# Union all"
   ]
  },
  {
   "cell_type": "code",
   "execution_count": 53,
   "id": "d3f9f23a",
   "metadata": {},
   "outputs": [],
   "source": [
    "jan = pd.DataFrame({\"month\":['jan','jan'],\"revenue\": [100, 150]})\n",
    "feb = pd.DataFrame({\"month\":['feb','feb'],\"revenue\": [120, 160]})"
   ]
  },
  {
   "cell_type": "code",
   "execution_count": 56,
   "id": "f4e1c1d4",
   "metadata": {},
   "outputs": [
    {
     "data": {
      "text/plain": [
       "2"
      ]
     },
     "execution_count": 56,
     "metadata": {},
     "output_type": "execute_result"
    }
   ],
   "source": [
    "jan.to_sql('jan',con,index=False,if_exists='replace')\n",
    "feb.to_sql('feb',con,index=False,if_exists='replace')"
   ]
  },
  {
   "cell_type": "code",
   "execution_count": 61,
   "id": "8703b629",
   "metadata": {},
   "outputs": [],
   "source": [
    "sql='''\n",
    "select * \n",
    "from jan t\n",
    "union all\n",
    "select *\n",
    "from feb t\n",
    "'''"
   ]
  },
  {
   "cell_type": "code",
   "execution_count": 62,
   "id": "6002e645",
   "metadata": {
    "scrolled": true
   },
   "outputs": [
    {
     "data": {
      "text/html": [
       "<div>\n",
       "<style scoped>\n",
       "    .dataframe tbody tr th:only-of-type {\n",
       "        vertical-align: middle;\n",
       "    }\n",
       "\n",
       "    .dataframe tbody tr th {\n",
       "        vertical-align: top;\n",
       "    }\n",
       "\n",
       "    .dataframe thead th {\n",
       "        text-align: right;\n",
       "    }\n",
       "</style>\n",
       "<table border=\"1\" class=\"dataframe\">\n",
       "  <thead>\n",
       "    <tr style=\"text-align: right;\">\n",
       "      <th></th>\n",
       "      <th>month</th>\n",
       "      <th>revenue</th>\n",
       "    </tr>\n",
       "  </thead>\n",
       "  <tbody>\n",
       "    <tr>\n",
       "      <th>0</th>\n",
       "      <td>jan</td>\n",
       "      <td>100</td>\n",
       "    </tr>\n",
       "    <tr>\n",
       "      <th>1</th>\n",
       "      <td>jan</td>\n",
       "      <td>150</td>\n",
       "    </tr>\n",
       "    <tr>\n",
       "      <th>2</th>\n",
       "      <td>feb</td>\n",
       "      <td>120</td>\n",
       "    </tr>\n",
       "    <tr>\n",
       "      <th>3</th>\n",
       "      <td>feb</td>\n",
       "      <td>160</td>\n",
       "    </tr>\n",
       "  </tbody>\n",
       "</table>\n",
       "</div>"
      ],
      "text/plain": [
       "  month  revenue\n",
       "0   jan      100\n",
       "1   jan      150\n",
       "2   feb      120\n",
       "3   feb      160"
      ]
     },
     "execution_count": 62,
     "metadata": {},
     "output_type": "execute_result"
    }
   ],
   "source": [
    "select(sql)"
   ]
  },
  {
   "cell_type": "markdown",
   "id": "8804bdde",
   "metadata": {},
   "source": [
    "# Getting string letters"
   ]
  },
  {
   "cell_type": "code",
   "execution_count": 67,
   "id": "6ad9592d",
   "metadata": {},
   "outputs": [
    {
     "data": {
      "text/html": [
       "<div>\n",
       "<style scoped>\n",
       "    .dataframe tbody tr th:only-of-type {\n",
       "        vertical-align: middle;\n",
       "    }\n",
       "\n",
       "    .dataframe tbody tr th {\n",
       "        vertical-align: top;\n",
       "    }\n",
       "\n",
       "    .dataframe thead th {\n",
       "        text-align: right;\n",
       "    }\n",
       "</style>\n",
       "<table border=\"1\" class=\"dataframe\">\n",
       "  <thead>\n",
       "    <tr style=\"text-align: right;\">\n",
       "      <th></th>\n",
       "      <th>substr(t.sex,1,1)</th>\n",
       "    </tr>\n",
       "  </thead>\n",
       "  <tbody>\n",
       "    <tr>\n",
       "      <th>0</th>\n",
       "      <td>m</td>\n",
       "    </tr>\n",
       "    <tr>\n",
       "      <th>1</th>\n",
       "      <td>m</td>\n",
       "    </tr>\n",
       "    <tr>\n",
       "      <th>2</th>\n",
       "      <td>m</td>\n",
       "    </tr>\n",
       "    <tr>\n",
       "      <th>3</th>\n",
       "      <td>f</td>\n",
       "    </tr>\n",
       "    <tr>\n",
       "      <th>4</th>\n",
       "      <td>m</td>\n",
       "    </tr>\n",
       "    <tr>\n",
       "      <th>...</th>\n",
       "      <td>...</td>\n",
       "    </tr>\n",
       "    <tr>\n",
       "      <th>995</th>\n",
       "      <td>m</td>\n",
       "    </tr>\n",
       "    <tr>\n",
       "      <th>996</th>\n",
       "      <td>m</td>\n",
       "    </tr>\n",
       "    <tr>\n",
       "      <th>997</th>\n",
       "      <td>m</td>\n",
       "    </tr>\n",
       "    <tr>\n",
       "      <th>998</th>\n",
       "      <td>f</td>\n",
       "    </tr>\n",
       "    <tr>\n",
       "      <th>999</th>\n",
       "      <td>m</td>\n",
       "    </tr>\n",
       "  </tbody>\n",
       "</table>\n",
       "<p>1000 rows × 1 columns</p>\n",
       "</div>"
      ],
      "text/plain": [
       "    substr(t.sex,1,1)\n",
       "0                   m\n",
       "1                   m\n",
       "2                   m\n",
       "3                   f\n",
       "4                   m\n",
       "..                ...\n",
       "995                 m\n",
       "996                 m\n",
       "997                 m\n",
       "998                 f\n",
       "999                 m\n",
       "\n",
       "[1000 rows x 1 columns]"
      ]
     },
     "execution_count": 67,
     "metadata": {},
     "output_type": "execute_result"
    }
   ],
   "source": [
    "# substr(column,x,y) где x - порядковый номер символа в строке, y - кол-во символов\n",
    "sql = '''select\n",
    "        substr(t.sex,1,1)\n",
    "        from german_credit t\n",
    "        \n",
    "        '''\n",
    "select(sql)"
   ]
  },
  {
   "cell_type": "markdown",
   "id": "01378002",
   "metadata": {},
   "source": [
    "# Group by"
   ]
  },
  {
   "cell_type": "code",
   "execution_count": 72,
   "id": "65e5e68b",
   "metadata": {
    "scrolled": true
   },
   "outputs": [
    {
     "data": {
      "text/html": [
       "<div>\n",
       "<style scoped>\n",
       "    .dataframe tbody tr th:only-of-type {\n",
       "        vertical-align: middle;\n",
       "    }\n",
       "\n",
       "    .dataframe tbody tr th {\n",
       "        vertical-align: top;\n",
       "    }\n",
       "\n",
       "    .dataframe thead th {\n",
       "        text-align: right;\n",
       "    }\n",
       "</style>\n",
       "<table border=\"1\" class=\"dataframe\">\n",
       "  <thead>\n",
       "    <tr style=\"text-align: right;\">\n",
       "      <th></th>\n",
       "      <th>sex</th>\n",
       "      <th>total_count</th>\n",
       "      <th>avg_credit</th>\n",
       "    </tr>\n",
       "  </thead>\n",
       "  <tbody>\n",
       "    <tr>\n",
       "      <th>0</th>\n",
       "      <td>female</td>\n",
       "      <td>310</td>\n",
       "      <td>2877.77</td>\n",
       "    </tr>\n",
       "    <tr>\n",
       "      <th>1</th>\n",
       "      <td>male</td>\n",
       "      <td>690</td>\n",
       "      <td>3448.04</td>\n",
       "    </tr>\n",
       "  </tbody>\n",
       "</table>\n",
       "</div>"
      ],
      "text/plain": [
       "      sex  total_count  avg_credit\n",
       "0  female          310     2877.77\n",
       "1    male          690     3448.04"
      ]
     },
     "execution_count": 72,
     "metadata": {},
     "output_type": "execute_result"
    }
   ],
   "source": [
    "sql='''\n",
    "select \n",
    "t.sex, \n",
    "    count(1) as total_count, \n",
    "        round(avg(credit_amount),2) as avg_credit\n",
    "from\n",
    "    german_credit t\n",
    "group by \n",
    "    t.sex\n",
    "'''\n",
    "select(sql)"
   ]
  },
  {
   "cell_type": "markdown",
   "id": "18b77287",
   "metadata": {},
   "source": [
    "# Null / NaN values"
   ]
  },
  {
   "cell_type": "code",
   "execution_count": 75,
   "id": "2801a033",
   "metadata": {},
   "outputs": [
    {
     "data": {
      "text/html": [
       "<div>\n",
       "<style scoped>\n",
       "    .dataframe tbody tr th:only-of-type {\n",
       "        vertical-align: middle;\n",
       "    }\n",
       "\n",
       "    .dataframe tbody tr th {\n",
       "        vertical-align: top;\n",
       "    }\n",
       "\n",
       "    .dataframe thead th {\n",
       "        text-align: right;\n",
       "    }\n",
       "</style>\n",
       "<table border=\"1\" class=\"dataframe\">\n",
       "  <thead>\n",
       "    <tr style=\"text-align: right;\">\n",
       "      <th></th>\n",
       "      <th>count(t.checking_account)</th>\n",
       "      <th>count(1)</th>\n",
       "    </tr>\n",
       "  </thead>\n",
       "  <tbody>\n",
       "    <tr>\n",
       "      <th>0</th>\n",
       "      <td>606</td>\n",
       "      <td>1000</td>\n",
       "    </tr>\n",
       "  </tbody>\n",
       "</table>\n",
       "</div>"
      ],
      "text/plain": [
       "   count(t.checking_account)  count(1)\n",
       "0                        606      1000"
      ]
     },
     "execution_count": 75,
     "metadata": {},
     "output_type": "execute_result"
    }
   ],
   "source": [
    "sql = '''\n",
    "select count(t.checking_account),count(1)\n",
    "from\n",
    "german_credit t\n",
    "\n",
    "'''\n",
    "select(sql)"
   ]
  },
  {
   "cell_type": "code",
   "execution_count": 76,
   "id": "8be4fde3",
   "metadata": {},
   "outputs": [
    {
     "data": {
      "text/html": [
       "<div>\n",
       "<style scoped>\n",
       "    .dataframe tbody tr th:only-of-type {\n",
       "        vertical-align: middle;\n",
       "    }\n",
       "\n",
       "    .dataframe tbody tr th {\n",
       "        vertical-align: top;\n",
       "    }\n",
       "\n",
       "    .dataframe thead th {\n",
       "        text-align: right;\n",
       "    }\n",
       "</style>\n",
       "<table border=\"1\" class=\"dataframe\">\n",
       "  <thead>\n",
       "    <tr style=\"text-align: right;\">\n",
       "      <th></th>\n",
       "      <th>checking_account</th>\n",
       "      <th>total_count</th>\n",
       "      <th>avg_credit</th>\n",
       "    </tr>\n",
       "  </thead>\n",
       "  <tbody>\n",
       "    <tr>\n",
       "      <th>0</th>\n",
       "      <td>None</td>\n",
       "      <td>394</td>\n",
       "      <td>3133.10</td>\n",
       "    </tr>\n",
       "    <tr>\n",
       "      <th>1</th>\n",
       "      <td>little</td>\n",
       "      <td>274</td>\n",
       "      <td>3175.22</td>\n",
       "    </tr>\n",
       "    <tr>\n",
       "      <th>2</th>\n",
       "      <td>moderate</td>\n",
       "      <td>269</td>\n",
       "      <td>3827.56</td>\n",
       "    </tr>\n",
       "    <tr>\n",
       "      <th>3</th>\n",
       "      <td>rich</td>\n",
       "      <td>63</td>\n",
       "      <td>2177.65</td>\n",
       "    </tr>\n",
       "  </tbody>\n",
       "</table>\n",
       "</div>"
      ],
      "text/plain": [
       "  checking_account  total_count  avg_credit\n",
       "0             None          394     3133.10\n",
       "1           little          274     3175.22\n",
       "2         moderate          269     3827.56\n",
       "3             rich           63     2177.65"
      ]
     },
     "execution_count": 76,
     "metadata": {},
     "output_type": "execute_result"
    }
   ],
   "source": [
    "sql='''\n",
    "select \n",
    "    t.checking_account, \n",
    "    count(1) as total_count, \n",
    "    round(avg(credit_amount),2) as avg_credit\n",
    "from\n",
    "    german_credit t\n",
    "group by \n",
    "    t.checking_account\n",
    "'''\n",
    "select(sql)"
   ]
  },
  {
   "cell_type": "code",
   "execution_count": 78,
   "id": "dce6f339",
   "metadata": {},
   "outputs": [
    {
     "data": {
      "text/plain": [
       "checking_account\n",
       "little      274\n",
       "moderate    269\n",
       "rich         63\n",
       "Name: credit_amount, dtype: int64"
      ]
     },
     "execution_count": 78,
     "metadata": {},
     "output_type": "execute_result"
    }
   ],
   "source": [
    "df.groupby('checking_account').credit_amount.count()"
   ]
  },
  {
   "cell_type": "code",
   "execution_count": 79,
   "id": "546d37cb",
   "metadata": {},
   "outputs": [
    {
     "data": {
      "text/plain": [
       "checking_account\n",
       "little      274\n",
       "moderate    269\n",
       "rich         63\n",
       "NaN         394\n",
       "Name: credit_amount, dtype: int64"
      ]
     },
     "execution_count": 79,
     "metadata": {},
     "output_type": "execute_result"
    }
   ],
   "source": [
    "df.groupby('checking_account',dropna=False).credit_amount.count()"
   ]
  },
  {
   "cell_type": "code",
   "execution_count": 86,
   "id": "6ee616ac",
   "metadata": {},
   "outputs": [
    {
     "data": {
      "text/html": [
       "<div>\n",
       "<style scoped>\n",
       "    .dataframe tbody tr th:only-of-type {\n",
       "        vertical-align: middle;\n",
       "    }\n",
       "\n",
       "    .dataframe tbody tr th {\n",
       "        vertical-align: top;\n",
       "    }\n",
       "\n",
       "    .dataframe thead th {\n",
       "        text-align: right;\n",
       "    }\n",
       "</style>\n",
       "<table border=\"1\" class=\"dataframe\">\n",
       "  <thead>\n",
       "    <tr style=\"text-align: right;\">\n",
       "      <th></th>\n",
       "      <th>checking_account</th>\n",
       "      <th>count_none</th>\n",
       "    </tr>\n",
       "  </thead>\n",
       "  <tbody>\n",
       "    <tr>\n",
       "      <th>0</th>\n",
       "      <td>None</td>\n",
       "      <td>394</td>\n",
       "    </tr>\n",
       "  </tbody>\n",
       "</table>\n",
       "</div>"
      ],
      "text/plain": [
       "  checking_account  count_none\n",
       "0             None         394"
      ]
     },
     "execution_count": 86,
     "metadata": {},
     "output_type": "execute_result"
    }
   ],
   "source": [
    "sql='''\n",
    "select \n",
    "    t.checking_account,\n",
    "    sum(case when t.checking_account is null then 1 else 0 end) as count_none\n",
    "from\n",
    "    german_credit t\n",
    "'''\n",
    "select(sql)"
   ]
  },
  {
   "cell_type": "code",
   "execution_count": 89,
   "id": "9344cdb5",
   "metadata": {},
   "outputs": [],
   "source": [
    "t = pd.DataFrame({'col1':[1,np.nan,2]})"
   ]
  },
  {
   "cell_type": "code",
   "execution_count": 90,
   "id": "8a86def1",
   "metadata": {},
   "outputs": [
    {
     "data": {
      "text/html": [
       "<div>\n",
       "<style scoped>\n",
       "    .dataframe tbody tr th:only-of-type {\n",
       "        vertical-align: middle;\n",
       "    }\n",
       "\n",
       "    .dataframe tbody tr th {\n",
       "        vertical-align: top;\n",
       "    }\n",
       "\n",
       "    .dataframe thead th {\n",
       "        text-align: right;\n",
       "    }\n",
       "</style>\n",
       "<table border=\"1\" class=\"dataframe\">\n",
       "  <thead>\n",
       "    <tr style=\"text-align: right;\">\n",
       "      <th></th>\n",
       "      <th>col1</th>\n",
       "    </tr>\n",
       "  </thead>\n",
       "  <tbody>\n",
       "    <tr>\n",
       "      <th>0</th>\n",
       "      <td>1.0</td>\n",
       "    </tr>\n",
       "    <tr>\n",
       "      <th>1</th>\n",
       "      <td>NaN</td>\n",
       "    </tr>\n",
       "    <tr>\n",
       "      <th>2</th>\n",
       "      <td>2.0</td>\n",
       "    </tr>\n",
       "  </tbody>\n",
       "</table>\n",
       "</div>"
      ],
      "text/plain": [
       "   col1\n",
       "0   1.0\n",
       "1   NaN\n",
       "2   2.0"
      ]
     },
     "execution_count": 90,
     "metadata": {},
     "output_type": "execute_result"
    }
   ],
   "source": [
    "t"
   ]
  },
  {
   "cell_type": "code",
   "execution_count": 91,
   "id": "35f98e9b",
   "metadata": {},
   "outputs": [],
   "source": [
    "t=t.to_sql('null_test',con,index=False,if_exists='replace')"
   ]
  },
  {
   "cell_type": "code",
   "execution_count": 92,
   "id": "be136246",
   "metadata": {},
   "outputs": [
    {
     "data": {
      "text/html": [
       "<div>\n",
       "<style scoped>\n",
       "    .dataframe tbody tr th:only-of-type {\n",
       "        vertical-align: middle;\n",
       "    }\n",
       "\n",
       "    .dataframe tbody tr th {\n",
       "        vertical-align: top;\n",
       "    }\n",
       "\n",
       "    .dataframe thead th {\n",
       "        text-align: right;\n",
       "    }\n",
       "</style>\n",
       "<table border=\"1\" class=\"dataframe\">\n",
       "  <thead>\n",
       "    <tr style=\"text-align: right;\">\n",
       "      <th></th>\n",
       "      <th>col1</th>\n",
       "    </tr>\n",
       "  </thead>\n",
       "  <tbody>\n",
       "    <tr>\n",
       "      <th>0</th>\n",
       "      <td>1.0</td>\n",
       "    </tr>\n",
       "    <tr>\n",
       "      <th>1</th>\n",
       "      <td>NaN</td>\n",
       "    </tr>\n",
       "    <tr>\n",
       "      <th>2</th>\n",
       "      <td>2.0</td>\n",
       "    </tr>\n",
       "  </tbody>\n",
       "</table>\n",
       "</div>"
      ],
      "text/plain": [
       "   col1\n",
       "0   1.0\n",
       "1   NaN\n",
       "2   2.0"
      ]
     },
     "execution_count": 92,
     "metadata": {},
     "output_type": "execute_result"
    }
   ],
   "source": [
    "sql = '''\n",
    "select *\n",
    "from\n",
    "null_test t\n",
    "'''\n",
    "select(sql)"
   ]
  },
  {
   "cell_type": "code",
   "execution_count": 93,
   "id": "e0ef0f4f",
   "metadata": {},
   "outputs": [
    {
     "data": {
      "text/html": [
       "<div>\n",
       "<style scoped>\n",
       "    .dataframe tbody tr th:only-of-type {\n",
       "        vertical-align: middle;\n",
       "    }\n",
       "\n",
       "    .dataframe tbody tr th {\n",
       "        vertical-align: top;\n",
       "    }\n",
       "\n",
       "    .dataframe thead th {\n",
       "        text-align: right;\n",
       "    }\n",
       "</style>\n",
       "<table border=\"1\" class=\"dataframe\">\n",
       "  <thead>\n",
       "    <tr style=\"text-align: right;\">\n",
       "      <th></th>\n",
       "      <th>count(t.col1)</th>\n",
       "    </tr>\n",
       "  </thead>\n",
       "  <tbody>\n",
       "    <tr>\n",
       "      <th>0</th>\n",
       "      <td>2</td>\n",
       "    </tr>\n",
       "  </tbody>\n",
       "</table>\n",
       "</div>"
      ],
      "text/plain": [
       "   count(t.col1)\n",
       "0              2"
      ]
     },
     "execution_count": 93,
     "metadata": {},
     "output_type": "execute_result"
    }
   ],
   "source": [
    "sql = '''\n",
    "select \n",
    "count(t.col1)\n",
    "from\n",
    "null_test t\n",
    "'''\n",
    "select(sql)"
   ]
  },
  {
   "cell_type": "code",
   "execution_count": 94,
   "id": "c1f58f39",
   "metadata": {},
   "outputs": [
    {
     "data": {
      "text/html": [
       "<div>\n",
       "<style scoped>\n",
       "    .dataframe tbody tr th:only-of-type {\n",
       "        vertical-align: middle;\n",
       "    }\n",
       "\n",
       "    .dataframe tbody tr th {\n",
       "        vertical-align: top;\n",
       "    }\n",
       "\n",
       "    .dataframe thead th {\n",
       "        text-align: right;\n",
       "    }\n",
       "</style>\n",
       "<table border=\"1\" class=\"dataframe\">\n",
       "  <thead>\n",
       "    <tr style=\"text-align: right;\">\n",
       "      <th></th>\n",
       "      <th>count(1)</th>\n",
       "    </tr>\n",
       "  </thead>\n",
       "  <tbody>\n",
       "    <tr>\n",
       "      <th>0</th>\n",
       "      <td>3</td>\n",
       "    </tr>\n",
       "  </tbody>\n",
       "</table>\n",
       "</div>"
      ],
      "text/plain": [
       "   count(1)\n",
       "0         3"
      ]
     },
     "execution_count": 94,
     "metadata": {},
     "output_type": "execute_result"
    }
   ],
   "source": [
    "sql = '''\n",
    "select \n",
    "count(1)\n",
    "from\n",
    "null_test t\n",
    "'''\n",
    "select(sql)"
   ]
  },
  {
   "cell_type": "code",
   "execution_count": 95,
   "id": "2fc261bd",
   "metadata": {},
   "outputs": [
    {
     "data": {
      "text/html": [
       "<div>\n",
       "<style scoped>\n",
       "    .dataframe tbody tr th:only-of-type {\n",
       "        vertical-align: middle;\n",
       "    }\n",
       "\n",
       "    .dataframe tbody tr th {\n",
       "        vertical-align: top;\n",
       "    }\n",
       "\n",
       "    .dataframe thead th {\n",
       "        text-align: right;\n",
       "    }\n",
       "</style>\n",
       "<table border=\"1\" class=\"dataframe\">\n",
       "  <thead>\n",
       "    <tr style=\"text-align: right;\">\n",
       "      <th></th>\n",
       "      <th>sum(t.col1)</th>\n",
       "    </tr>\n",
       "  </thead>\n",
       "  <tbody>\n",
       "    <tr>\n",
       "      <th>0</th>\n",
       "      <td>3.0</td>\n",
       "    </tr>\n",
       "  </tbody>\n",
       "</table>\n",
       "</div>"
      ],
      "text/plain": [
       "   sum(t.col1)\n",
       "0          3.0"
      ]
     },
     "execution_count": 95,
     "metadata": {},
     "output_type": "execute_result"
    }
   ],
   "source": [
    "sql = '''\n",
    "select \n",
    "sum(t.col1)\n",
    "from\n",
    "null_test t\n",
    "'''\n",
    "select(sql)"
   ]
  },
  {
   "cell_type": "code",
   "execution_count": 96,
   "id": "28e185e8",
   "metadata": {},
   "outputs": [
    {
     "data": {
      "text/html": [
       "<div>\n",
       "<style scoped>\n",
       "    .dataframe tbody tr th:only-of-type {\n",
       "        vertical-align: middle;\n",
       "    }\n",
       "\n",
       "    .dataframe tbody tr th {\n",
       "        vertical-align: top;\n",
       "    }\n",
       "\n",
       "    .dataframe thead th {\n",
       "        text-align: right;\n",
       "    }\n",
       "</style>\n",
       "<table border=\"1\" class=\"dataframe\">\n",
       "  <thead>\n",
       "    <tr style=\"text-align: right;\">\n",
       "      <th></th>\n",
       "      <th>avg(t.col1)</th>\n",
       "    </tr>\n",
       "  </thead>\n",
       "  <tbody>\n",
       "    <tr>\n",
       "      <th>0</th>\n",
       "      <td>1.5</td>\n",
       "    </tr>\n",
       "  </tbody>\n",
       "</table>\n",
       "</div>"
      ],
      "text/plain": [
       "   avg(t.col1)\n",
       "0          1.5"
      ]
     },
     "execution_count": 96,
     "metadata": {},
     "output_type": "execute_result"
    }
   ],
   "source": [
    "sql = '''\n",
    "select \n",
    "avg(t.col1)\n",
    "from\n",
    "null_test t\n",
    "'''\n",
    "select(sql)"
   ]
  },
  {
   "cell_type": "code",
   "execution_count": 97,
   "id": "7b67f020",
   "metadata": {},
   "outputs": [],
   "source": [
    "# Заменим пропуски"
   ]
  },
  {
   "cell_type": "code",
   "execution_count": 98,
   "id": "063df730",
   "metadata": {},
   "outputs": [
    {
     "data": {
      "text/html": [
       "<div>\n",
       "<style scoped>\n",
       "    .dataframe tbody tr th:only-of-type {\n",
       "        vertical-align: middle;\n",
       "    }\n",
       "\n",
       "    .dataframe tbody tr th {\n",
       "        vertical-align: top;\n",
       "    }\n",
       "\n",
       "    .dataframe thead th {\n",
       "        text-align: right;\n",
       "    }\n",
       "</style>\n",
       "<table border=\"1\" class=\"dataframe\">\n",
       "  <thead>\n",
       "    <tr style=\"text-align: right;\">\n",
       "      <th></th>\n",
       "      <th>age</th>\n",
       "      <th>sex</th>\n",
       "      <th>job</th>\n",
       "      <th>housing</th>\n",
       "      <th>saving_accounts</th>\n",
       "      <th>checking_account</th>\n",
       "      <th>credit_amount</th>\n",
       "      <th>duration</th>\n",
       "      <th>purpose</th>\n",
       "      <th>default</th>\n",
       "      <th>contract_dt</th>\n",
       "      <th>client_id</th>\n",
       "    </tr>\n",
       "  </thead>\n",
       "  <tbody>\n",
       "    <tr>\n",
       "      <th>0</th>\n",
       "      <td>33</td>\n",
       "      <td>male</td>\n",
       "      <td>2</td>\n",
       "      <td>own</td>\n",
       "      <td>None</td>\n",
       "      <td>None</td>\n",
       "      <td>3074</td>\n",
       "      <td>9</td>\n",
       "      <td>radio/TV</td>\n",
       "      <td>0</td>\n",
       "      <td>2008-06-29 18:52:00</td>\n",
       "      <td>210</td>\n",
       "    </tr>\n",
       "    <tr>\n",
       "      <th>1</th>\n",
       "      <td>43</td>\n",
       "      <td>male</td>\n",
       "      <td>1</td>\n",
       "      <td>own</td>\n",
       "      <td>little</td>\n",
       "      <td>little</td>\n",
       "      <td>1344</td>\n",
       "      <td>12</td>\n",
       "      <td>car</td>\n",
       "      <td>0</td>\n",
       "      <td>2007-05-20 18:30:19</td>\n",
       "      <td>929</td>\n",
       "    </tr>\n",
       "    <tr>\n",
       "      <th>2</th>\n",
       "      <td>52</td>\n",
       "      <td>male</td>\n",
       "      <td>2</td>\n",
       "      <td>own</td>\n",
       "      <td>quite rich</td>\n",
       "      <td>None</td>\n",
       "      <td>936</td>\n",
       "      <td>9</td>\n",
       "      <td>education</td>\n",
       "      <td>0</td>\n",
       "      <td>2008-04-27 08:23:07</td>\n",
       "      <td>200</td>\n",
       "    </tr>\n",
       "    <tr>\n",
       "      <th>3</th>\n",
       "      <td>35</td>\n",
       "      <td>female</td>\n",
       "      <td>3</td>\n",
       "      <td>own</td>\n",
       "      <td>little</td>\n",
       "      <td>None</td>\n",
       "      <td>1393</td>\n",
       "      <td>11</td>\n",
       "      <td>car</td>\n",
       "      <td>0</td>\n",
       "      <td>2007-05-06 10:58:22</td>\n",
       "      <td>45</td>\n",
       "    </tr>\n",
       "    <tr>\n",
       "      <th>4</th>\n",
       "      <td>28</td>\n",
       "      <td>male</td>\n",
       "      <td>2</td>\n",
       "      <td>own</td>\n",
       "      <td>little</td>\n",
       "      <td>None</td>\n",
       "      <td>776</td>\n",
       "      <td>12</td>\n",
       "      <td>radio/TV</td>\n",
       "      <td>0</td>\n",
       "      <td>2007-07-21 13:22:14</td>\n",
       "      <td>358</td>\n",
       "    </tr>\n",
       "    <tr>\n",
       "      <th>...</th>\n",
       "      <td>...</td>\n",
       "      <td>...</td>\n",
       "      <td>...</td>\n",
       "      <td>...</td>\n",
       "      <td>...</td>\n",
       "      <td>...</td>\n",
       "      <td>...</td>\n",
       "      <td>...</td>\n",
       "      <td>...</td>\n",
       "      <td>...</td>\n",
       "      <td>...</td>\n",
       "      <td>...</td>\n",
       "    </tr>\n",
       "    <tr>\n",
       "      <th>995</th>\n",
       "      <td>65</td>\n",
       "      <td>male</td>\n",
       "      <td>2</td>\n",
       "      <td>free</td>\n",
       "      <td>little</td>\n",
       "      <td>little</td>\n",
       "      <td>2600</td>\n",
       "      <td>18</td>\n",
       "      <td>radio/TV</td>\n",
       "      <td>1</td>\n",
       "      <td>2007-12-16 20:17:19</td>\n",
       "      <td>624</td>\n",
       "    </tr>\n",
       "    <tr>\n",
       "      <th>996</th>\n",
       "      <td>30</td>\n",
       "      <td>male</td>\n",
       "      <td>3</td>\n",
       "      <td>own</td>\n",
       "      <td>little</td>\n",
       "      <td>moderate</td>\n",
       "      <td>4455</td>\n",
       "      <td>36</td>\n",
       "      <td>business</td>\n",
       "      <td>1</td>\n",
       "      <td>2007-07-12 14:08:58</td>\n",
       "      <td>181</td>\n",
       "    </tr>\n",
       "    <tr>\n",
       "      <th>997</th>\n",
       "      <td>33</td>\n",
       "      <td>male</td>\n",
       "      <td>2</td>\n",
       "      <td>own</td>\n",
       "      <td>little</td>\n",
       "      <td>moderate</td>\n",
       "      <td>6403</td>\n",
       "      <td>24</td>\n",
       "      <td>radio/TV</td>\n",
       "      <td>0</td>\n",
       "      <td>2008-04-08 03:24:26</td>\n",
       "      <td>730</td>\n",
       "    </tr>\n",
       "    <tr>\n",
       "      <th>998</th>\n",
       "      <td>29</td>\n",
       "      <td>female</td>\n",
       "      <td>2</td>\n",
       "      <td>own</td>\n",
       "      <td>None</td>\n",
       "      <td>None</td>\n",
       "      <td>5003</td>\n",
       "      <td>21</td>\n",
       "      <td>car</td>\n",
       "      <td>1</td>\n",
       "      <td>2007-11-29 15:51:45</td>\n",
       "      <td>557</td>\n",
       "    </tr>\n",
       "    <tr>\n",
       "      <th>999</th>\n",
       "      <td>44</td>\n",
       "      <td>male</td>\n",
       "      <td>2</td>\n",
       "      <td>own</td>\n",
       "      <td>moderate</td>\n",
       "      <td>moderate</td>\n",
       "      <td>1804</td>\n",
       "      <td>12</td>\n",
       "      <td>car</td>\n",
       "      <td>0</td>\n",
       "      <td>2007-08-14 09:05:33</td>\n",
       "      <td>23</td>\n",
       "    </tr>\n",
       "  </tbody>\n",
       "</table>\n",
       "<p>1000 rows × 12 columns</p>\n",
       "</div>"
      ],
      "text/plain": [
       "     age     sex  job housing saving_accounts checking_account  credit_amount  \\\n",
       "0     33    male    2     own            None             None           3074   \n",
       "1     43    male    1     own          little           little           1344   \n",
       "2     52    male    2     own      quite rich             None            936   \n",
       "3     35  female    3     own          little             None           1393   \n",
       "4     28    male    2     own          little             None            776   \n",
       "..   ...     ...  ...     ...             ...              ...            ...   \n",
       "995   65    male    2    free          little           little           2600   \n",
       "996   30    male    3     own          little         moderate           4455   \n",
       "997   33    male    2     own          little         moderate           6403   \n",
       "998   29  female    2     own            None             None           5003   \n",
       "999   44    male    2     own        moderate         moderate           1804   \n",
       "\n",
       "     duration    purpose  default          contract_dt  client_id  \n",
       "0           9   radio/TV        0  2008-06-29 18:52:00        210  \n",
       "1          12        car        0  2007-05-20 18:30:19        929  \n",
       "2           9  education        0  2008-04-27 08:23:07        200  \n",
       "3          11        car        0  2007-05-06 10:58:22         45  \n",
       "4          12   radio/TV        0  2007-07-21 13:22:14        358  \n",
       "..        ...        ...      ...                  ...        ...  \n",
       "995        18   radio/TV        1  2007-12-16 20:17:19        624  \n",
       "996        36   business        1  2007-07-12 14:08:58        181  \n",
       "997        24   radio/TV        0  2008-04-08 03:24:26        730  \n",
       "998        21        car        1  2007-11-29 15:51:45        557  \n",
       "999        12        car        0  2007-08-14 09:05:33         23  \n",
       "\n",
       "[1000 rows x 12 columns]"
      ]
     },
     "execution_count": 98,
     "metadata": {},
     "output_type": "execute_result"
    }
   ],
   "source": [
    "sql = '''\n",
    "select \n",
    "*\n",
    "from\n",
    "german_credit t\n",
    "'''\n",
    "select(sql)"
   ]
  },
  {
   "cell_type": "code",
   "execution_count": 101,
   "id": "52ebf174",
   "metadata": {},
   "outputs": [
    {
     "data": {
      "text/html": [
       "<div>\n",
       "<style scoped>\n",
       "    .dataframe tbody tr th:only-of-type {\n",
       "        vertical-align: middle;\n",
       "    }\n",
       "\n",
       "    .dataframe tbody tr th {\n",
       "        vertical-align: top;\n",
       "    }\n",
       "\n",
       "    .dataframe thead th {\n",
       "        text-align: right;\n",
       "    }\n",
       "</style>\n",
       "<table border=\"1\" class=\"dataframe\">\n",
       "  <thead>\n",
       "    <tr style=\"text-align: right;\">\n",
       "      <th></th>\n",
       "      <th>checking_account</th>\n",
       "      <th>coalesce(t.checking_account,'no_info')</th>\n",
       "    </tr>\n",
       "  </thead>\n",
       "  <tbody>\n",
       "    <tr>\n",
       "      <th>0</th>\n",
       "      <td>None</td>\n",
       "      <td>no_info</td>\n",
       "    </tr>\n",
       "    <tr>\n",
       "      <th>1</th>\n",
       "      <td>little</td>\n",
       "      <td>little</td>\n",
       "    </tr>\n",
       "    <tr>\n",
       "      <th>2</th>\n",
       "      <td>None</td>\n",
       "      <td>no_info</td>\n",
       "    </tr>\n",
       "    <tr>\n",
       "      <th>3</th>\n",
       "      <td>None</td>\n",
       "      <td>no_info</td>\n",
       "    </tr>\n",
       "    <tr>\n",
       "      <th>4</th>\n",
       "      <td>None</td>\n",
       "      <td>no_info</td>\n",
       "    </tr>\n",
       "    <tr>\n",
       "      <th>...</th>\n",
       "      <td>...</td>\n",
       "      <td>...</td>\n",
       "    </tr>\n",
       "    <tr>\n",
       "      <th>995</th>\n",
       "      <td>little</td>\n",
       "      <td>little</td>\n",
       "    </tr>\n",
       "    <tr>\n",
       "      <th>996</th>\n",
       "      <td>moderate</td>\n",
       "      <td>moderate</td>\n",
       "    </tr>\n",
       "    <tr>\n",
       "      <th>997</th>\n",
       "      <td>moderate</td>\n",
       "      <td>moderate</td>\n",
       "    </tr>\n",
       "    <tr>\n",
       "      <th>998</th>\n",
       "      <td>None</td>\n",
       "      <td>no_info</td>\n",
       "    </tr>\n",
       "    <tr>\n",
       "      <th>999</th>\n",
       "      <td>moderate</td>\n",
       "      <td>moderate</td>\n",
       "    </tr>\n",
       "  </tbody>\n",
       "</table>\n",
       "<p>1000 rows × 2 columns</p>\n",
       "</div>"
      ],
      "text/plain": [
       "    checking_account coalesce(t.checking_account,'no_info')\n",
       "0               None                                no_info\n",
       "1             little                                 little\n",
       "2               None                                no_info\n",
       "3               None                                no_info\n",
       "4               None                                no_info\n",
       "..               ...                                    ...\n",
       "995           little                                 little\n",
       "996         moderate                               moderate\n",
       "997         moderate                               moderate\n",
       "998             None                                no_info\n",
       "999         moderate                               moderate\n",
       "\n",
       "[1000 rows x 2 columns]"
      ]
     },
     "execution_count": 101,
     "metadata": {},
     "output_type": "execute_result"
    }
   ],
   "source": [
    "sql = '''\n",
    "select \n",
    "t.checking_account,\n",
    "coalesce(t.checking_account,'no_info')\n",
    "from\n",
    "german_credit t\n",
    "'''\n",
    "select(sql)"
   ]
  },
  {
   "cell_type": "code",
   "execution_count": 102,
   "id": "e21af9a6",
   "metadata": {
    "scrolled": true
   },
   "outputs": [
    {
     "data": {
      "text/html": [
       "<div>\n",
       "<style scoped>\n",
       "    .dataframe tbody tr th:only-of-type {\n",
       "        vertical-align: middle;\n",
       "    }\n",
       "\n",
       "    .dataframe tbody tr th {\n",
       "        vertical-align: top;\n",
       "    }\n",
       "\n",
       "    .dataframe thead th {\n",
       "        text-align: right;\n",
       "    }\n",
       "</style>\n",
       "<table border=\"1\" class=\"dataframe\">\n",
       "  <thead>\n",
       "    <tr style=\"text-align: right;\">\n",
       "      <th></th>\n",
       "      <th>coalesce(col1,0)</th>\n",
       "    </tr>\n",
       "  </thead>\n",
       "  <tbody>\n",
       "    <tr>\n",
       "      <th>0</th>\n",
       "      <td>1.0</td>\n",
       "    </tr>\n",
       "    <tr>\n",
       "      <th>1</th>\n",
       "      <td>0.0</td>\n",
       "    </tr>\n",
       "    <tr>\n",
       "      <th>2</th>\n",
       "      <td>2.0</td>\n",
       "    </tr>\n",
       "  </tbody>\n",
       "</table>\n",
       "</div>"
      ],
      "text/plain": [
       "   coalesce(col1,0)\n",
       "0               1.0\n",
       "1               0.0\n",
       "2               2.0"
      ]
     },
     "execution_count": 102,
     "metadata": {},
     "output_type": "execute_result"
    }
   ],
   "source": [
    "sql = '''\n",
    "select \n",
    "coalesce(col1,0)\n",
    "from\n",
    "null_test t\n",
    "'''\n",
    "select(sql)"
   ]
  },
  {
   "cell_type": "markdown",
   "id": "4555eede",
   "metadata": {},
   "source": [
    "# coalesce по строке"
   ]
  },
  {
   "cell_type": "code",
   "execution_count": 107,
   "id": "2f928d93",
   "metadata": {},
   "outputs": [],
   "source": [
    "t = pd.DataFrame({'col1':[1,np.nan,2],\n",
    "                 'col2':[np.nan,np.nan,1],\n",
    "                 'col3':[2,3,7]})"
   ]
  },
  {
   "cell_type": "code",
   "execution_count": 108,
   "id": "9c9fc9f2",
   "metadata": {},
   "outputs": [],
   "source": [
    "t=t.to_sql('null_test',con,index=False,if_exists='replace')"
   ]
  },
  {
   "cell_type": "code",
   "execution_count": 109,
   "id": "556d8733",
   "metadata": {},
   "outputs": [
    {
     "data": {
      "text/html": [
       "<div>\n",
       "<style scoped>\n",
       "    .dataframe tbody tr th:only-of-type {\n",
       "        vertical-align: middle;\n",
       "    }\n",
       "\n",
       "    .dataframe tbody tr th {\n",
       "        vertical-align: top;\n",
       "    }\n",
       "\n",
       "    .dataframe thead th {\n",
       "        text-align: right;\n",
       "    }\n",
       "</style>\n",
       "<table border=\"1\" class=\"dataframe\">\n",
       "  <thead>\n",
       "    <tr style=\"text-align: right;\">\n",
       "      <th></th>\n",
       "      <th>col1</th>\n",
       "      <th>col2</th>\n",
       "      <th>col3</th>\n",
       "    </tr>\n",
       "  </thead>\n",
       "  <tbody>\n",
       "    <tr>\n",
       "      <th>0</th>\n",
       "      <td>1.0</td>\n",
       "      <td>NaN</td>\n",
       "      <td>2</td>\n",
       "    </tr>\n",
       "    <tr>\n",
       "      <th>1</th>\n",
       "      <td>NaN</td>\n",
       "      <td>NaN</td>\n",
       "      <td>3</td>\n",
       "    </tr>\n",
       "    <tr>\n",
       "      <th>2</th>\n",
       "      <td>2.0</td>\n",
       "      <td>1.0</td>\n",
       "      <td>7</td>\n",
       "    </tr>\n",
       "  </tbody>\n",
       "</table>\n",
       "</div>"
      ],
      "text/plain": [
       "   col1  col2  col3\n",
       "0   1.0   NaN     2\n",
       "1   NaN   NaN     3\n",
       "2   2.0   1.0     7"
      ]
     },
     "execution_count": 109,
     "metadata": {},
     "output_type": "execute_result"
    }
   ],
   "source": [
    "sql = '''\n",
    "select *\n",
    "from\n",
    "null_test t\n",
    "'''\n",
    "select(sql)"
   ]
  },
  {
   "cell_type": "code",
   "execution_count": 110,
   "id": "739e7eae",
   "metadata": {},
   "outputs": [
    {
     "data": {
      "text/html": [
       "<div>\n",
       "<style scoped>\n",
       "    .dataframe tbody tr th:only-of-type {\n",
       "        vertical-align: middle;\n",
       "    }\n",
       "\n",
       "    .dataframe tbody tr th {\n",
       "        vertical-align: top;\n",
       "    }\n",
       "\n",
       "    .dataframe thead th {\n",
       "        text-align: right;\n",
       "    }\n",
       "</style>\n",
       "<table border=\"1\" class=\"dataframe\">\n",
       "  <thead>\n",
       "    <tr style=\"text-align: right;\">\n",
       "      <th></th>\n",
       "      <th>coalesce(t.col1, t.col2, t.col3)</th>\n",
       "    </tr>\n",
       "  </thead>\n",
       "  <tbody>\n",
       "    <tr>\n",
       "      <th>0</th>\n",
       "      <td>1.0</td>\n",
       "    </tr>\n",
       "    <tr>\n",
       "      <th>1</th>\n",
       "      <td>3.0</td>\n",
       "    </tr>\n",
       "    <tr>\n",
       "      <th>2</th>\n",
       "      <td>2.0</td>\n",
       "    </tr>\n",
       "  </tbody>\n",
       "</table>\n",
       "</div>"
      ],
      "text/plain": [
       "   coalesce(t.col1, t.col2, t.col3)\n",
       "0                               1.0\n",
       "1                               3.0\n",
       "2                               2.0"
      ]
     },
     "execution_count": 110,
     "metadata": {},
     "output_type": "execute_result"
    }
   ],
   "source": [
    "sql = '''\n",
    "select \n",
    "coalesce(t.col1, t.col2, t.col3)\n",
    "from\n",
    "null_test t\n",
    "'''\n",
    "select(sql)"
   ]
  },
  {
   "cell_type": "code",
   "execution_count": 111,
   "id": "f4a468c6",
   "metadata": {},
   "outputs": [],
   "source": [
    "# Видим, что запрос построчно нашел первые  не NaN значения и вывел их"
   ]
  },
  {
   "cell_type": "markdown",
   "id": "7ff3dc15",
   "metadata": {},
   "source": [
    "# Дубликаты"
   ]
  },
  {
   "cell_type": "code",
   "execution_count": 112,
   "id": "cc0e3d8c",
   "metadata": {},
   "outputs": [],
   "source": [
    "t = pd.DataFrame({'id':[1,1,2],\n",
    "                 'name':['a', 'a', 'b']})"
   ]
  },
  {
   "cell_type": "code",
   "execution_count": 113,
   "id": "ce2eabe0",
   "metadata": {},
   "outputs": [],
   "source": [
    "t=t.to_sql('dupl_test',con,index=False,if_exists='replace')"
   ]
  },
  {
   "cell_type": "code",
   "execution_count": 114,
   "id": "898a76df",
   "metadata": {},
   "outputs": [
    {
     "data": {
      "text/html": [
       "<div>\n",
       "<style scoped>\n",
       "    .dataframe tbody tr th:only-of-type {\n",
       "        vertical-align: middle;\n",
       "    }\n",
       "\n",
       "    .dataframe tbody tr th {\n",
       "        vertical-align: top;\n",
       "    }\n",
       "\n",
       "    .dataframe thead th {\n",
       "        text-align: right;\n",
       "    }\n",
       "</style>\n",
       "<table border=\"1\" class=\"dataframe\">\n",
       "  <thead>\n",
       "    <tr style=\"text-align: right;\">\n",
       "      <th></th>\n",
       "      <th>id</th>\n",
       "      <th>name</th>\n",
       "    </tr>\n",
       "  </thead>\n",
       "  <tbody>\n",
       "    <tr>\n",
       "      <th>0</th>\n",
       "      <td>1</td>\n",
       "      <td>a</td>\n",
       "    </tr>\n",
       "    <tr>\n",
       "      <th>1</th>\n",
       "      <td>1</td>\n",
       "      <td>a</td>\n",
       "    </tr>\n",
       "    <tr>\n",
       "      <th>2</th>\n",
       "      <td>2</td>\n",
       "      <td>b</td>\n",
       "    </tr>\n",
       "  </tbody>\n",
       "</table>\n",
       "</div>"
      ],
      "text/plain": [
       "   id name\n",
       "0   1    a\n",
       "1   1    a\n",
       "2   2    b"
      ]
     },
     "execution_count": 114,
     "metadata": {},
     "output_type": "execute_result"
    }
   ],
   "source": [
    "sql = '''\n",
    "select *\n",
    "from\n",
    "dupl_test t\n",
    "'''\n",
    "select(sql)"
   ]
  },
  {
   "cell_type": "code",
   "execution_count": 115,
   "id": "886db64b",
   "metadata": {},
   "outputs": [],
   "source": [
    "# имеем 2 полных дубликата с индексами 0 и 1\n",
    "# Сгруппируем по всем полям"
   ]
  },
  {
   "cell_type": "code",
   "execution_count": 116,
   "id": "bfdd3351",
   "metadata": {},
   "outputs": [
    {
     "data": {
      "text/html": [
       "<div>\n",
       "<style scoped>\n",
       "    .dataframe tbody tr th:only-of-type {\n",
       "        vertical-align: middle;\n",
       "    }\n",
       "\n",
       "    .dataframe tbody tr th {\n",
       "        vertical-align: top;\n",
       "    }\n",
       "\n",
       "    .dataframe thead th {\n",
       "        text-align: right;\n",
       "    }\n",
       "</style>\n",
       "<table border=\"1\" class=\"dataframe\">\n",
       "  <thead>\n",
       "    <tr style=\"text-align: right;\">\n",
       "      <th></th>\n",
       "      <th>id</th>\n",
       "      <th>name</th>\n",
       "      <th>cnt</th>\n",
       "    </tr>\n",
       "  </thead>\n",
       "  <tbody>\n",
       "    <tr>\n",
       "      <th>0</th>\n",
       "      <td>1</td>\n",
       "      <td>a</td>\n",
       "      <td>2</td>\n",
       "    </tr>\n",
       "    <tr>\n",
       "      <th>1</th>\n",
       "      <td>2</td>\n",
       "      <td>b</td>\n",
       "      <td>1</td>\n",
       "    </tr>\n",
       "  </tbody>\n",
       "</table>\n",
       "</div>"
      ],
      "text/plain": [
       "   id name  cnt\n",
       "0   1    a    2\n",
       "1   2    b    1"
      ]
     },
     "execution_count": 116,
     "metadata": {},
     "output_type": "execute_result"
    }
   ],
   "source": [
    "sql = '''\n",
    "select t.id, t.name, count(1) as cnt\n",
    "from\n",
    "dupl_test t\n",
    "group by t.id, t.name\n",
    "'''\n",
    "select(sql)"
   ]
  },
  {
   "cell_type": "code",
   "execution_count": 119,
   "id": "eb5ac53b",
   "metadata": {},
   "outputs": [
    {
     "data": {
      "text/html": [
       "<div>\n",
       "<style scoped>\n",
       "    .dataframe tbody tr th:only-of-type {\n",
       "        vertical-align: middle;\n",
       "    }\n",
       "\n",
       "    .dataframe tbody tr th {\n",
       "        vertical-align: top;\n",
       "    }\n",
       "\n",
       "    .dataframe thead th {\n",
       "        text-align: right;\n",
       "    }\n",
       "</style>\n",
       "<table border=\"1\" class=\"dataframe\">\n",
       "  <thead>\n",
       "    <tr style=\"text-align: right;\">\n",
       "      <th></th>\n",
       "      <th>id</th>\n",
       "      <th>name</th>\n",
       "      <th>cnt</th>\n",
       "    </tr>\n",
       "  </thead>\n",
       "  <tbody>\n",
       "    <tr>\n",
       "      <th>0</th>\n",
       "      <td>1</td>\n",
       "      <td>a</td>\n",
       "      <td>2</td>\n",
       "    </tr>\n",
       "  </tbody>\n",
       "</table>\n",
       "</div>"
      ],
      "text/plain": [
       "   id name  cnt\n",
       "0   1    a    2"
      ]
     },
     "execution_count": 119,
     "metadata": {},
     "output_type": "execute_result"
    }
   ],
   "source": [
    "sql = '''\n",
    "select \n",
    "    t.id, t.name, count(1) as cnt\n",
    "from\n",
    "    dupl_test t\n",
    "group by \n",
    "    t.id, t.name\n",
    "having cnt > 1\n",
    "'''\n",
    "select(sql)"
   ]
  },
  {
   "cell_type": "code",
   "execution_count": 120,
   "id": "b6a7d258",
   "metadata": {},
   "outputs": [],
   "source": [
    "t = pd.DataFrame({'id':[1,1,2,2,3],\n",
    "                 'name':['a', 'b', 'c', 'd', 'e']})"
   ]
  },
  {
   "cell_type": "code",
   "execution_count": 121,
   "id": "2f153ccd",
   "metadata": {
    "scrolled": true
   },
   "outputs": [
    {
     "data": {
      "text/html": [
       "<div>\n",
       "<style scoped>\n",
       "    .dataframe tbody tr th:only-of-type {\n",
       "        vertical-align: middle;\n",
       "    }\n",
       "\n",
       "    .dataframe tbody tr th {\n",
       "        vertical-align: top;\n",
       "    }\n",
       "\n",
       "    .dataframe thead th {\n",
       "        text-align: right;\n",
       "    }\n",
       "</style>\n",
       "<table border=\"1\" class=\"dataframe\">\n",
       "  <thead>\n",
       "    <tr style=\"text-align: right;\">\n",
       "      <th></th>\n",
       "      <th>id</th>\n",
       "      <th>name</th>\n",
       "    </tr>\n",
       "  </thead>\n",
       "  <tbody>\n",
       "    <tr>\n",
       "      <th>0</th>\n",
       "      <td>1</td>\n",
       "      <td>a</td>\n",
       "    </tr>\n",
       "    <tr>\n",
       "      <th>1</th>\n",
       "      <td>1</td>\n",
       "      <td>b</td>\n",
       "    </tr>\n",
       "    <tr>\n",
       "      <th>2</th>\n",
       "      <td>2</td>\n",
       "      <td>c</td>\n",
       "    </tr>\n",
       "    <tr>\n",
       "      <th>3</th>\n",
       "      <td>2</td>\n",
       "      <td>d</td>\n",
       "    </tr>\n",
       "    <tr>\n",
       "      <th>4</th>\n",
       "      <td>3</td>\n",
       "      <td>e</td>\n",
       "    </tr>\n",
       "  </tbody>\n",
       "</table>\n",
       "</div>"
      ],
      "text/plain": [
       "   id name\n",
       "0   1    a\n",
       "1   1    b\n",
       "2   2    c\n",
       "3   2    d\n",
       "4   3    e"
      ]
     },
     "execution_count": 121,
     "metadata": {},
     "output_type": "execute_result"
    }
   ],
   "source": [
    "t"
   ]
  },
  {
   "cell_type": "code",
   "execution_count": 122,
   "id": "fa6b4984",
   "metadata": {},
   "outputs": [],
   "source": [
    "t=t.to_sql('dupl_test2',con,index=False,if_exists='replace')"
   ]
  },
  {
   "cell_type": "code",
   "execution_count": 123,
   "id": "23a9023b",
   "metadata": {},
   "outputs": [
    {
     "data": {
      "text/html": [
       "<div>\n",
       "<style scoped>\n",
       "    .dataframe tbody tr th:only-of-type {\n",
       "        vertical-align: middle;\n",
       "    }\n",
       "\n",
       "    .dataframe tbody tr th {\n",
       "        vertical-align: top;\n",
       "    }\n",
       "\n",
       "    .dataframe thead th {\n",
       "        text-align: right;\n",
       "    }\n",
       "</style>\n",
       "<table border=\"1\" class=\"dataframe\">\n",
       "  <thead>\n",
       "    <tr style=\"text-align: right;\">\n",
       "      <th></th>\n",
       "      <th>id</th>\n",
       "      <th>name</th>\n",
       "    </tr>\n",
       "  </thead>\n",
       "  <tbody>\n",
       "    <tr>\n",
       "      <th>0</th>\n",
       "      <td>1</td>\n",
       "      <td>a</td>\n",
       "    </tr>\n",
       "    <tr>\n",
       "      <th>1</th>\n",
       "      <td>1</td>\n",
       "      <td>b</td>\n",
       "    </tr>\n",
       "    <tr>\n",
       "      <th>2</th>\n",
       "      <td>2</td>\n",
       "      <td>c</td>\n",
       "    </tr>\n",
       "    <tr>\n",
       "      <th>3</th>\n",
       "      <td>2</td>\n",
       "      <td>d</td>\n",
       "    </tr>\n",
       "    <tr>\n",
       "      <th>4</th>\n",
       "      <td>3</td>\n",
       "      <td>e</td>\n",
       "    </tr>\n",
       "  </tbody>\n",
       "</table>\n",
       "</div>"
      ],
      "text/plain": [
       "   id name\n",
       "0   1    a\n",
       "1   1    b\n",
       "2   2    c\n",
       "3   2    d\n",
       "4   3    e"
      ]
     },
     "execution_count": 123,
     "metadata": {},
     "output_type": "execute_result"
    }
   ],
   "source": [
    "sql = '''\n",
    "select *\n",
    "from\n",
    "dupl_test2 t\n",
    "\n",
    "'''\n",
    "select(sql)"
   ]
  },
  {
   "cell_type": "code",
   "execution_count": 124,
   "id": "6324039b",
   "metadata": {},
   "outputs": [
    {
     "data": {
      "text/html": [
       "<div>\n",
       "<style scoped>\n",
       "    .dataframe tbody tr th:only-of-type {\n",
       "        vertical-align: middle;\n",
       "    }\n",
       "\n",
       "    .dataframe tbody tr th {\n",
       "        vertical-align: top;\n",
       "    }\n",
       "\n",
       "    .dataframe thead th {\n",
       "        text-align: right;\n",
       "    }\n",
       "</style>\n",
       "<table border=\"1\" class=\"dataframe\">\n",
       "  <thead>\n",
       "    <tr style=\"text-align: right;\">\n",
       "      <th></th>\n",
       "      <th>id</th>\n",
       "      <th>name</th>\n",
       "      <th>cnt</th>\n",
       "    </tr>\n",
       "  </thead>\n",
       "  <tbody>\n",
       "  </tbody>\n",
       "</table>\n",
       "</div>"
      ],
      "text/plain": [
       "Empty DataFrame\n",
       "Columns: [id, name, cnt]\n",
       "Index: []"
      ]
     },
     "execution_count": 124,
     "metadata": {},
     "output_type": "execute_result"
    }
   ],
   "source": [
    "sql = '''\n",
    "select \n",
    "    t.id, t.name, count(1) as cnt\n",
    "from\n",
    "    dupl_test2 t\n",
    "group by \n",
    "    t.id, t.name\n",
    "having cnt > 1\n",
    "'''\n",
    "select(sql)"
   ]
  },
  {
   "cell_type": "code",
   "execution_count": 126,
   "id": "7f687171",
   "metadata": {},
   "outputs": [],
   "source": [
    "# Найдем повторяющиеся id"
   ]
  },
  {
   "cell_type": "code",
   "execution_count": 127,
   "id": "a40f4b9c",
   "metadata": {},
   "outputs": [
    {
     "data": {
      "text/html": [
       "<div>\n",
       "<style scoped>\n",
       "    .dataframe tbody tr th:only-of-type {\n",
       "        vertical-align: middle;\n",
       "    }\n",
       "\n",
       "    .dataframe tbody tr th {\n",
       "        vertical-align: top;\n",
       "    }\n",
       "\n",
       "    .dataframe thead th {\n",
       "        text-align: right;\n",
       "    }\n",
       "</style>\n",
       "<table border=\"1\" class=\"dataframe\">\n",
       "  <thead>\n",
       "    <tr style=\"text-align: right;\">\n",
       "      <th></th>\n",
       "      <th>id</th>\n",
       "      <th>cnt</th>\n",
       "    </tr>\n",
       "  </thead>\n",
       "  <tbody>\n",
       "    <tr>\n",
       "      <th>0</th>\n",
       "      <td>1</td>\n",
       "      <td>2</td>\n",
       "    </tr>\n",
       "    <tr>\n",
       "      <th>1</th>\n",
       "      <td>2</td>\n",
       "      <td>2</td>\n",
       "    </tr>\n",
       "  </tbody>\n",
       "</table>\n",
       "</div>"
      ],
      "text/plain": [
       "   id  cnt\n",
       "0   1    2\n",
       "1   2    2"
      ]
     },
     "execution_count": 127,
     "metadata": {},
     "output_type": "execute_result"
    }
   ],
   "source": [
    "sql = '''\n",
    "select \n",
    "    t.id, count(1) as cnt\n",
    "from\n",
    "    dupl_test2 t\n",
    "group by \n",
    "    t.id\n",
    "having cnt > 1\n",
    "'''\n",
    "select(sql)"
   ]
  },
  {
   "cell_type": "code",
   "execution_count": 128,
   "id": "22ec832a",
   "metadata": {},
   "outputs": [
    {
     "data": {
      "text/html": [
       "<div>\n",
       "<style scoped>\n",
       "    .dataframe tbody tr th:only-of-type {\n",
       "        vertical-align: middle;\n",
       "    }\n",
       "\n",
       "    .dataframe tbody tr th {\n",
       "        vertical-align: top;\n",
       "    }\n",
       "\n",
       "    .dataframe thead th {\n",
       "        text-align: right;\n",
       "    }\n",
       "</style>\n",
       "<table border=\"1\" class=\"dataframe\">\n",
       "  <thead>\n",
       "    <tr style=\"text-align: right;\">\n",
       "      <th></th>\n",
       "      <th>id</th>\n",
       "      <th>name</th>\n",
       "    </tr>\n",
       "  </thead>\n",
       "  <tbody>\n",
       "    <tr>\n",
       "      <th>0</th>\n",
       "      <td>1</td>\n",
       "      <td>a</td>\n",
       "    </tr>\n",
       "    <tr>\n",
       "      <th>1</th>\n",
       "      <td>1</td>\n",
       "      <td>b</td>\n",
       "    </tr>\n",
       "    <tr>\n",
       "      <th>2</th>\n",
       "      <td>2</td>\n",
       "      <td>c</td>\n",
       "    </tr>\n",
       "    <tr>\n",
       "      <th>3</th>\n",
       "      <td>2</td>\n",
       "      <td>d</td>\n",
       "    </tr>\n",
       "  </tbody>\n",
       "</table>\n",
       "</div>"
      ],
      "text/plain": [
       "   id name\n",
       "0   1    a\n",
       "1   1    b\n",
       "2   2    c\n",
       "3   2    d"
      ]
     },
     "execution_count": 128,
     "metadata": {},
     "output_type": "execute_result"
    }
   ],
   "source": [
    "sql = '''\n",
    "select *\n",
    "from\n",
    "dupl_test2 t\n",
    "where t.id in(1,2)\n",
    "\n",
    "'''\n",
    "select(sql)"
   ]
  },
  {
   "cell_type": "code",
   "execution_count": 130,
   "id": "0cf423af",
   "metadata": {},
   "outputs": [
    {
     "data": {
      "text/html": [
       "<div>\n",
       "<style scoped>\n",
       "    .dataframe tbody tr th:only-of-type {\n",
       "        vertical-align: middle;\n",
       "    }\n",
       "\n",
       "    .dataframe tbody tr th {\n",
       "        vertical-align: top;\n",
       "    }\n",
       "\n",
       "    .dataframe thead th {\n",
       "        text-align: right;\n",
       "    }\n",
       "</style>\n",
       "<table border=\"1\" class=\"dataframe\">\n",
       "  <thead>\n",
       "    <tr style=\"text-align: right;\">\n",
       "      <th></th>\n",
       "      <th>id</th>\n",
       "    </tr>\n",
       "  </thead>\n",
       "  <tbody>\n",
       "    <tr>\n",
       "      <th>0</th>\n",
       "      <td>1</td>\n",
       "    </tr>\n",
       "    <tr>\n",
       "      <th>1</th>\n",
       "      <td>2</td>\n",
       "    </tr>\n",
       "  </tbody>\n",
       "</table>\n",
       "</div>"
      ],
      "text/plain": [
       "   id\n",
       "0   1\n",
       "1   2"
      ]
     },
     "execution_count": 130,
     "metadata": {},
     "output_type": "execute_result"
    }
   ],
   "source": [
    "sql = '''\n",
    "select \n",
    "    t.id\n",
    "from\n",
    "    dupl_test2 t\n",
    "group by \n",
    "    t.id\n",
    "having count(1) > 1\n",
    "'''\n",
    "select(sql)"
   ]
  },
  {
   "cell_type": "code",
   "execution_count": 131,
   "id": "824b0e82",
   "metadata": {
    "scrolled": true
   },
   "outputs": [
    {
     "data": {
      "text/html": [
       "<div>\n",
       "<style scoped>\n",
       "    .dataframe tbody tr th:only-of-type {\n",
       "        vertical-align: middle;\n",
       "    }\n",
       "\n",
       "    .dataframe tbody tr th {\n",
       "        vertical-align: top;\n",
       "    }\n",
       "\n",
       "    .dataframe thead th {\n",
       "        text-align: right;\n",
       "    }\n",
       "</style>\n",
       "<table border=\"1\" class=\"dataframe\">\n",
       "  <thead>\n",
       "    <tr style=\"text-align: right;\">\n",
       "      <th></th>\n",
       "      <th>id</th>\n",
       "      <th>name</th>\n",
       "    </tr>\n",
       "  </thead>\n",
       "  <tbody>\n",
       "    <tr>\n",
       "      <th>0</th>\n",
       "      <td>1</td>\n",
       "      <td>a</td>\n",
       "    </tr>\n",
       "    <tr>\n",
       "      <th>1</th>\n",
       "      <td>1</td>\n",
       "      <td>b</td>\n",
       "    </tr>\n",
       "    <tr>\n",
       "      <th>2</th>\n",
       "      <td>2</td>\n",
       "      <td>c</td>\n",
       "    </tr>\n",
       "    <tr>\n",
       "      <th>3</th>\n",
       "      <td>2</td>\n",
       "      <td>d</td>\n",
       "    </tr>\n",
       "  </tbody>\n",
       "</table>\n",
       "</div>"
      ],
      "text/plain": [
       "   id name\n",
       "0   1    a\n",
       "1   1    b\n",
       "2   2    c\n",
       "3   2    d"
      ]
     },
     "execution_count": 131,
     "metadata": {},
     "output_type": "execute_result"
    }
   ],
   "source": [
    "sql = '''\n",
    "select *\n",
    "from\n",
    "dupl_test2 t\n",
    "where t.id in(  select t.id\n",
    "                from\n",
    "                dupl_test2 t\n",
    "                group by t.id\n",
    "                having count(1) > 1)\n",
    "\n",
    "'''\n",
    "select(sql)"
   ]
  },
  {
   "cell_type": "code",
   "execution_count": 133,
   "id": "36c5c627",
   "metadata": {},
   "outputs": [],
   "source": [
    "# Аггрегация договоров по месяцам"
   ]
  },
  {
   "cell_type": "code",
   "execution_count": 132,
   "id": "25b82e92",
   "metadata": {},
   "outputs": [
    {
     "data": {
      "text/html": [
       "<div>\n",
       "<style scoped>\n",
       "    .dataframe tbody tr th:only-of-type {\n",
       "        vertical-align: middle;\n",
       "    }\n",
       "\n",
       "    .dataframe tbody tr th {\n",
       "        vertical-align: top;\n",
       "    }\n",
       "\n",
       "    .dataframe thead th {\n",
       "        text-align: right;\n",
       "    }\n",
       "</style>\n",
       "<table border=\"1\" class=\"dataframe\">\n",
       "  <thead>\n",
       "    <tr style=\"text-align: right;\">\n",
       "      <th></th>\n",
       "      <th>age</th>\n",
       "      <th>sex</th>\n",
       "      <th>job</th>\n",
       "      <th>housing</th>\n",
       "      <th>saving_accounts</th>\n",
       "      <th>checking_account</th>\n",
       "      <th>credit_amount</th>\n",
       "      <th>duration</th>\n",
       "      <th>purpose</th>\n",
       "      <th>default</th>\n",
       "      <th>contract_dt</th>\n",
       "      <th>client_id</th>\n",
       "    </tr>\n",
       "  </thead>\n",
       "  <tbody>\n",
       "    <tr>\n",
       "      <th>0</th>\n",
       "      <td>33</td>\n",
       "      <td>male</td>\n",
       "      <td>2</td>\n",
       "      <td>own</td>\n",
       "      <td>None</td>\n",
       "      <td>None</td>\n",
       "      <td>3074</td>\n",
       "      <td>9</td>\n",
       "      <td>radio/TV</td>\n",
       "      <td>0</td>\n",
       "      <td>2008-06-29 18:52:00</td>\n",
       "      <td>210</td>\n",
       "    </tr>\n",
       "    <tr>\n",
       "      <th>1</th>\n",
       "      <td>43</td>\n",
       "      <td>male</td>\n",
       "      <td>1</td>\n",
       "      <td>own</td>\n",
       "      <td>little</td>\n",
       "      <td>little</td>\n",
       "      <td>1344</td>\n",
       "      <td>12</td>\n",
       "      <td>car</td>\n",
       "      <td>0</td>\n",
       "      <td>2007-05-20 18:30:19</td>\n",
       "      <td>929</td>\n",
       "    </tr>\n",
       "    <tr>\n",
       "      <th>2</th>\n",
       "      <td>52</td>\n",
       "      <td>male</td>\n",
       "      <td>2</td>\n",
       "      <td>own</td>\n",
       "      <td>quite rich</td>\n",
       "      <td>None</td>\n",
       "      <td>936</td>\n",
       "      <td>9</td>\n",
       "      <td>education</td>\n",
       "      <td>0</td>\n",
       "      <td>2008-04-27 08:23:07</td>\n",
       "      <td>200</td>\n",
       "    </tr>\n",
       "    <tr>\n",
       "      <th>3</th>\n",
       "      <td>35</td>\n",
       "      <td>female</td>\n",
       "      <td>3</td>\n",
       "      <td>own</td>\n",
       "      <td>little</td>\n",
       "      <td>None</td>\n",
       "      <td>1393</td>\n",
       "      <td>11</td>\n",
       "      <td>car</td>\n",
       "      <td>0</td>\n",
       "      <td>2007-05-06 10:58:22</td>\n",
       "      <td>45</td>\n",
       "    </tr>\n",
       "    <tr>\n",
       "      <th>4</th>\n",
       "      <td>28</td>\n",
       "      <td>male</td>\n",
       "      <td>2</td>\n",
       "      <td>own</td>\n",
       "      <td>little</td>\n",
       "      <td>None</td>\n",
       "      <td>776</td>\n",
       "      <td>12</td>\n",
       "      <td>radio/TV</td>\n",
       "      <td>0</td>\n",
       "      <td>2007-07-21 13:22:14</td>\n",
       "      <td>358</td>\n",
       "    </tr>\n",
       "    <tr>\n",
       "      <th>...</th>\n",
       "      <td>...</td>\n",
       "      <td>...</td>\n",
       "      <td>...</td>\n",
       "      <td>...</td>\n",
       "      <td>...</td>\n",
       "      <td>...</td>\n",
       "      <td>...</td>\n",
       "      <td>...</td>\n",
       "      <td>...</td>\n",
       "      <td>...</td>\n",
       "      <td>...</td>\n",
       "      <td>...</td>\n",
       "    </tr>\n",
       "    <tr>\n",
       "      <th>995</th>\n",
       "      <td>65</td>\n",
       "      <td>male</td>\n",
       "      <td>2</td>\n",
       "      <td>free</td>\n",
       "      <td>little</td>\n",
       "      <td>little</td>\n",
       "      <td>2600</td>\n",
       "      <td>18</td>\n",
       "      <td>radio/TV</td>\n",
       "      <td>1</td>\n",
       "      <td>2007-12-16 20:17:19</td>\n",
       "      <td>624</td>\n",
       "    </tr>\n",
       "    <tr>\n",
       "      <th>996</th>\n",
       "      <td>30</td>\n",
       "      <td>male</td>\n",
       "      <td>3</td>\n",
       "      <td>own</td>\n",
       "      <td>little</td>\n",
       "      <td>moderate</td>\n",
       "      <td>4455</td>\n",
       "      <td>36</td>\n",
       "      <td>business</td>\n",
       "      <td>1</td>\n",
       "      <td>2007-07-12 14:08:58</td>\n",
       "      <td>181</td>\n",
       "    </tr>\n",
       "    <tr>\n",
       "      <th>997</th>\n",
       "      <td>33</td>\n",
       "      <td>male</td>\n",
       "      <td>2</td>\n",
       "      <td>own</td>\n",
       "      <td>little</td>\n",
       "      <td>moderate</td>\n",
       "      <td>6403</td>\n",
       "      <td>24</td>\n",
       "      <td>radio/TV</td>\n",
       "      <td>0</td>\n",
       "      <td>2008-04-08 03:24:26</td>\n",
       "      <td>730</td>\n",
       "    </tr>\n",
       "    <tr>\n",
       "      <th>998</th>\n",
       "      <td>29</td>\n",
       "      <td>female</td>\n",
       "      <td>2</td>\n",
       "      <td>own</td>\n",
       "      <td>None</td>\n",
       "      <td>None</td>\n",
       "      <td>5003</td>\n",
       "      <td>21</td>\n",
       "      <td>car</td>\n",
       "      <td>1</td>\n",
       "      <td>2007-11-29 15:51:45</td>\n",
       "      <td>557</td>\n",
       "    </tr>\n",
       "    <tr>\n",
       "      <th>999</th>\n",
       "      <td>44</td>\n",
       "      <td>male</td>\n",
       "      <td>2</td>\n",
       "      <td>own</td>\n",
       "      <td>moderate</td>\n",
       "      <td>moderate</td>\n",
       "      <td>1804</td>\n",
       "      <td>12</td>\n",
       "      <td>car</td>\n",
       "      <td>0</td>\n",
       "      <td>2007-08-14 09:05:33</td>\n",
       "      <td>23</td>\n",
       "    </tr>\n",
       "  </tbody>\n",
       "</table>\n",
       "<p>1000 rows × 12 columns</p>\n",
       "</div>"
      ],
      "text/plain": [
       "     age     sex  job housing saving_accounts checking_account  credit_amount  \\\n",
       "0     33    male    2     own            None             None           3074   \n",
       "1     43    male    1     own          little           little           1344   \n",
       "2     52    male    2     own      quite rich             None            936   \n",
       "3     35  female    3     own          little             None           1393   \n",
       "4     28    male    2     own          little             None            776   \n",
       "..   ...     ...  ...     ...             ...              ...            ...   \n",
       "995   65    male    2    free          little           little           2600   \n",
       "996   30    male    3     own          little         moderate           4455   \n",
       "997   33    male    2     own          little         moderate           6403   \n",
       "998   29  female    2     own            None             None           5003   \n",
       "999   44    male    2     own        moderate         moderate           1804   \n",
       "\n",
       "     duration    purpose  default          contract_dt  client_id  \n",
       "0           9   radio/TV        0  2008-06-29 18:52:00        210  \n",
       "1          12        car        0  2007-05-20 18:30:19        929  \n",
       "2           9  education        0  2008-04-27 08:23:07        200  \n",
       "3          11        car        0  2007-05-06 10:58:22         45  \n",
       "4          12   radio/TV        0  2007-07-21 13:22:14        358  \n",
       "..        ...        ...      ...                  ...        ...  \n",
       "995        18   radio/TV        1  2007-12-16 20:17:19        624  \n",
       "996        36   business        1  2007-07-12 14:08:58        181  \n",
       "997        24   radio/TV        0  2008-04-08 03:24:26        730  \n",
       "998        21        car        1  2007-11-29 15:51:45        557  \n",
       "999        12        car        0  2007-08-14 09:05:33         23  \n",
       "\n",
       "[1000 rows x 12 columns]"
      ]
     },
     "execution_count": 132,
     "metadata": {},
     "output_type": "execute_result"
    }
   ],
   "source": [
    "sql = '''\n",
    "select *\n",
    "from\n",
    "german_credit\n",
    "'''\n",
    "select(sql)"
   ]
  },
  {
   "cell_type": "code",
   "execution_count": 141,
   "id": "e743ece0",
   "metadata": {},
   "outputs": [
    {
     "data": {
      "text/html": [
       "<div>\n",
       "<style scoped>\n",
       "    .dataframe tbody tr th:only-of-type {\n",
       "        vertical-align: middle;\n",
       "    }\n",
       "\n",
       "    .dataframe tbody tr th {\n",
       "        vertical-align: top;\n",
       "    }\n",
       "\n",
       "    .dataframe thead th {\n",
       "        text-align: right;\n",
       "    }\n",
       "</style>\n",
       "<table border=\"1\" class=\"dataframe\">\n",
       "  <thead>\n",
       "    <tr style=\"text-align: right;\">\n",
       "      <th></th>\n",
       "      <th>month</th>\n",
       "      <th>count(1)</th>\n",
       "      <th>credit_amount_sum</th>\n",
       "      <th>credit_amount_avg</th>\n",
       "      <th>client_id_unique</th>\n",
       "    </tr>\n",
       "  </thead>\n",
       "  <tbody>\n",
       "    <tr>\n",
       "      <th>0</th>\n",
       "      <td>2007-05-01</td>\n",
       "      <td>81</td>\n",
       "      <td>207663</td>\n",
       "      <td>2563.74</td>\n",
       "      <td>81</td>\n",
       "    </tr>\n",
       "    <tr>\n",
       "      <th>1</th>\n",
       "      <td>2007-06-01</td>\n",
       "      <td>74</td>\n",
       "      <td>239594</td>\n",
       "      <td>3237.76</td>\n",
       "      <td>74</td>\n",
       "    </tr>\n",
       "    <tr>\n",
       "      <th>2</th>\n",
       "      <td>2007-07-01</td>\n",
       "      <td>71</td>\n",
       "      <td>224333</td>\n",
       "      <td>3159.62</td>\n",
       "      <td>71</td>\n",
       "    </tr>\n",
       "    <tr>\n",
       "      <th>3</th>\n",
       "      <td>2007-08-01</td>\n",
       "      <td>57</td>\n",
       "      <td>178569</td>\n",
       "      <td>3132.79</td>\n",
       "      <td>57</td>\n",
       "    </tr>\n",
       "    <tr>\n",
       "      <th>4</th>\n",
       "      <td>2007-09-01</td>\n",
       "      <td>58</td>\n",
       "      <td>186909</td>\n",
       "      <td>3222.57</td>\n",
       "      <td>58</td>\n",
       "    </tr>\n",
       "    <tr>\n",
       "      <th>5</th>\n",
       "      <td>2007-10-01</td>\n",
       "      <td>70</td>\n",
       "      <td>188534</td>\n",
       "      <td>2693.34</td>\n",
       "      <td>70</td>\n",
       "    </tr>\n",
       "    <tr>\n",
       "      <th>6</th>\n",
       "      <td>2007-11-01</td>\n",
       "      <td>87</td>\n",
       "      <td>300504</td>\n",
       "      <td>3454.07</td>\n",
       "      <td>87</td>\n",
       "    </tr>\n",
       "    <tr>\n",
       "      <th>7</th>\n",
       "      <td>2007-12-01</td>\n",
       "      <td>77</td>\n",
       "      <td>273973</td>\n",
       "      <td>3558.09</td>\n",
       "      <td>77</td>\n",
       "    </tr>\n",
       "    <tr>\n",
       "      <th>8</th>\n",
       "      <td>2008-01-01</td>\n",
       "      <td>93</td>\n",
       "      <td>288080</td>\n",
       "      <td>3097.63</td>\n",
       "      <td>93</td>\n",
       "    </tr>\n",
       "    <tr>\n",
       "      <th>9</th>\n",
       "      <td>2008-02-01</td>\n",
       "      <td>55</td>\n",
       "      <td>211128</td>\n",
       "      <td>3838.69</td>\n",
       "      <td>55</td>\n",
       "    </tr>\n",
       "    <tr>\n",
       "      <th>10</th>\n",
       "      <td>2008-03-01</td>\n",
       "      <td>63</td>\n",
       "      <td>204944</td>\n",
       "      <td>3253.08</td>\n",
       "      <td>63</td>\n",
       "    </tr>\n",
       "    <tr>\n",
       "      <th>11</th>\n",
       "      <td>2008-04-01</td>\n",
       "      <td>85</td>\n",
       "      <td>305409</td>\n",
       "      <td>3593.05</td>\n",
       "      <td>85</td>\n",
       "    </tr>\n",
       "    <tr>\n",
       "      <th>12</th>\n",
       "      <td>2008-05-01</td>\n",
       "      <td>67</td>\n",
       "      <td>263043</td>\n",
       "      <td>3926.01</td>\n",
       "      <td>67</td>\n",
       "    </tr>\n",
       "    <tr>\n",
       "      <th>13</th>\n",
       "      <td>2008-06-01</td>\n",
       "      <td>62</td>\n",
       "      <td>198575</td>\n",
       "      <td>3202.82</td>\n",
       "      <td>62</td>\n",
       "    </tr>\n",
       "  </tbody>\n",
       "</table>\n",
       "</div>"
      ],
      "text/plain": [
       "         month  count(1)  credit_amount_sum  credit_amount_avg  \\\n",
       "0   2007-05-01        81             207663            2563.74   \n",
       "1   2007-06-01        74             239594            3237.76   \n",
       "2   2007-07-01        71             224333            3159.62   \n",
       "3   2007-08-01        57             178569            3132.79   \n",
       "4   2007-09-01        58             186909            3222.57   \n",
       "5   2007-10-01        70             188534            2693.34   \n",
       "6   2007-11-01        87             300504            3454.07   \n",
       "7   2007-12-01        77             273973            3558.09   \n",
       "8   2008-01-01        93             288080            3097.63   \n",
       "9   2008-02-01        55             211128            3838.69   \n",
       "10  2008-03-01        63             204944            3253.08   \n",
       "11  2008-04-01        85             305409            3593.05   \n",
       "12  2008-05-01        67             263043            3926.01   \n",
       "13  2008-06-01        62             198575            3202.82   \n",
       "\n",
       "    client_id_unique  \n",
       "0                 81  \n",
       "1                 74  \n",
       "2                 71  \n",
       "3                 57  \n",
       "4                 58  \n",
       "5                 70  \n",
       "6                 87  \n",
       "7                 77  \n",
       "8                 93  \n",
       "9                 55  \n",
       "10                63  \n",
       "11                85  \n",
       "12                67  \n",
       "13                62  "
      ]
     },
     "execution_count": 141,
     "metadata": {},
     "output_type": "execute_result"
    }
   ],
   "source": [
    "sql = '''\n",
    "select \n",
    "    date(t.contract_dt,'start of month') as month,\n",
    "    count(1),\n",
    "    sum(t.credit_amount) as credit_amount_sum,\n",
    "    round(avg(t.credit_amount),2) as credit_amount_avg,\n",
    "    count(distinct t.client_id) as client_id_unique\n",
    "from\n",
    "    german_credit t\n",
    "group by \n",
    "    date(t.contract_dt,'start of month')\n",
    "order by \n",
    "    date(t.contract_dt,'start of month')\n",
    "'''\n",
    "select(sql)"
   ]
  },
  {
   "cell_type": "markdown",
   "id": "e52e0875",
   "metadata": {},
   "source": [
    "# Intervals"
   ]
  },
  {
   "cell_type": "code",
   "execution_count": 148,
   "id": "b6e26a0e",
   "metadata": {},
   "outputs": [
    {
     "data": {
      "text/html": [
       "<div>\n",
       "<style scoped>\n",
       "    .dataframe tbody tr th:only-of-type {\n",
       "        vertical-align: middle;\n",
       "    }\n",
       "\n",
       "    .dataframe tbody tr th {\n",
       "        vertical-align: top;\n",
       "    }\n",
       "\n",
       "    .dataframe thead th {\n",
       "        text-align: right;\n",
       "    }\n",
       "</style>\n",
       "<table border=\"1\" class=\"dataframe\">\n",
       "  <thead>\n",
       "    <tr style=\"text-align: right;\">\n",
       "      <th></th>\n",
       "      <th>credit_amount</th>\n",
       "      <th>credeit_amount_bin</th>\n",
       "    </tr>\n",
       "  </thead>\n",
       "  <tbody>\n",
       "    <tr>\n",
       "      <th>0</th>\n",
       "      <td>3074</td>\n",
       "      <td>4. &gt;=3000</td>\n",
       "    </tr>\n",
       "    <tr>\n",
       "      <th>1</th>\n",
       "      <td>1344</td>\n",
       "      <td>2. 1000-2000</td>\n",
       "    </tr>\n",
       "    <tr>\n",
       "      <th>2</th>\n",
       "      <td>936</td>\n",
       "      <td>1. &lt;1000</td>\n",
       "    </tr>\n",
       "    <tr>\n",
       "      <th>3</th>\n",
       "      <td>1393</td>\n",
       "      <td>2. 1000-2000</td>\n",
       "    </tr>\n",
       "    <tr>\n",
       "      <th>4</th>\n",
       "      <td>776</td>\n",
       "      <td>1. &lt;1000</td>\n",
       "    </tr>\n",
       "    <tr>\n",
       "      <th>...</th>\n",
       "      <td>...</td>\n",
       "      <td>...</td>\n",
       "    </tr>\n",
       "    <tr>\n",
       "      <th>995</th>\n",
       "      <td>2600</td>\n",
       "      <td>3. 2000-3000</td>\n",
       "    </tr>\n",
       "    <tr>\n",
       "      <th>996</th>\n",
       "      <td>4455</td>\n",
       "      <td>4. &gt;=3000</td>\n",
       "    </tr>\n",
       "    <tr>\n",
       "      <th>997</th>\n",
       "      <td>6403</td>\n",
       "      <td>4. &gt;=3000</td>\n",
       "    </tr>\n",
       "    <tr>\n",
       "      <th>998</th>\n",
       "      <td>5003</td>\n",
       "      <td>4. &gt;=3000</td>\n",
       "    </tr>\n",
       "    <tr>\n",
       "      <th>999</th>\n",
       "      <td>1804</td>\n",
       "      <td>2. 1000-2000</td>\n",
       "    </tr>\n",
       "  </tbody>\n",
       "</table>\n",
       "<p>1000 rows × 2 columns</p>\n",
       "</div>"
      ],
      "text/plain": [
       "     credit_amount credeit_amount_bin\n",
       "0             3074          4. >=3000\n",
       "1             1344       2. 1000-2000\n",
       "2              936           1. <1000\n",
       "3             1393       2. 1000-2000\n",
       "4              776           1. <1000\n",
       "..             ...                ...\n",
       "995           2600       3. 2000-3000\n",
       "996           4455          4. >=3000\n",
       "997           6403          4. >=3000\n",
       "998           5003          4. >=3000\n",
       "999           1804       2. 1000-2000\n",
       "\n",
       "[1000 rows x 2 columns]"
      ]
     },
     "execution_count": 148,
     "metadata": {},
     "output_type": "execute_result"
    }
   ],
   "source": [
    "sql = '''\n",
    "select \n",
    "    t.credit_amount,\n",
    "    case \n",
    "        when t.credit_amount < 1000 then '1. <1000'\n",
    "        when t.credit_amount < 2000 then '2. 1000-2000'\n",
    "        when t.credit_amount < 3000 then '3. 2000-3000'\n",
    "        when t.credit_amount >= 3000 then '4. >=3000'\n",
    "        else 'other' \n",
    "    end as credeit_amount_bin\n",
    "from \n",
    "    german_credit t\n",
    "\n",
    "'''\n",
    "select(sql)"
   ]
  },
  {
   "cell_type": "code",
   "execution_count": 154,
   "id": "3f269189",
   "metadata": {},
   "outputs": [
    {
     "data": {
      "text/html": [
       "<div>\n",
       "<style scoped>\n",
       "    .dataframe tbody tr th:only-of-type {\n",
       "        vertical-align: middle;\n",
       "    }\n",
       "\n",
       "    .dataframe tbody tr th {\n",
       "        vertical-align: top;\n",
       "    }\n",
       "\n",
       "    .dataframe thead th {\n",
       "        text-align: right;\n",
       "    }\n",
       "</style>\n",
       "<table border=\"1\" class=\"dataframe\">\n",
       "  <thead>\n",
       "    <tr style=\"text-align: right;\">\n",
       "      <th></th>\n",
       "      <th>credeit_amount_bin</th>\n",
       "      <th>credit_cnt</th>\n",
       "    </tr>\n",
       "  </thead>\n",
       "  <tbody>\n",
       "    <tr>\n",
       "      <th>0</th>\n",
       "      <td>1. &lt;1000</td>\n",
       "      <td>116</td>\n",
       "    </tr>\n",
       "    <tr>\n",
       "      <th>1</th>\n",
       "      <td>2. 1000-2000</td>\n",
       "      <td>316</td>\n",
       "    </tr>\n",
       "    <tr>\n",
       "      <th>2</th>\n",
       "      <td>3. 2000-3000</td>\n",
       "      <td>188</td>\n",
       "    </tr>\n",
       "    <tr>\n",
       "      <th>3</th>\n",
       "      <td>4. &gt;=3000</td>\n",
       "      <td>380</td>\n",
       "    </tr>\n",
       "  </tbody>\n",
       "</table>\n",
       "</div>"
      ],
      "text/plain": [
       "  credeit_amount_bin  credit_cnt\n",
       "0           1. <1000         116\n",
       "1       2. 1000-2000         316\n",
       "2       3. 2000-3000         188\n",
       "3          4. >=3000         380"
      ]
     },
     "execution_count": 154,
     "metadata": {},
     "output_type": "execute_result"
    }
   ],
   "source": [
    "sql = '''\n",
    "select\n",
    "    case \n",
    "        when t.credit_amount < 1000 then '1. <1000'\n",
    "        when t.credit_amount < 2000 then '2. 1000-2000'\n",
    "        when t.credit_amount < 3000 then '3. 2000-3000'\n",
    "        when t.credit_amount >= 3000 then '4. >=3000'\n",
    "        else 'other' \n",
    "    end as credeit_amount_bin,\n",
    "    count(1) as credit_cnt\n",
    "from german_credit t\n",
    "    group by \n",
    "        credeit_amount_bin\n",
    "'''\n",
    "select(sql)"
   ]
  },
  {
   "cell_type": "markdown",
   "id": "0a9ad3f4",
   "metadata": {},
   "source": [
    "# Pivot table"
   ]
  },
  {
   "cell_type": "code",
   "execution_count": 157,
   "id": "c4f54fac",
   "metadata": {},
   "outputs": [
    {
     "data": {
      "text/html": [
       "<div>\n",
       "<style scoped>\n",
       "    .dataframe tbody tr th:only-of-type {\n",
       "        vertical-align: middle;\n",
       "    }\n",
       "\n",
       "    .dataframe tbody tr th {\n",
       "        vertical-align: top;\n",
       "    }\n",
       "\n",
       "    .dataframe thead th {\n",
       "        text-align: right;\n",
       "    }\n",
       "</style>\n",
       "<table border=\"1\" class=\"dataframe\">\n",
       "  <thead>\n",
       "    <tr style=\"text-align: right;\">\n",
       "      <th></th>\n",
       "      <th>housing</th>\n",
       "      <th>cnt</th>\n",
       "    </tr>\n",
       "  </thead>\n",
       "  <tbody>\n",
       "    <tr>\n",
       "      <th>0</th>\n",
       "      <td>free</td>\n",
       "      <td>108</td>\n",
       "    </tr>\n",
       "    <tr>\n",
       "      <th>1</th>\n",
       "      <td>own</td>\n",
       "      <td>713</td>\n",
       "    </tr>\n",
       "    <tr>\n",
       "      <th>2</th>\n",
       "      <td>rent</td>\n",
       "      <td>179</td>\n",
       "    </tr>\n",
       "  </tbody>\n",
       "</table>\n",
       "</div>"
      ],
      "text/plain": [
       "  housing  cnt\n",
       "0    free  108\n",
       "1     own  713\n",
       "2    rent  179"
      ]
     },
     "execution_count": 157,
     "metadata": {},
     "output_type": "execute_result"
    }
   ],
   "source": [
    "sql = '''\n",
    "select\n",
    "    t.housing,\n",
    "    count(1) as cnt\n",
    "from german_credit t\n",
    "group by \n",
    "    t.housing\n",
    "\n",
    "'''\n",
    "select(sql)"
   ]
  },
  {
   "cell_type": "code",
   "execution_count": 163,
   "id": "357fdf33",
   "metadata": {},
   "outputs": [
    {
     "data": {
      "text/html": [
       "<div>\n",
       "<style scoped>\n",
       "    .dataframe tbody tr th:only-of-type {\n",
       "        vertical-align: middle;\n",
       "    }\n",
       "\n",
       "    .dataframe tbody tr th {\n",
       "        vertical-align: top;\n",
       "    }\n",
       "\n",
       "    .dataframe thead th {\n",
       "        text-align: right;\n",
       "    }\n",
       "</style>\n",
       "<table border=\"1\" class=\"dataframe\">\n",
       "  <thead>\n",
       "    <tr style=\"text-align: right;\">\n",
       "      <th></th>\n",
       "      <th>housing</th>\n",
       "      <th>female</th>\n",
       "      <th>male</th>\n",
       "      <th>cnt</th>\n",
       "    </tr>\n",
       "  </thead>\n",
       "  <tbody>\n",
       "    <tr>\n",
       "      <th>0</th>\n",
       "      <td>free</td>\n",
       "      <td>19</td>\n",
       "      <td>89</td>\n",
       "      <td>108</td>\n",
       "    </tr>\n",
       "    <tr>\n",
       "      <th>1</th>\n",
       "      <td>own</td>\n",
       "      <td>196</td>\n",
       "      <td>517</td>\n",
       "      <td>713</td>\n",
       "    </tr>\n",
       "    <tr>\n",
       "      <th>2</th>\n",
       "      <td>rent</td>\n",
       "      <td>95</td>\n",
       "      <td>84</td>\n",
       "      <td>179</td>\n",
       "    </tr>\n",
       "  </tbody>\n",
       "</table>\n",
       "</div>"
      ],
      "text/plain": [
       "  housing  female  male  cnt\n",
       "0    free      19    89  108\n",
       "1     own     196   517  713\n",
       "2    rent      95    84  179"
      ]
     },
     "execution_count": 163,
     "metadata": {},
     "output_type": "execute_result"
    }
   ],
   "source": [
    "sql = '''\n",
    "select\n",
    "    t.housing,\n",
    "    count(case when t.sex='female' then 1 else null end) as female,\n",
    "    count(case when t.sex='male' then 1 else null end) as male,\n",
    "    count(1) as cnt\n",
    "from german_credit t\n",
    "group by \n",
    "    t.housing\n",
    "'''\n",
    "select(sql)"
   ]
  },
  {
   "cell_type": "code",
   "execution_count": 166,
   "id": "89fe5d64",
   "metadata": {},
   "outputs": [],
   "source": [
    "sql = '''\n",
    "select\n",
    "distinct t.purpose\n",
    "from german_credit t\n",
    "'''\n",
    "purpose = list(select(sql)['purpose'].values)"
   ]
  },
  {
   "cell_type": "code",
   "execution_count": 167,
   "id": "c3cee524",
   "metadata": {},
   "outputs": [
    {
     "data": {
      "text/plain": [
       "['radio/TV',\n",
       " 'car',\n",
       " 'education',\n",
       " 'furniture/equipment',\n",
       " 'repairs',\n",
       " 'business',\n",
       " 'domestic appliances',\n",
       " 'vacation/others']"
      ]
     },
     "execution_count": 167,
     "metadata": {},
     "output_type": "execute_result"
    }
   ],
   "source": [
    "purpose"
   ]
  },
  {
   "cell_type": "code",
   "execution_count": 181,
   "id": "4b304616",
   "metadata": {
    "scrolled": true
   },
   "outputs": [
    {
     "name": "stdout",
     "output_type": "stream",
     "text": [
      "count(case when t.purpose = 'radio/TV' then 1 else null end) as radiotv,\n",
      "count(case when t.purpose = 'car' then 1 else null end) as car,\n",
      "count(case when t.purpose = 'education' then 1 else null end) as education,\n",
      "count(case when t.purpose = 'furniture/equipment' then 1 else null end) as furnitureequipment,\n",
      "count(case when t.purpose = 'repairs' then 1 else null end) as repairs,\n",
      "count(case when t.purpose = 'business' then 1 else null end) as business,\n",
      "count(case when t.purpose = 'domestic appliances' then 1 else null end) as domesticappliances,\n",
      "count(case when t.purpose = 'vacation/others' then 1 else null end) as vacationothers,\n"
     ]
    }
   ],
   "source": [
    "for p in purpose:\n",
    "    print(f\"count(case when t.purpose = '{p}' then 1 else null end) as {p.lower().replace(' ','').replace('/','')},\")"
   ]
  },
  {
   "cell_type": "code",
   "execution_count": 184,
   "id": "575fc9a6",
   "metadata": {
    "scrolled": false
   },
   "outputs": [
    {
     "data": {
      "text/html": [
       "<div>\n",
       "<style scoped>\n",
       "    .dataframe tbody tr th:only-of-type {\n",
       "        vertical-align: middle;\n",
       "    }\n",
       "\n",
       "    .dataframe tbody tr th {\n",
       "        vertical-align: top;\n",
       "    }\n",
       "\n",
       "    .dataframe thead th {\n",
       "        text-align: right;\n",
       "    }\n",
       "</style>\n",
       "<table border=\"1\" class=\"dataframe\">\n",
       "  <thead>\n",
       "    <tr style=\"text-align: right;\">\n",
       "      <th></th>\n",
       "      <th>housing</th>\n",
       "      <th>radiotv</th>\n",
       "      <th>car</th>\n",
       "      <th>education</th>\n",
       "      <th>furnitureequipment</th>\n",
       "      <th>repairs</th>\n",
       "      <th>business</th>\n",
       "      <th>domesticappliances</th>\n",
       "      <th>vacationothers</th>\n",
       "      <th>cnt</th>\n",
       "    </tr>\n",
       "  </thead>\n",
       "  <tbody>\n",
       "    <tr>\n",
       "      <th>0</th>\n",
       "      <td>free</td>\n",
       "      <td>15</td>\n",
       "      <td>55</td>\n",
       "      <td>15</td>\n",
       "      <td>11</td>\n",
       "      <td>3</td>\n",
       "      <td>5</td>\n",
       "      <td>0</td>\n",
       "      <td>4</td>\n",
       "      <td>108</td>\n",
       "    </tr>\n",
       "    <tr>\n",
       "      <th>1</th>\n",
       "      <td>own</td>\n",
       "      <td>227</td>\n",
       "      <td>219</td>\n",
       "      <td>34</td>\n",
       "      <td>122</td>\n",
       "      <td>17</td>\n",
       "      <td>76</td>\n",
       "      <td>10</td>\n",
       "      <td>8</td>\n",
       "      <td>713</td>\n",
       "    </tr>\n",
       "    <tr>\n",
       "      <th>2</th>\n",
       "      <td>rent</td>\n",
       "      <td>38</td>\n",
       "      <td>63</td>\n",
       "      <td>10</td>\n",
       "      <td>48</td>\n",
       "      <td>2</td>\n",
       "      <td>16</td>\n",
       "      <td>2</td>\n",
       "      <td>0</td>\n",
       "      <td>179</td>\n",
       "    </tr>\n",
       "  </tbody>\n",
       "</table>\n",
       "</div>"
      ],
      "text/plain": [
       "  housing  radiotv  car  education  furnitureequipment  repairs  business  \\\n",
       "0    free       15   55         15                  11        3         5   \n",
       "1     own      227  219         34                 122       17        76   \n",
       "2    rent       38   63         10                  48        2        16   \n",
       "\n",
       "   domesticappliances  vacationothers  cnt  \n",
       "0                   0               4  108  \n",
       "1                  10               8  713  \n",
       "2                   2               0  179  "
      ]
     },
     "execution_count": 184,
     "metadata": {},
     "output_type": "execute_result"
    }
   ],
   "source": [
    "sql = '''\n",
    "select\n",
    "    t.housing,\n",
    "    count(case when t.purpose = 'radio/TV' then 1 else null end) as radiotv,\n",
    "    count(case when t.purpose = 'car' then 1 else null end) as car,\n",
    "    count(case when t.purpose = 'education' then 1 else null end) as education,\n",
    "    count(case when t.purpose = 'furniture/equipment' then 1 else null end) as furnitureequipment,\n",
    "    count(case when t.purpose = 'repairs' then 1 else null end) as repairs,\n",
    "    count(case when t.purpose = 'business' then 1 else null end) as business,\n",
    "    count(case when t.purpose = 'domestic appliances' then 1 else null end) as domesticappliances,\n",
    "    count(case when t.purpose = 'vacation/others' then 1 else null end) as vacationothers,\n",
    "    count(1) as cnt\n",
    "from german_credit t\n",
    "group by \n",
    "    t.housing\n",
    "'''\n",
    "select(sql)"
   ]
  },
  {
   "cell_type": "markdown",
   "id": "7092dd15",
   "metadata": {},
   "source": [
    "# Подзапросы"
   ]
  },
  {
   "cell_type": "code",
   "execution_count": 196,
   "id": "7fc60260",
   "metadata": {},
   "outputs": [],
   "source": [
    "t = pd.DataFrame({'id':[1,1,2,2,3],\n",
    "                 'name':['a', 'b', 'c', 'd', 'e']})"
   ]
  },
  {
   "cell_type": "code",
   "execution_count": 197,
   "id": "a523d13e",
   "metadata": {
    "scrolled": true
   },
   "outputs": [
    {
     "data": {
      "text/html": [
       "<div>\n",
       "<style scoped>\n",
       "    .dataframe tbody tr th:only-of-type {\n",
       "        vertical-align: middle;\n",
       "    }\n",
       "\n",
       "    .dataframe tbody tr th {\n",
       "        vertical-align: top;\n",
       "    }\n",
       "\n",
       "    .dataframe thead th {\n",
       "        text-align: right;\n",
       "    }\n",
       "</style>\n",
       "<table border=\"1\" class=\"dataframe\">\n",
       "  <thead>\n",
       "    <tr style=\"text-align: right;\">\n",
       "      <th></th>\n",
       "      <th>id</th>\n",
       "      <th>name</th>\n",
       "    </tr>\n",
       "  </thead>\n",
       "  <tbody>\n",
       "    <tr>\n",
       "      <th>0</th>\n",
       "      <td>1</td>\n",
       "      <td>a</td>\n",
       "    </tr>\n",
       "    <tr>\n",
       "      <th>1</th>\n",
       "      <td>1</td>\n",
       "      <td>b</td>\n",
       "    </tr>\n",
       "    <tr>\n",
       "      <th>2</th>\n",
       "      <td>2</td>\n",
       "      <td>c</td>\n",
       "    </tr>\n",
       "    <tr>\n",
       "      <th>3</th>\n",
       "      <td>2</td>\n",
       "      <td>d</td>\n",
       "    </tr>\n",
       "    <tr>\n",
       "      <th>4</th>\n",
       "      <td>3</td>\n",
       "      <td>e</td>\n",
       "    </tr>\n",
       "  </tbody>\n",
       "</table>\n",
       "</div>"
      ],
      "text/plain": [
       "   id name\n",
       "0   1    a\n",
       "1   1    b\n",
       "2   2    c\n",
       "3   2    d\n",
       "4   3    e"
      ]
     },
     "execution_count": 197,
     "metadata": {},
     "output_type": "execute_result"
    }
   ],
   "source": [
    "t"
   ]
  },
  {
   "cell_type": "code",
   "execution_count": 198,
   "id": "ec066eef",
   "metadata": {},
   "outputs": [],
   "source": [
    "t = t.to_sql('dupl_test',con,index=False,if_exists='replace')"
   ]
  },
  {
   "cell_type": "code",
   "execution_count": 199,
   "id": "8c18be8b",
   "metadata": {},
   "outputs": [
    {
     "data": {
      "text/html": [
       "<div>\n",
       "<style scoped>\n",
       "    .dataframe tbody tr th:only-of-type {\n",
       "        vertical-align: middle;\n",
       "    }\n",
       "\n",
       "    .dataframe tbody tr th {\n",
       "        vertical-align: top;\n",
       "    }\n",
       "\n",
       "    .dataframe thead th {\n",
       "        text-align: right;\n",
       "    }\n",
       "</style>\n",
       "<table border=\"1\" class=\"dataframe\">\n",
       "  <thead>\n",
       "    <tr style=\"text-align: right;\">\n",
       "      <th></th>\n",
       "      <th>id</th>\n",
       "      <th>name</th>\n",
       "    </tr>\n",
       "  </thead>\n",
       "  <tbody>\n",
       "    <tr>\n",
       "      <th>0</th>\n",
       "      <td>1</td>\n",
       "      <td>a</td>\n",
       "    </tr>\n",
       "    <tr>\n",
       "      <th>1</th>\n",
       "      <td>1</td>\n",
       "      <td>b</td>\n",
       "    </tr>\n",
       "    <tr>\n",
       "      <th>2</th>\n",
       "      <td>2</td>\n",
       "      <td>c</td>\n",
       "    </tr>\n",
       "    <tr>\n",
       "      <th>3</th>\n",
       "      <td>2</td>\n",
       "      <td>d</td>\n",
       "    </tr>\n",
       "    <tr>\n",
       "      <th>4</th>\n",
       "      <td>3</td>\n",
       "      <td>e</td>\n",
       "    </tr>\n",
       "  </tbody>\n",
       "</table>\n",
       "</div>"
      ],
      "text/plain": [
       "   id name\n",
       "0   1    a\n",
       "1   1    b\n",
       "2   2    c\n",
       "3   2    d\n",
       "4   3    e"
      ]
     },
     "execution_count": 199,
     "metadata": {},
     "output_type": "execute_result"
    }
   ],
   "source": [
    "sql = '''\n",
    "select *\n",
    "from\n",
    "dupl_test t\n",
    "\n",
    "'''\n",
    "select(sql)"
   ]
  },
  {
   "cell_type": "code",
   "execution_count": 203,
   "id": "d27c8d9b",
   "metadata": {},
   "outputs": [
    {
     "data": {
      "text/html": [
       "<div>\n",
       "<style scoped>\n",
       "    .dataframe tbody tr th:only-of-type {\n",
       "        vertical-align: middle;\n",
       "    }\n",
       "\n",
       "    .dataframe tbody tr th {\n",
       "        vertical-align: top;\n",
       "    }\n",
       "\n",
       "    .dataframe thead th {\n",
       "        text-align: right;\n",
       "    }\n",
       "</style>\n",
       "<table border=\"1\" class=\"dataframe\">\n",
       "  <thead>\n",
       "    <tr style=\"text-align: right;\">\n",
       "      <th></th>\n",
       "      <th>id</th>\n",
       "      <th>count(1)</th>\n",
       "    </tr>\n",
       "  </thead>\n",
       "  <tbody>\n",
       "    <tr>\n",
       "      <th>0</th>\n",
       "      <td>1</td>\n",
       "      <td>2</td>\n",
       "    </tr>\n",
       "    <tr>\n",
       "      <th>1</th>\n",
       "      <td>2</td>\n",
       "      <td>2</td>\n",
       "    </tr>\n",
       "  </tbody>\n",
       "</table>\n",
       "</div>"
      ],
      "text/plain": [
       "   id  count(1)\n",
       "0   1         2\n",
       "1   2         2"
      ]
     },
     "execution_count": 203,
     "metadata": {},
     "output_type": "execute_result"
    }
   ],
   "source": [
    "sql = '''\n",
    "select \n",
    "    t.id,\n",
    "    count(1)\n",
    "from\n",
    "    dupl_test t\n",
    "group by t.id\n",
    "having \n",
    "    count(1) > 1\n",
    "\n",
    "'''\n",
    "select(sql)"
   ]
  },
  {
   "cell_type": "code",
   "execution_count": 204,
   "id": "0d650dc9",
   "metadata": {},
   "outputs": [
    {
     "data": {
      "text/html": [
       "<div>\n",
       "<style scoped>\n",
       "    .dataframe tbody tr th:only-of-type {\n",
       "        vertical-align: middle;\n",
       "    }\n",
       "\n",
       "    .dataframe tbody tr th {\n",
       "        vertical-align: top;\n",
       "    }\n",
       "\n",
       "    .dataframe thead th {\n",
       "        text-align: right;\n",
       "    }\n",
       "</style>\n",
       "<table border=\"1\" class=\"dataframe\">\n",
       "  <thead>\n",
       "    <tr style=\"text-align: right;\">\n",
       "      <th></th>\n",
       "      <th>id</th>\n",
       "    </tr>\n",
       "  </thead>\n",
       "  <tbody>\n",
       "    <tr>\n",
       "      <th>0</th>\n",
       "      <td>1</td>\n",
       "    </tr>\n",
       "    <tr>\n",
       "      <th>1</th>\n",
       "      <td>2</td>\n",
       "    </tr>\n",
       "  </tbody>\n",
       "</table>\n",
       "</div>"
      ],
      "text/plain": [
       "   id\n",
       "0   1\n",
       "1   2"
      ]
     },
     "execution_count": 204,
     "metadata": {},
     "output_type": "execute_result"
    }
   ],
   "source": [
    "sql = '''\n",
    "select \n",
    "    t.id\n",
    "from\n",
    "    dupl_test t\n",
    "group by t.id\n",
    "having \n",
    "    count(1) > 1\n",
    "\n",
    "'''\n",
    "select(sql)"
   ]
  },
  {
   "cell_type": "code",
   "execution_count": 205,
   "id": "4446532b",
   "metadata": {
    "scrolled": true
   },
   "outputs": [
    {
     "data": {
      "text/html": [
       "<div>\n",
       "<style scoped>\n",
       "    .dataframe tbody tr th:only-of-type {\n",
       "        vertical-align: middle;\n",
       "    }\n",
       "\n",
       "    .dataframe tbody tr th {\n",
       "        vertical-align: top;\n",
       "    }\n",
       "\n",
       "    .dataframe thead th {\n",
       "        text-align: right;\n",
       "    }\n",
       "</style>\n",
       "<table border=\"1\" class=\"dataframe\">\n",
       "  <thead>\n",
       "    <tr style=\"text-align: right;\">\n",
       "      <th></th>\n",
       "      <th>id</th>\n",
       "      <th>name</th>\n",
       "    </tr>\n",
       "  </thead>\n",
       "  <tbody>\n",
       "    <tr>\n",
       "      <th>0</th>\n",
       "      <td>1</td>\n",
       "      <td>a</td>\n",
       "    </tr>\n",
       "    <tr>\n",
       "      <th>1</th>\n",
       "      <td>1</td>\n",
       "      <td>b</td>\n",
       "    </tr>\n",
       "    <tr>\n",
       "      <th>2</th>\n",
       "      <td>2</td>\n",
       "      <td>c</td>\n",
       "    </tr>\n",
       "    <tr>\n",
       "      <th>3</th>\n",
       "      <td>2</td>\n",
       "      <td>d</td>\n",
       "    </tr>\n",
       "  </tbody>\n",
       "</table>\n",
       "</div>"
      ],
      "text/plain": [
       "   id name\n",
       "0   1    a\n",
       "1   1    b\n",
       "2   2    c\n",
       "3   2    d"
      ]
     },
     "execution_count": 205,
     "metadata": {},
     "output_type": "execute_result"
    }
   ],
   "source": [
    "sql = '''\n",
    "select *\n",
    "from\n",
    "dupl_test t\n",
    "where t.id in (select \n",
    "                    t.id\n",
    "                from\n",
    "                    dupl_test t\n",
    "                group by t.id\n",
    "                having \n",
    "                    count(1) > 1)\n",
    "\n",
    "'''\n",
    "select(sql)"
   ]
  },
  {
   "cell_type": "markdown",
   "id": "c92bbe64",
   "metadata": {},
   "source": [
    "*тоже самое можно сделать сохранив результат подзапроса в промежуточную таблицу, а затем обратиться к ней*"
   ]
  },
  {
   "cell_type": "code",
   "execution_count": 207,
   "id": "dc2295f8",
   "metadata": {},
   "outputs": [],
   "source": [
    "sql = '''\n",
    "drop table if exists dupls;\n",
    "create table dupls as \n",
    "    select \n",
    "        t.id\n",
    "    from\n",
    "        dupl_test t\n",
    "    group by t.id\n",
    "    having \n",
    "        count(1) > 1\n",
    "'''\n"
   ]
  },
  {
   "cell_type": "code",
   "execution_count": 208,
   "id": "6dbfaa45",
   "metadata": {},
   "outputs": [
    {
     "data": {
      "text/plain": [
       "<sqlite3.Cursor at 0x246ab089110>"
      ]
     },
     "execution_count": 208,
     "metadata": {},
     "output_type": "execute_result"
    }
   ],
   "source": [
    "cur.executescript(sql)"
   ]
  },
  {
   "cell_type": "code",
   "execution_count": 210,
   "id": "b9b47d1a",
   "metadata": {},
   "outputs": [
    {
     "data": {
      "text/html": [
       "<div>\n",
       "<style scoped>\n",
       "    .dataframe tbody tr th:only-of-type {\n",
       "        vertical-align: middle;\n",
       "    }\n",
       "\n",
       "    .dataframe tbody tr th {\n",
       "        vertical-align: top;\n",
       "    }\n",
       "\n",
       "    .dataframe thead th {\n",
       "        text-align: right;\n",
       "    }\n",
       "</style>\n",
       "<table border=\"1\" class=\"dataframe\">\n",
       "  <thead>\n",
       "    <tr style=\"text-align: right;\">\n",
       "      <th></th>\n",
       "      <th>id</th>\n",
       "    </tr>\n",
       "  </thead>\n",
       "  <tbody>\n",
       "    <tr>\n",
       "      <th>0</th>\n",
       "      <td>1</td>\n",
       "    </tr>\n",
       "    <tr>\n",
       "      <th>1</th>\n",
       "      <td>2</td>\n",
       "    </tr>\n",
       "  </tbody>\n",
       "</table>\n",
       "</div>"
      ],
      "text/plain": [
       "   id\n",
       "0   1\n",
       "1   2"
      ]
     },
     "execution_count": 210,
     "metadata": {},
     "output_type": "execute_result"
    }
   ],
   "source": [
    "sql = '''\n",
    "select * from dupls\n",
    "'''\n",
    "select(sql)"
   ]
  },
  {
   "cell_type": "code",
   "execution_count": 211,
   "id": "a4ac0d2a",
   "metadata": {},
   "outputs": [
    {
     "data": {
      "text/html": [
       "<div>\n",
       "<style scoped>\n",
       "    .dataframe tbody tr th:only-of-type {\n",
       "        vertical-align: middle;\n",
       "    }\n",
       "\n",
       "    .dataframe tbody tr th {\n",
       "        vertical-align: top;\n",
       "    }\n",
       "\n",
       "    .dataframe thead th {\n",
       "        text-align: right;\n",
       "    }\n",
       "</style>\n",
       "<table border=\"1\" class=\"dataframe\">\n",
       "  <thead>\n",
       "    <tr style=\"text-align: right;\">\n",
       "      <th></th>\n",
       "      <th>id</th>\n",
       "      <th>name</th>\n",
       "    </tr>\n",
       "  </thead>\n",
       "  <tbody>\n",
       "    <tr>\n",
       "      <th>0</th>\n",
       "      <td>1</td>\n",
       "      <td>a</td>\n",
       "    </tr>\n",
       "    <tr>\n",
       "      <th>1</th>\n",
       "      <td>1</td>\n",
       "      <td>b</td>\n",
       "    </tr>\n",
       "    <tr>\n",
       "      <th>2</th>\n",
       "      <td>2</td>\n",
       "      <td>c</td>\n",
       "    </tr>\n",
       "    <tr>\n",
       "      <th>3</th>\n",
       "      <td>2</td>\n",
       "      <td>d</td>\n",
       "    </tr>\n",
       "  </tbody>\n",
       "</table>\n",
       "</div>"
      ],
      "text/plain": [
       "   id name\n",
       "0   1    a\n",
       "1   1    b\n",
       "2   2    c\n",
       "3   2    d"
      ]
     },
     "execution_count": 211,
     "metadata": {},
     "output_type": "execute_result"
    }
   ],
   "source": [
    "sql = '''\n",
    "select *\n",
    "from\n",
    "dupl_test t\n",
    "where t.id in dupls\n",
    "\n",
    "'''\n",
    "select(sql)"
   ]
  },
  {
   "cell_type": "markdown",
   "id": "c3f135e1",
   "metadata": {},
   "source": [
    "# CTE (with)"
   ]
  },
  {
   "cell_type": "code",
   "execution_count": 215,
   "id": "464285e3",
   "metadata": {
    "scrolled": true
   },
   "outputs": [
    {
     "data": {
      "text/html": [
       "<div>\n",
       "<style scoped>\n",
       "    .dataframe tbody tr th:only-of-type {\n",
       "        vertical-align: middle;\n",
       "    }\n",
       "\n",
       "    .dataframe tbody tr th {\n",
       "        vertical-align: top;\n",
       "    }\n",
       "\n",
       "    .dataframe thead th {\n",
       "        text-align: right;\n",
       "    }\n",
       "</style>\n",
       "<table border=\"1\" class=\"dataframe\">\n",
       "  <thead>\n",
       "    <tr style=\"text-align: right;\">\n",
       "      <th></th>\n",
       "      <th>id</th>\n",
       "      <th>cnt</th>\n",
       "    </tr>\n",
       "  </thead>\n",
       "  <tbody>\n",
       "    <tr>\n",
       "      <th>0</th>\n",
       "      <td>1</td>\n",
       "      <td>2</td>\n",
       "    </tr>\n",
       "  </tbody>\n",
       "</table>\n",
       "</div>"
      ],
      "text/plain": [
       "   id  cnt\n",
       "0   1    2"
      ]
     },
     "execution_count": 215,
     "metadata": {},
     "output_type": "execute_result"
    }
   ],
   "source": [
    "sql = '''\n",
    "select \n",
    "    * \n",
    "from \n",
    "    (select \n",
    "        * \n",
    "    from\n",
    "        (select \n",
    "            t.id, count(1) as cnt \n",
    "        from \n",
    "            dupl_test t \n",
    "        group by t.id) t\n",
    "    where t.cnt > 1) t\n",
    "\n",
    "where t.id = 1\n",
    "\n",
    "'''\n",
    "select(sql)"
   ]
  },
  {
   "cell_type": "markdown",
   "id": "8386640d",
   "metadata": {},
   "source": [
    "*перепишем это с использованием CTE*"
   ]
  },
  {
   "cell_type": "code",
   "execution_count": 220,
   "id": "5b66ec34",
   "metadata": {},
   "outputs": [
    {
     "data": {
      "text/html": [
       "<div>\n",
       "<style scoped>\n",
       "    .dataframe tbody tr th:only-of-type {\n",
       "        vertical-align: middle;\n",
       "    }\n",
       "\n",
       "    .dataframe tbody tr th {\n",
       "        vertical-align: top;\n",
       "    }\n",
       "\n",
       "    .dataframe thead th {\n",
       "        text-align: right;\n",
       "    }\n",
       "</style>\n",
       "<table border=\"1\" class=\"dataframe\">\n",
       "  <thead>\n",
       "    <tr style=\"text-align: right;\">\n",
       "      <th></th>\n",
       "      <th>id</th>\n",
       "      <th>cnt</th>\n",
       "    </tr>\n",
       "  </thead>\n",
       "  <tbody>\n",
       "    <tr>\n",
       "      <th>0</th>\n",
       "      <td>1</td>\n",
       "      <td>2</td>\n",
       "    </tr>\n",
       "  </tbody>\n",
       "</table>\n",
       "</div>"
      ],
      "text/plain": [
       "   id  cnt\n",
       "0   1    2"
      ]
     },
     "execution_count": 220,
     "metadata": {},
     "output_type": "execute_result"
    }
   ],
   "source": [
    "sql = '''\n",
    "with id_cnt as \n",
    "            (select t.id, count(1) as cnt \n",
    "            from dupl_test t \n",
    "            group by t.id), \n",
    "\n",
    "id_cnt_2 as (select *\n",
    "            from id_cnt t\n",
    "            where t.cnt > 1)\n",
    "select * \n",
    "from id_cnt_2 t\n",
    "where t.id = 1\n",
    "'''\n",
    "select(sql)"
   ]
  },
  {
   "cell_type": "markdown",
   "id": "b0000835",
   "metadata": {},
   "source": [
    "# Join\n"
   ]
  },
  {
   "cell_type": "code",
   "execution_count": 221,
   "id": "61e97c34",
   "metadata": {},
   "outputs": [],
   "source": [
    "users = pd.DataFrame({\"id\":[1,2,3,],\n",
    "                    \"name\":['aaron', 'sergo', 'ivan']})"
   ]
  },
  {
   "cell_type": "code",
   "execution_count": 233,
   "id": "9d0b774d",
   "metadata": {},
   "outputs": [],
   "source": [
    "items = pd.DataFrame({\"user_id\":[1,2,2,],\n",
    "                    \"item_name\":['beer', 'pizza', 'vodka'],\n",
    "                     'value':[100, 200,120]})"
   ]
  },
  {
   "cell_type": "code",
   "execution_count": 241,
   "id": "906d38b9",
   "metadata": {},
   "outputs": [
    {
     "data": {
      "text/plain": [
       "3"
      ]
     },
     "execution_count": 241,
     "metadata": {},
     "output_type": "execute_result"
    }
   ],
   "source": [
    "users.to_sql('users', con,index=False, if_exists='replace')\n",
    "items.to_sql('items', con,index=False, if_exists='replace')"
   ]
  },
  {
   "cell_type": "code",
   "execution_count": 235,
   "id": "6bba679d",
   "metadata": {},
   "outputs": [
    {
     "data": {
      "text/html": [
       "<div>\n",
       "<style scoped>\n",
       "    .dataframe tbody tr th:only-of-type {\n",
       "        vertical-align: middle;\n",
       "    }\n",
       "\n",
       "    .dataframe tbody tr th {\n",
       "        vertical-align: top;\n",
       "    }\n",
       "\n",
       "    .dataframe thead th {\n",
       "        text-align: right;\n",
       "    }\n",
       "</style>\n",
       "<table border=\"1\" class=\"dataframe\">\n",
       "  <thead>\n",
       "    <tr style=\"text-align: right;\">\n",
       "      <th></th>\n",
       "      <th>id</th>\n",
       "      <th>name</th>\n",
       "    </tr>\n",
       "  </thead>\n",
       "  <tbody>\n",
       "    <tr>\n",
       "      <th>0</th>\n",
       "      <td>1</td>\n",
       "      <td>aaron</td>\n",
       "    </tr>\n",
       "    <tr>\n",
       "      <th>1</th>\n",
       "      <td>2</td>\n",
       "      <td>sergo</td>\n",
       "    </tr>\n",
       "    <tr>\n",
       "      <th>2</th>\n",
       "      <td>3</td>\n",
       "      <td>ivan</td>\n",
       "    </tr>\n",
       "  </tbody>\n",
       "</table>\n",
       "</div>"
      ],
      "text/plain": [
       "   id   name\n",
       "0   1  aaron\n",
       "1   2  sergo\n",
       "2   3   ivan"
      ]
     },
     "execution_count": 235,
     "metadata": {},
     "output_type": "execute_result"
    }
   ],
   "source": [
    "sql = '''\n",
    "select *\n",
    "from users t \n",
    "'''\n",
    "select(sql)"
   ]
  },
  {
   "cell_type": "code",
   "execution_count": 236,
   "id": "bc58a2d3",
   "metadata": {},
   "outputs": [
    {
     "data": {
      "text/html": [
       "<div>\n",
       "<style scoped>\n",
       "    .dataframe tbody tr th:only-of-type {\n",
       "        vertical-align: middle;\n",
       "    }\n",
       "\n",
       "    .dataframe tbody tr th {\n",
       "        vertical-align: top;\n",
       "    }\n",
       "\n",
       "    .dataframe thead th {\n",
       "        text-align: right;\n",
       "    }\n",
       "</style>\n",
       "<table border=\"1\" class=\"dataframe\">\n",
       "  <thead>\n",
       "    <tr style=\"text-align: right;\">\n",
       "      <th></th>\n",
       "      <th>id</th>\n",
       "      <th>name</th>\n",
       "      <th>item_name</th>\n",
       "    </tr>\n",
       "  </thead>\n",
       "  <tbody>\n",
       "    <tr>\n",
       "      <th>0</th>\n",
       "      <td>1</td>\n",
       "      <td>aaron</td>\n",
       "      <td>beer</td>\n",
       "    </tr>\n",
       "    <tr>\n",
       "      <th>1</th>\n",
       "      <td>2</td>\n",
       "      <td>sergo</td>\n",
       "      <td>pizza</td>\n",
       "    </tr>\n",
       "    <tr>\n",
       "      <th>2</th>\n",
       "      <td>2</td>\n",
       "      <td>sergo</td>\n",
       "      <td>vodka</td>\n",
       "    </tr>\n",
       "    <tr>\n",
       "      <th>3</th>\n",
       "      <td>3</td>\n",
       "      <td>ivan</td>\n",
       "      <td>None</td>\n",
       "    </tr>\n",
       "  </tbody>\n",
       "</table>\n",
       "</div>"
      ],
      "text/plain": [
       "   id   name item_name\n",
       "0   1  aaron      beer\n",
       "1   2  sergo     pizza\n",
       "2   2  sergo     vodka\n",
       "3   3   ivan      None"
      ]
     },
     "execution_count": 236,
     "metadata": {},
     "output_type": "execute_result"
    }
   ],
   "source": [
    "sql = '''\n",
    "select t.*, i.item_name\n",
    "from users t \n",
    "left join items i\n",
    "on t.id = i.user_id\n",
    "'''\n",
    "select(sql)"
   ]
  },
  {
   "cell_type": "code",
   "execution_count": 238,
   "id": "c849924d",
   "metadata": {},
   "outputs": [
    {
     "data": {
      "text/html": [
       "<div>\n",
       "<style scoped>\n",
       "    .dataframe tbody tr th:only-of-type {\n",
       "        vertical-align: middle;\n",
       "    }\n",
       "\n",
       "    .dataframe tbody tr th {\n",
       "        vertical-align: top;\n",
       "    }\n",
       "\n",
       "    .dataframe thead th {\n",
       "        text-align: right;\n",
       "    }\n",
       "</style>\n",
       "<table border=\"1\" class=\"dataframe\">\n",
       "  <thead>\n",
       "    <tr style=\"text-align: right;\">\n",
       "      <th></th>\n",
       "      <th>id</th>\n",
       "      <th>name</th>\n",
       "      <th>item_name</th>\n",
       "      <th>value</th>\n",
       "    </tr>\n",
       "  </thead>\n",
       "  <tbody>\n",
       "    <tr>\n",
       "      <th>0</th>\n",
       "      <td>1</td>\n",
       "      <td>aaron</td>\n",
       "      <td>beer</td>\n",
       "      <td>100</td>\n",
       "    </tr>\n",
       "    <tr>\n",
       "      <th>1</th>\n",
       "      <td>2</td>\n",
       "      <td>sergo</td>\n",
       "      <td>pizza</td>\n",
       "      <td>200</td>\n",
       "    </tr>\n",
       "    <tr>\n",
       "      <th>2</th>\n",
       "      <td>2</td>\n",
       "      <td>sergo</td>\n",
       "      <td>vodka</td>\n",
       "      <td>120</td>\n",
       "    </tr>\n",
       "  </tbody>\n",
       "</table>\n",
       "</div>"
      ],
      "text/plain": [
       "   id   name item_name  value\n",
       "0   1  aaron      beer    100\n",
       "1   2  sergo     pizza    200\n",
       "2   2  sergo     vodka    120"
      ]
     },
     "execution_count": 238,
     "metadata": {},
     "output_type": "execute_result"
    }
   ],
   "source": [
    "sql = '''\n",
    "select t.*, i.item_name, i.value\n",
    "from users t \n",
    "left join items i\n",
    "on t.id = i.user_id\n",
    "where i.value is not null\n",
    "'''\n",
    "select(sql)"
   ]
  },
  {
   "cell_type": "code",
   "execution_count": 239,
   "id": "2c192f58",
   "metadata": {},
   "outputs": [
    {
     "data": {
      "text/html": [
       "<div>\n",
       "<style scoped>\n",
       "    .dataframe tbody tr th:only-of-type {\n",
       "        vertical-align: middle;\n",
       "    }\n",
       "\n",
       "    .dataframe tbody tr th {\n",
       "        vertical-align: top;\n",
       "    }\n",
       "\n",
       "    .dataframe thead th {\n",
       "        text-align: right;\n",
       "    }\n",
       "</style>\n",
       "<table border=\"1\" class=\"dataframe\">\n",
       "  <thead>\n",
       "    <tr style=\"text-align: right;\">\n",
       "      <th></th>\n",
       "      <th>id</th>\n",
       "      <th>name</th>\n",
       "      <th>item_name</th>\n",
       "      <th>value</th>\n",
       "    </tr>\n",
       "  </thead>\n",
       "  <tbody>\n",
       "    <tr>\n",
       "      <th>0</th>\n",
       "      <td>1</td>\n",
       "      <td>aaron</td>\n",
       "      <td>beer</td>\n",
       "      <td>100.0</td>\n",
       "    </tr>\n",
       "    <tr>\n",
       "      <th>1</th>\n",
       "      <td>2</td>\n",
       "      <td>sergo</td>\n",
       "      <td>pizza</td>\n",
       "      <td>200.0</td>\n",
       "    </tr>\n",
       "    <tr>\n",
       "      <th>2</th>\n",
       "      <td>2</td>\n",
       "      <td>sergo</td>\n",
       "      <td>vodka</td>\n",
       "      <td>120.0</td>\n",
       "    </tr>\n",
       "    <tr>\n",
       "      <th>3</th>\n",
       "      <td>3</td>\n",
       "      <td>ivan</td>\n",
       "      <td>None</td>\n",
       "      <td>NaN</td>\n",
       "    </tr>\n",
       "  </tbody>\n",
       "</table>\n",
       "</div>"
      ],
      "text/plain": [
       "   id   name item_name  value\n",
       "0   1  aaron      beer  100.0\n",
       "1   2  sergo     pizza  200.0\n",
       "2   2  sergo     vodka  120.0\n",
       "3   3   ivan      None    NaN"
      ]
     },
     "execution_count": 239,
     "metadata": {},
     "output_type": "execute_result"
    }
   ],
   "source": [
    "sql = '''\n",
    "select t.*, i.item_name, i.value\n",
    "from users t \n",
    "left join items i\n",
    "on t.id = i.user_id\n",
    "\n",
    "'''\n",
    "select(sql)"
   ]
  },
  {
   "cell_type": "code",
   "execution_count": 240,
   "id": "18e19ed5",
   "metadata": {},
   "outputs": [],
   "source": [
    "users = pd.DataFrame({\"id\":[1,2,3,],\n",
    "                    \"name\":['aaron', 'sergo', 'ivan'],\n",
    "                     'victory':[2,10,1]})"
   ]
  },
  {
   "cell_type": "code",
   "execution_count": 242,
   "id": "12ccc83a",
   "metadata": {},
   "outputs": [
    {
     "data": {
      "text/plain": [
       "3"
      ]
     },
     "execution_count": 242,
     "metadata": {},
     "output_type": "execute_result"
    }
   ],
   "source": [
    "users.to_sql('users', con,index=False, if_exists='replace')"
   ]
  },
  {
   "cell_type": "code",
   "execution_count": 244,
   "id": "5ed4d64a",
   "metadata": {},
   "outputs": [
    {
     "data": {
      "text/html": [
       "<div>\n",
       "<style scoped>\n",
       "    .dataframe tbody tr th:only-of-type {\n",
       "        vertical-align: middle;\n",
       "    }\n",
       "\n",
       "    .dataframe tbody tr th {\n",
       "        vertical-align: top;\n",
       "    }\n",
       "\n",
       "    .dataframe thead th {\n",
       "        text-align: right;\n",
       "    }\n",
       "</style>\n",
       "<table border=\"1\" class=\"dataframe\">\n",
       "  <thead>\n",
       "    <tr style=\"text-align: right;\">\n",
       "      <th></th>\n",
       "      <th>id</th>\n",
       "      <th>name</th>\n",
       "      <th>victory</th>\n",
       "      <th>item_name</th>\n",
       "      <th>value</th>\n",
       "      <th>user_id</th>\n",
       "    </tr>\n",
       "  </thead>\n",
       "  <tbody>\n",
       "    <tr>\n",
       "      <th>0</th>\n",
       "      <td>1</td>\n",
       "      <td>aaron</td>\n",
       "      <td>2</td>\n",
       "      <td>beer</td>\n",
       "      <td>100.0</td>\n",
       "      <td>1.0</td>\n",
       "    </tr>\n",
       "    <tr>\n",
       "      <th>1</th>\n",
       "      <td>2</td>\n",
       "      <td>sergo</td>\n",
       "      <td>10</td>\n",
       "      <td>pizza</td>\n",
       "      <td>200.0</td>\n",
       "      <td>2.0</td>\n",
       "    </tr>\n",
       "    <tr>\n",
       "      <th>2</th>\n",
       "      <td>2</td>\n",
       "      <td>sergo</td>\n",
       "      <td>10</td>\n",
       "      <td>vodka</td>\n",
       "      <td>120.0</td>\n",
       "      <td>2.0</td>\n",
       "    </tr>\n",
       "    <tr>\n",
       "      <th>3</th>\n",
       "      <td>3</td>\n",
       "      <td>ivan</td>\n",
       "      <td>1</td>\n",
       "      <td>None</td>\n",
       "      <td>NaN</td>\n",
       "      <td>NaN</td>\n",
       "    </tr>\n",
       "  </tbody>\n",
       "</table>\n",
       "</div>"
      ],
      "text/plain": [
       "   id   name  victory item_name  value  user_id\n",
       "0   1  aaron        2      beer  100.0      1.0\n",
       "1   2  sergo       10     pizza  200.0      2.0\n",
       "2   2  sergo       10     vodka  120.0      2.0\n",
       "3   3   ivan        1      None    NaN      NaN"
      ]
     },
     "execution_count": 244,
     "metadata": {},
     "output_type": "execute_result"
    }
   ],
   "source": [
    "sql = '''\n",
    "select t.*, i.item_name, i.value, i.user_id\n",
    "from users t \n",
    "left join items i\n",
    "on t.id = i.user_id\n",
    "'''\n",
    "select(sql)"
   ]
  },
  {
   "cell_type": "code",
   "execution_count": 245,
   "id": "e21494fa",
   "metadata": {},
   "outputs": [],
   "source": [
    "t = select(sql)"
   ]
  },
  {
   "cell_type": "code",
   "execution_count": 246,
   "id": "8b4013df",
   "metadata": {},
   "outputs": [
    {
     "data": {
      "text/plain": [
       "23"
      ]
     },
     "execution_count": 246,
     "metadata": {},
     "output_type": "execute_result"
    }
   ],
   "source": [
    "t['victory'].sum()"
   ]
  },
  {
   "cell_type": "code",
   "execution_count": 247,
   "id": "955f665b",
   "metadata": {},
   "outputs": [
    {
     "data": {
      "text/html": [
       "<div>\n",
       "<style scoped>\n",
       "    .dataframe tbody tr th:only-of-type {\n",
       "        vertical-align: middle;\n",
       "    }\n",
       "\n",
       "    .dataframe tbody tr th {\n",
       "        vertical-align: top;\n",
       "    }\n",
       "\n",
       "    .dataframe thead th {\n",
       "        text-align: right;\n",
       "    }\n",
       "</style>\n",
       "<table border=\"1\" class=\"dataframe\">\n",
       "  <thead>\n",
       "    <tr style=\"text-align: right;\">\n",
       "      <th></th>\n",
       "      <th>sum(victory)</th>\n",
       "    </tr>\n",
       "  </thead>\n",
       "  <tbody>\n",
       "    <tr>\n",
       "      <th>0</th>\n",
       "      <td>13</td>\n",
       "    </tr>\n",
       "  </tbody>\n",
       "</table>\n",
       "</div>"
      ],
      "text/plain": [
       "   sum(victory)\n",
       "0            13"
      ]
     },
     "execution_count": 247,
     "metadata": {},
     "output_type": "execute_result"
    }
   ],
   "source": [
    "sql = '''\n",
    "select sum(victory)\n",
    "from users t \n",
    "\n",
    "'''\n",
    "select(sql)"
   ]
  },
  {
   "cell_type": "markdown",
   "id": "c5f6f00c",
   "metadata": {},
   "source": [
    "* необходимо проверять на дубликаты\n",
    "* аггрегировать перед джоином"
   ]
  },
  {
   "cell_type": "code",
   "execution_count": 251,
   "id": "cf889b8a",
   "metadata": {},
   "outputs": [
    {
     "data": {
      "text/html": [
       "<div>\n",
       "<style scoped>\n",
       "    .dataframe tbody tr th:only-of-type {\n",
       "        vertical-align: middle;\n",
       "    }\n",
       "\n",
       "    .dataframe tbody tr th {\n",
       "        vertical-align: top;\n",
       "    }\n",
       "\n",
       "    .dataframe thead th {\n",
       "        text-align: right;\n",
       "    }\n",
       "</style>\n",
       "<table border=\"1\" class=\"dataframe\">\n",
       "  <thead>\n",
       "    <tr style=\"text-align: right;\">\n",
       "      <th></th>\n",
       "      <th>user_id</th>\n",
       "      <th>item_count</th>\n",
       "      <th>value_sum</th>\n",
       "    </tr>\n",
       "  </thead>\n",
       "  <tbody>\n",
       "    <tr>\n",
       "      <th>0</th>\n",
       "      <td>1</td>\n",
       "      <td>1</td>\n",
       "      <td>100</td>\n",
       "    </tr>\n",
       "    <tr>\n",
       "      <th>1</th>\n",
       "      <td>2</td>\n",
       "      <td>2</td>\n",
       "      <td>320</td>\n",
       "    </tr>\n",
       "  </tbody>\n",
       "</table>\n",
       "</div>"
      ],
      "text/plain": [
       "   user_id  item_count  value_sum\n",
       "0        1           1        100\n",
       "1        2           2        320"
      ]
     },
     "execution_count": 251,
     "metadata": {},
     "output_type": "execute_result"
    }
   ],
   "source": [
    "sql = '''\n",
    "select \n",
    "t.user_id, count(t.item_name) as item_count,\n",
    "sum(t.value) as value_sum\n",
    "from items t \n",
    "group by t.user_id\n",
    "\n",
    "'''\n",
    "select(sql)"
   ]
  },
  {
   "cell_type": "code",
   "execution_count": 258,
   "id": "27809350",
   "metadata": {},
   "outputs": [
    {
     "data": {
      "text/html": [
       "<div>\n",
       "<style scoped>\n",
       "    .dataframe tbody tr th:only-of-type {\n",
       "        vertical-align: middle;\n",
       "    }\n",
       "\n",
       "    .dataframe tbody tr th {\n",
       "        vertical-align: top;\n",
       "    }\n",
       "\n",
       "    .dataframe thead th {\n",
       "        text-align: right;\n",
       "    }\n",
       "</style>\n",
       "<table border=\"1\" class=\"dataframe\">\n",
       "  <thead>\n",
       "    <tr style=\"text-align: right;\">\n",
       "      <th></th>\n",
       "      <th>id</th>\n",
       "      <th>name</th>\n",
       "      <th>victory</th>\n",
       "      <th>item_counn</th>\n",
       "      <th>value_sum</th>\n",
       "    </tr>\n",
       "  </thead>\n",
       "  <tbody>\n",
       "    <tr>\n",
       "      <th>0</th>\n",
       "      <td>1</td>\n",
       "      <td>aaron</td>\n",
       "      <td>2</td>\n",
       "      <td>1</td>\n",
       "      <td>100</td>\n",
       "    </tr>\n",
       "    <tr>\n",
       "      <th>1</th>\n",
       "      <td>2</td>\n",
       "      <td>sergo</td>\n",
       "      <td>10</td>\n",
       "      <td>2</td>\n",
       "      <td>320</td>\n",
       "    </tr>\n",
       "    <tr>\n",
       "      <th>2</th>\n",
       "      <td>3</td>\n",
       "      <td>ivan</td>\n",
       "      <td>1</td>\n",
       "      <td>0</td>\n",
       "      <td>0</td>\n",
       "    </tr>\n",
       "  </tbody>\n",
       "</table>\n",
       "</div>"
      ],
      "text/plain": [
       "   id   name  victory  item_counn  value_sum\n",
       "0   1  aaron        2           1        100\n",
       "1   2  sergo       10           2        320\n",
       "2   3   ivan        1           0          0"
      ]
     },
     "execution_count": 258,
     "metadata": {},
     "output_type": "execute_result"
    }
   ],
   "source": [
    "sql = '''\n",
    "with items_agg as (\n",
    "    select \n",
    "    t.user_id, count(t.item_name) as item_count,\n",
    "    sum(t.value) as value_sum\n",
    "    from items t \n",
    "    group by t.user_id\n",
    "    )\n",
    "select \n",
    "t.id, t.name, t.victory,\n",
    "coalesce(i.item_count,0) as item_counn,\n",
    "coalesce(i.value_sum,0) as value_sum\n",
    "from users t \n",
    "left join items_agg i on\n",
    "i.user_id = t.id\n",
    "\n",
    "'''\n",
    "select(sql)"
   ]
  },
  {
   "cell_type": "markdown",
   "id": "48df463b",
   "metadata": {
    "id": "BkiwMiMu22YM"
   },
   "source": [
    "## Full join"
   ]
  },
  {
   "cell_type": "code",
   "execution_count": 511,
   "id": "7c1db7c1",
   "metadata": {
    "id": "zKpDIt5R1bPB"
   },
   "outputs": [],
   "source": [
    "sql = '''select t.*, i.* from users t\n",
    "left join items i on t.id = i.user_id\n",
    "union \n",
    "select u.*, t.* \n",
    "from items t left join users u on t.user_id = u.id\n",
    "'''"
   ]
  },
  {
   "cell_type": "code",
   "execution_count": 512,
   "id": "ce7cc1bb",
   "metadata": {
    "colab": {
     "base_uri": "https://localhost:8080/",
     "height": 206
    },
    "id": "gQ-HA-Yj1vg4",
    "outputId": "9d7949fa-7597-499d-9c2b-ee2fa8fc1989"
   },
   "outputs": [
    {
     "data": {
      "text/html": [
       "<div>\n",
       "<style scoped>\n",
       "    .dataframe tbody tr th:only-of-type {\n",
       "        vertical-align: middle;\n",
       "    }\n",
       "\n",
       "    .dataframe tbody tr th {\n",
       "        vertical-align: top;\n",
       "    }\n",
       "\n",
       "    .dataframe thead th {\n",
       "        text-align: right;\n",
       "    }\n",
       "</style>\n",
       "<table border=\"1\" class=\"dataframe\">\n",
       "  <thead>\n",
       "    <tr style=\"text-align: right;\">\n",
       "      <th></th>\n",
       "      <th>id</th>\n",
       "      <th>name</th>\n",
       "      <th>victory</th>\n",
       "      <th>user_id</th>\n",
       "      <th>item_name</th>\n",
       "      <th>value</th>\n",
       "    </tr>\n",
       "  </thead>\n",
       "  <tbody>\n",
       "    <tr>\n",
       "      <th>0</th>\n",
       "      <td>1</td>\n",
       "      <td>aaron</td>\n",
       "      <td>2</td>\n",
       "      <td>1.0</td>\n",
       "      <td>beer</td>\n",
       "      <td>100.0</td>\n",
       "    </tr>\n",
       "    <tr>\n",
       "      <th>1</th>\n",
       "      <td>2</td>\n",
       "      <td>sergo</td>\n",
       "      <td>10</td>\n",
       "      <td>2.0</td>\n",
       "      <td>pizza</td>\n",
       "      <td>200.0</td>\n",
       "    </tr>\n",
       "    <tr>\n",
       "      <th>2</th>\n",
       "      <td>2</td>\n",
       "      <td>sergo</td>\n",
       "      <td>10</td>\n",
       "      <td>2.0</td>\n",
       "      <td>vodka</td>\n",
       "      <td>120.0</td>\n",
       "    </tr>\n",
       "    <tr>\n",
       "      <th>3</th>\n",
       "      <td>3</td>\n",
       "      <td>ivan</td>\n",
       "      <td>1</td>\n",
       "      <td>NaN</td>\n",
       "      <td>None</td>\n",
       "      <td>NaN</td>\n",
       "    </tr>\n",
       "  </tbody>\n",
       "</table>\n",
       "</div>"
      ],
      "text/plain": [
       "   id   name  victory  user_id item_name  value\n",
       "0   1  aaron        2      1.0      beer  100.0\n",
       "1   2  sergo       10      2.0     pizza  200.0\n",
       "2   2  sergo       10      2.0     vodka  120.0\n",
       "3   3   ivan        1      NaN      None    NaN"
      ]
     },
     "execution_count": 512,
     "metadata": {},
     "output_type": "execute_result"
    }
   ],
   "source": [
    "select(sql)"
   ]
  },
  {
   "cell_type": "markdown",
   "id": "2ae75d7b",
   "metadata": {
    "id": "5n-g1l4y90b7"
   },
   "source": [
    "## Inner join"
   ]
  },
  {
   "cell_type": "code",
   "execution_count": 513,
   "id": "efc5e754",
   "metadata": {
    "id": "KDQYrfab1wal"
   },
   "outputs": [],
   "source": [
    "sql = '''select * from german_credit t \n",
    "limit 5'''"
   ]
  },
  {
   "cell_type": "code",
   "execution_count": 514,
   "id": "048ffcc5",
   "metadata": {
    "colab": {
     "base_uri": "https://localhost:8080/",
     "height": 357
    },
    "id": "NOnK2Ih_5O9Z",
    "outputId": "a9f49d49-edd5-483c-9f70-7ddd44d8ff08"
   },
   "outputs": [
    {
     "data": {
      "text/html": [
       "<div>\n",
       "<style scoped>\n",
       "    .dataframe tbody tr th:only-of-type {\n",
       "        vertical-align: middle;\n",
       "    }\n",
       "\n",
       "    .dataframe tbody tr th {\n",
       "        vertical-align: top;\n",
       "    }\n",
       "\n",
       "    .dataframe thead th {\n",
       "        text-align: right;\n",
       "    }\n",
       "</style>\n",
       "<table border=\"1\" class=\"dataframe\">\n",
       "  <thead>\n",
       "    <tr style=\"text-align: right;\">\n",
       "      <th></th>\n",
       "      <th>age</th>\n",
       "      <th>sex</th>\n",
       "      <th>job</th>\n",
       "      <th>housing</th>\n",
       "      <th>saving_accounts</th>\n",
       "      <th>checking_account</th>\n",
       "      <th>credit_amount</th>\n",
       "      <th>duration</th>\n",
       "      <th>purpose</th>\n",
       "      <th>default</th>\n",
       "      <th>contract_dt</th>\n",
       "      <th>client_id</th>\n",
       "    </tr>\n",
       "  </thead>\n",
       "  <tbody>\n",
       "    <tr>\n",
       "      <th>0</th>\n",
       "      <td>33</td>\n",
       "      <td>male</td>\n",
       "      <td>2</td>\n",
       "      <td>own</td>\n",
       "      <td>None</td>\n",
       "      <td>None</td>\n",
       "      <td>3074</td>\n",
       "      <td>9</td>\n",
       "      <td>radio/TV</td>\n",
       "      <td>0</td>\n",
       "      <td>2008-06-29 18:52:00</td>\n",
       "      <td>210</td>\n",
       "    </tr>\n",
       "    <tr>\n",
       "      <th>1</th>\n",
       "      <td>43</td>\n",
       "      <td>male</td>\n",
       "      <td>1</td>\n",
       "      <td>own</td>\n",
       "      <td>little</td>\n",
       "      <td>little</td>\n",
       "      <td>1344</td>\n",
       "      <td>12</td>\n",
       "      <td>car</td>\n",
       "      <td>0</td>\n",
       "      <td>2007-05-20 18:30:19</td>\n",
       "      <td>929</td>\n",
       "    </tr>\n",
       "    <tr>\n",
       "      <th>2</th>\n",
       "      <td>52</td>\n",
       "      <td>male</td>\n",
       "      <td>2</td>\n",
       "      <td>own</td>\n",
       "      <td>quite rich</td>\n",
       "      <td>None</td>\n",
       "      <td>936</td>\n",
       "      <td>9</td>\n",
       "      <td>education</td>\n",
       "      <td>0</td>\n",
       "      <td>2008-04-27 08:23:07</td>\n",
       "      <td>200</td>\n",
       "    </tr>\n",
       "    <tr>\n",
       "      <th>3</th>\n",
       "      <td>35</td>\n",
       "      <td>female</td>\n",
       "      <td>3</td>\n",
       "      <td>own</td>\n",
       "      <td>little</td>\n",
       "      <td>None</td>\n",
       "      <td>1393</td>\n",
       "      <td>11</td>\n",
       "      <td>car</td>\n",
       "      <td>0</td>\n",
       "      <td>2007-05-06 10:58:22</td>\n",
       "      <td>45</td>\n",
       "    </tr>\n",
       "    <tr>\n",
       "      <th>4</th>\n",
       "      <td>28</td>\n",
       "      <td>male</td>\n",
       "      <td>2</td>\n",
       "      <td>own</td>\n",
       "      <td>little</td>\n",
       "      <td>None</td>\n",
       "      <td>776</td>\n",
       "      <td>12</td>\n",
       "      <td>radio/TV</td>\n",
       "      <td>0</td>\n",
       "      <td>2007-07-21 13:22:14</td>\n",
       "      <td>358</td>\n",
       "    </tr>\n",
       "  </tbody>\n",
       "</table>\n",
       "</div>"
      ],
      "text/plain": [
       "   age     sex  job housing saving_accounts checking_account  credit_amount  \\\n",
       "0   33    male    2     own            None             None           3074   \n",
       "1   43    male    1     own          little           little           1344   \n",
       "2   52    male    2     own      quite rich             None            936   \n",
       "3   35  female    3     own          little             None           1393   \n",
       "4   28    male    2     own          little             None            776   \n",
       "\n",
       "   duration    purpose  default          contract_dt  client_id  \n",
       "0         9   radio/TV        0  2008-06-29 18:52:00        210  \n",
       "1        12        car        0  2007-05-20 18:30:19        929  \n",
       "2         9  education        0  2008-04-27 08:23:07        200  \n",
       "3        11        car        0  2007-05-06 10:58:22         45  \n",
       "4        12   radio/TV        0  2007-07-21 13:22:14        358  "
      ]
     },
     "execution_count": 514,
     "metadata": {},
     "output_type": "execute_result"
    }
   ],
   "source": [
    "select(sql)"
   ]
  },
  {
   "cell_type": "code",
   "execution_count": 515,
   "id": "a176616e",
   "metadata": {
    "id": "Xx58BYT56KrO"
   },
   "outputs": [],
   "source": [
    "clients = pd.DataFrame({'client_id':[200,45],'data':[1,2]})"
   ]
  },
  {
   "cell_type": "code",
   "execution_count": 516,
   "id": "a02ea934",
   "metadata": {
    "id": "umVzeQH87Rei"
   },
   "outputs": [
    {
     "data": {
      "text/plain": [
       "2"
      ]
     },
     "execution_count": 516,
     "metadata": {},
     "output_type": "execute_result"
    }
   ],
   "source": [
    "clients.to_sql('clients_task_name',con,index=False,if_exists='replace')"
   ]
  },
  {
   "cell_type": "code",
   "execution_count": 517,
   "id": "50882cb0",
   "metadata": {
    "id": "OOir08aK7aCe"
   },
   "outputs": [],
   "source": [
    "sql = '''select t.*, ctn.data from german_credit t \n",
    "join clients_task_name ctn on t.client_id = ctn.client_id\n",
    "'''"
   ]
  },
  {
   "cell_type": "code",
   "execution_count": 518,
   "id": "a9f2b810",
   "metadata": {
    "colab": {
     "base_uri": "https://localhost:8080/",
     "height": 211
    },
    "id": "uNAFw68P7mEd",
    "outputId": "460f2f97-ff44-4ae3-caed-666336327ae7"
   },
   "outputs": [
    {
     "data": {
      "text/html": [
       "<div>\n",
       "<style scoped>\n",
       "    .dataframe tbody tr th:only-of-type {\n",
       "        vertical-align: middle;\n",
       "    }\n",
       "\n",
       "    .dataframe tbody tr th {\n",
       "        vertical-align: top;\n",
       "    }\n",
       "\n",
       "    .dataframe thead th {\n",
       "        text-align: right;\n",
       "    }\n",
       "</style>\n",
       "<table border=\"1\" class=\"dataframe\">\n",
       "  <thead>\n",
       "    <tr style=\"text-align: right;\">\n",
       "      <th></th>\n",
       "      <th>age</th>\n",
       "      <th>sex</th>\n",
       "      <th>job</th>\n",
       "      <th>housing</th>\n",
       "      <th>saving_accounts</th>\n",
       "      <th>checking_account</th>\n",
       "      <th>credit_amount</th>\n",
       "      <th>duration</th>\n",
       "      <th>purpose</th>\n",
       "      <th>default</th>\n",
       "      <th>contract_dt</th>\n",
       "      <th>client_id</th>\n",
       "      <th>data</th>\n",
       "    </tr>\n",
       "  </thead>\n",
       "  <tbody>\n",
       "    <tr>\n",
       "      <th>0</th>\n",
       "      <td>52</td>\n",
       "      <td>male</td>\n",
       "      <td>2</td>\n",
       "      <td>own</td>\n",
       "      <td>quite rich</td>\n",
       "      <td>None</td>\n",
       "      <td>936</td>\n",
       "      <td>9</td>\n",
       "      <td>education</td>\n",
       "      <td>0</td>\n",
       "      <td>2008-04-27 08:23:07</td>\n",
       "      <td>200</td>\n",
       "      <td>1</td>\n",
       "    </tr>\n",
       "    <tr>\n",
       "      <th>1</th>\n",
       "      <td>35</td>\n",
       "      <td>female</td>\n",
       "      <td>3</td>\n",
       "      <td>own</td>\n",
       "      <td>little</td>\n",
       "      <td>None</td>\n",
       "      <td>1393</td>\n",
       "      <td>11</td>\n",
       "      <td>car</td>\n",
       "      <td>0</td>\n",
       "      <td>2007-05-06 10:58:22</td>\n",
       "      <td>45</td>\n",
       "      <td>2</td>\n",
       "    </tr>\n",
       "  </tbody>\n",
       "</table>\n",
       "</div>"
      ],
      "text/plain": [
       "   age     sex  job housing saving_accounts checking_account  credit_amount  \\\n",
       "0   52    male    2     own      quite rich             None            936   \n",
       "1   35  female    3     own          little             None           1393   \n",
       "\n",
       "   duration    purpose  default          contract_dt  client_id  data  \n",
       "0         9  education        0  2008-04-27 08:23:07        200     1  \n",
       "1        11        car        0  2007-05-06 10:58:22         45     2  "
      ]
     },
     "execution_count": 518,
     "metadata": {},
     "output_type": "execute_result"
    }
   ],
   "source": [
    "select(sql)"
   ]
  },
  {
   "cell_type": "code",
   "execution_count": 519,
   "id": "e67b39cc",
   "metadata": {
    "id": "008D3Nqo7m6d"
   },
   "outputs": [],
   "source": [
    "sql = '''select 1 as user_id\n",
    "union all\n",
    "select 2 as user_id\n",
    "union all\n",
    "select 3 as user_id'''"
   ]
  },
  {
   "cell_type": "code",
   "execution_count": 520,
   "id": "8e671004",
   "metadata": {
    "colab": {
     "base_uri": "https://localhost:8080/",
     "height": 143
    },
    "id": "RLyBNFl772nA",
    "outputId": "247dc237-1d93-49fc-95a7-32e2f90d4c86"
   },
   "outputs": [
    {
     "data": {
      "text/html": [
       "<div>\n",
       "<style scoped>\n",
       "    .dataframe tbody tr th:only-of-type {\n",
       "        vertical-align: middle;\n",
       "    }\n",
       "\n",
       "    .dataframe tbody tr th {\n",
       "        vertical-align: top;\n",
       "    }\n",
       "\n",
       "    .dataframe thead th {\n",
       "        text-align: right;\n",
       "    }\n",
       "</style>\n",
       "<table border=\"1\" class=\"dataframe\">\n",
       "  <thead>\n",
       "    <tr style=\"text-align: right;\">\n",
       "      <th></th>\n",
       "      <th>user_id</th>\n",
       "    </tr>\n",
       "  </thead>\n",
       "  <tbody>\n",
       "    <tr>\n",
       "      <th>0</th>\n",
       "      <td>1</td>\n",
       "    </tr>\n",
       "    <tr>\n",
       "      <th>1</th>\n",
       "      <td>2</td>\n",
       "    </tr>\n",
       "    <tr>\n",
       "      <th>2</th>\n",
       "      <td>3</td>\n",
       "    </tr>\n",
       "  </tbody>\n",
       "</table>\n",
       "</div>"
      ],
      "text/plain": [
       "   user_id\n",
       "0        1\n",
       "1        2\n",
       "2        3"
      ]
     },
     "execution_count": 520,
     "metadata": {},
     "output_type": "execute_result"
    }
   ],
   "source": [
    "select(sql)"
   ]
  },
  {
   "cell_type": "code",
   "execution_count": 521,
   "id": "5c394e12",
   "metadata": {
    "id": "JGlvRrvk73sO"
   },
   "outputs": [],
   "source": [
    "sql = '''select date('2021-03-01') as month\n",
    "union all\n",
    "select date('2021-04-01') as month\n",
    "'''"
   ]
  },
  {
   "cell_type": "code",
   "execution_count": 522,
   "id": "0d8b77aa",
   "metadata": {
    "colab": {
     "base_uri": "https://localhost:8080/",
     "height": 112
    },
    "id": "mp86OltK8PGa",
    "outputId": "0a67a3df-8900-4dd2-9b33-29f07076b396"
   },
   "outputs": [
    {
     "data": {
      "text/html": [
       "<div>\n",
       "<style scoped>\n",
       "    .dataframe tbody tr th:only-of-type {\n",
       "        vertical-align: middle;\n",
       "    }\n",
       "\n",
       "    .dataframe tbody tr th {\n",
       "        vertical-align: top;\n",
       "    }\n",
       "\n",
       "    .dataframe thead th {\n",
       "        text-align: right;\n",
       "    }\n",
       "</style>\n",
       "<table border=\"1\" class=\"dataframe\">\n",
       "  <thead>\n",
       "    <tr style=\"text-align: right;\">\n",
       "      <th></th>\n",
       "      <th>month</th>\n",
       "    </tr>\n",
       "  </thead>\n",
       "  <tbody>\n",
       "    <tr>\n",
       "      <th>0</th>\n",
       "      <td>2021-03-01</td>\n",
       "    </tr>\n",
       "    <tr>\n",
       "      <th>1</th>\n",
       "      <td>2021-04-01</td>\n",
       "    </tr>\n",
       "  </tbody>\n",
       "</table>\n",
       "</div>"
      ],
      "text/plain": [
       "        month\n",
       "0  2021-03-01\n",
       "1  2021-04-01"
      ]
     },
     "execution_count": 522,
     "metadata": {},
     "output_type": "execute_result"
    }
   ],
   "source": [
    "select(sql)"
   ]
  },
  {
   "cell_type": "code",
   "execution_count": 523,
   "id": "f26fc10b",
   "metadata": {
    "id": "zezNRnZi8QJD"
   },
   "outputs": [],
   "source": [
    "sql = '''\n",
    "with users as (\n",
    "select 1 as user_id\n",
    "union all\n",
    "select 2 as user_id\n",
    "union all\n",
    "select 3 as user_id),\n",
    "\n",
    "month as\n",
    "\n",
    "(select date('2021-03-01') as month\n",
    "union all\n",
    "select date('2021-04-01') as month)\n",
    "\n",
    "\n",
    "select * from users t\n",
    "join month m on 1=1\n",
    "\n",
    "'''"
   ]
  },
  {
   "cell_type": "code",
   "execution_count": 524,
   "id": "92caa851",
   "metadata": {
    "colab": {
     "base_uri": "https://localhost:8080/",
     "height": 238
    },
    "id": "WjMLyYSR8sUy",
    "outputId": "3830e3cd-1123-4c57-dbf6-442c4b8a7c09",
    "scrolled": true
   },
   "outputs": [
    {
     "data": {
      "text/html": [
       "<div>\n",
       "<style scoped>\n",
       "    .dataframe tbody tr th:only-of-type {\n",
       "        vertical-align: middle;\n",
       "    }\n",
       "\n",
       "    .dataframe tbody tr th {\n",
       "        vertical-align: top;\n",
       "    }\n",
       "\n",
       "    .dataframe thead th {\n",
       "        text-align: right;\n",
       "    }\n",
       "</style>\n",
       "<table border=\"1\" class=\"dataframe\">\n",
       "  <thead>\n",
       "    <tr style=\"text-align: right;\">\n",
       "      <th></th>\n",
       "      <th>user_id</th>\n",
       "      <th>month</th>\n",
       "    </tr>\n",
       "  </thead>\n",
       "  <tbody>\n",
       "    <tr>\n",
       "      <th>0</th>\n",
       "      <td>1</td>\n",
       "      <td>2021-03-01</td>\n",
       "    </tr>\n",
       "    <tr>\n",
       "      <th>1</th>\n",
       "      <td>2</td>\n",
       "      <td>2021-03-01</td>\n",
       "    </tr>\n",
       "    <tr>\n",
       "      <th>2</th>\n",
       "      <td>3</td>\n",
       "      <td>2021-03-01</td>\n",
       "    </tr>\n",
       "    <tr>\n",
       "      <th>3</th>\n",
       "      <td>1</td>\n",
       "      <td>2021-04-01</td>\n",
       "    </tr>\n",
       "    <tr>\n",
       "      <th>4</th>\n",
       "      <td>2</td>\n",
       "      <td>2021-04-01</td>\n",
       "    </tr>\n",
       "    <tr>\n",
       "      <th>5</th>\n",
       "      <td>3</td>\n",
       "      <td>2021-04-01</td>\n",
       "    </tr>\n",
       "  </tbody>\n",
       "</table>\n",
       "</div>"
      ],
      "text/plain": [
       "   user_id       month\n",
       "0        1  2021-03-01\n",
       "1        2  2021-03-01\n",
       "2        3  2021-03-01\n",
       "3        1  2021-04-01\n",
       "4        2  2021-04-01\n",
       "5        3  2021-04-01"
      ]
     },
     "execution_count": 524,
     "metadata": {},
     "output_type": "execute_result"
    }
   ],
   "source": [
    "select(sql)"
   ]
  },
  {
   "cell_type": "markdown",
   "id": "974ea1eb",
   "metadata": {
    "id": "0KpdrcQ9_7Tl"
   },
   "source": [
    "## Ежемесячный отчет"
   ]
  },
  {
   "cell_type": "code",
   "execution_count": 525,
   "id": "567fa465",
   "metadata": {
    "id": "FCaU36m08tJC"
   },
   "outputs": [],
   "source": [
    "sql = '''select * from german_credit t \n",
    "limit 5'''"
   ]
  },
  {
   "cell_type": "code",
   "execution_count": 526,
   "id": "aea750eb",
   "metadata": {
    "colab": {
     "base_uri": "https://localhost:8080/",
     "height": 357
    },
    "id": "a6hS8ivn-HzZ",
    "outputId": "58e5057c-1aac-4763-d713-c9165a0958f8"
   },
   "outputs": [
    {
     "data": {
      "text/html": [
       "<div>\n",
       "<style scoped>\n",
       "    .dataframe tbody tr th:only-of-type {\n",
       "        vertical-align: middle;\n",
       "    }\n",
       "\n",
       "    .dataframe tbody tr th {\n",
       "        vertical-align: top;\n",
       "    }\n",
       "\n",
       "    .dataframe thead th {\n",
       "        text-align: right;\n",
       "    }\n",
       "</style>\n",
       "<table border=\"1\" class=\"dataframe\">\n",
       "  <thead>\n",
       "    <tr style=\"text-align: right;\">\n",
       "      <th></th>\n",
       "      <th>age</th>\n",
       "      <th>sex</th>\n",
       "      <th>job</th>\n",
       "      <th>housing</th>\n",
       "      <th>saving_accounts</th>\n",
       "      <th>checking_account</th>\n",
       "      <th>credit_amount</th>\n",
       "      <th>duration</th>\n",
       "      <th>purpose</th>\n",
       "      <th>default</th>\n",
       "      <th>contract_dt</th>\n",
       "      <th>client_id</th>\n",
       "    </tr>\n",
       "  </thead>\n",
       "  <tbody>\n",
       "    <tr>\n",
       "      <th>0</th>\n",
       "      <td>33</td>\n",
       "      <td>male</td>\n",
       "      <td>2</td>\n",
       "      <td>own</td>\n",
       "      <td>None</td>\n",
       "      <td>None</td>\n",
       "      <td>3074</td>\n",
       "      <td>9</td>\n",
       "      <td>radio/TV</td>\n",
       "      <td>0</td>\n",
       "      <td>2008-06-29 18:52:00</td>\n",
       "      <td>210</td>\n",
       "    </tr>\n",
       "    <tr>\n",
       "      <th>1</th>\n",
       "      <td>43</td>\n",
       "      <td>male</td>\n",
       "      <td>1</td>\n",
       "      <td>own</td>\n",
       "      <td>little</td>\n",
       "      <td>little</td>\n",
       "      <td>1344</td>\n",
       "      <td>12</td>\n",
       "      <td>car</td>\n",
       "      <td>0</td>\n",
       "      <td>2007-05-20 18:30:19</td>\n",
       "      <td>929</td>\n",
       "    </tr>\n",
       "    <tr>\n",
       "      <th>2</th>\n",
       "      <td>52</td>\n",
       "      <td>male</td>\n",
       "      <td>2</td>\n",
       "      <td>own</td>\n",
       "      <td>quite rich</td>\n",
       "      <td>None</td>\n",
       "      <td>936</td>\n",
       "      <td>9</td>\n",
       "      <td>education</td>\n",
       "      <td>0</td>\n",
       "      <td>2008-04-27 08:23:07</td>\n",
       "      <td>200</td>\n",
       "    </tr>\n",
       "    <tr>\n",
       "      <th>3</th>\n",
       "      <td>35</td>\n",
       "      <td>female</td>\n",
       "      <td>3</td>\n",
       "      <td>own</td>\n",
       "      <td>little</td>\n",
       "      <td>None</td>\n",
       "      <td>1393</td>\n",
       "      <td>11</td>\n",
       "      <td>car</td>\n",
       "      <td>0</td>\n",
       "      <td>2007-05-06 10:58:22</td>\n",
       "      <td>45</td>\n",
       "    </tr>\n",
       "    <tr>\n",
       "      <th>4</th>\n",
       "      <td>28</td>\n",
       "      <td>male</td>\n",
       "      <td>2</td>\n",
       "      <td>own</td>\n",
       "      <td>little</td>\n",
       "      <td>None</td>\n",
       "      <td>776</td>\n",
       "      <td>12</td>\n",
       "      <td>radio/TV</td>\n",
       "      <td>0</td>\n",
       "      <td>2007-07-21 13:22:14</td>\n",
       "      <td>358</td>\n",
       "    </tr>\n",
       "  </tbody>\n",
       "</table>\n",
       "</div>"
      ],
      "text/plain": [
       "   age     sex  job housing saving_accounts checking_account  credit_amount  \\\n",
       "0   33    male    2     own            None             None           3074   \n",
       "1   43    male    1     own          little           little           1344   \n",
       "2   52    male    2     own      quite rich             None            936   \n",
       "3   35  female    3     own          little             None           1393   \n",
       "4   28    male    2     own          little             None            776   \n",
       "\n",
       "   duration    purpose  default          contract_dt  client_id  \n",
       "0         9   radio/TV        0  2008-06-29 18:52:00        210  \n",
       "1        12        car        0  2007-05-20 18:30:19        929  \n",
       "2         9  education        0  2008-04-27 08:23:07        200  \n",
       "3        11        car        0  2007-05-06 10:58:22         45  \n",
       "4        12   radio/TV        0  2007-07-21 13:22:14        358  "
      ]
     },
     "execution_count": 526,
     "metadata": {},
     "output_type": "execute_result"
    }
   ],
   "source": [
    "select(sql)"
   ]
  },
  {
   "cell_type": "markdown",
   "id": "6125a240",
   "metadata": {
    "id": "8qJm7cZgEdar"
   },
   "source": [
    "https://drive.google.com/file/d/1ksjv4EsLItdn9rYA4oxislish-c4eE4D/view?usp=sharing"
   ]
  },
  {
   "cell_type": "code",
   "execution_count": 262,
   "id": "252845b5",
   "metadata": {
    "colab": {
     "base_uri": "https://localhost:8080/"
    },
    "id": "jC6PD-7IEOwt",
    "outputId": "0bfd7354-7414-435a-f087-9121e5b8d58c"
   },
   "outputs": [
    {
     "name": "stdout",
     "output_type": "stream",
     "text": [
      "/usr/local/lib/python3.8/dist-packages/gdown/cli.py:127: FutureWarning: Option `--id` was deprecated in version 4.3.1 and will be removed in 5.0. You don't need to pass it anymore to use a file ID.\n",
      "  warnings.warn(\n",
      "Downloading...\n",
      "From: https://drive.google.com/uc?id=1ksjv4EsLItdn9rYA4oxislish-c4eE4D\n",
      "To: /content/german_credit_augmented_transactions.csv\n",
      "100% 134k/134k [00:00<00:00, 101MB/s]\n"
     ]
    }
   ],
   "source": [
    "! gdown --id 1ksjv4EsLItdn9rYA4oxislish-c4eE4D"
   ]
  },
  {
   "cell_type": "code",
   "execution_count": 527,
   "id": "ca6ebc9d",
   "metadata": {
    "id": "-LS-ZYQa-Iid"
   },
   "outputs": [],
   "source": [
    "transactions = pd.read_csv('C:/Users/79295/Desktop/GITHUB/SQL/SQL для анализа данных/datasets/german_credit_augmented_transactions.csv')\n"
   ]
  },
  {
   "cell_type": "code",
   "execution_count": 528,
   "id": "21eaab56",
   "metadata": {
    "colab": {
     "base_uri": "https://localhost:8080/",
     "height": 206
    },
    "id": "o1ZpEM_oEL7-",
    "outputId": "9ee9bb91-a709-4fcf-bb7d-a9f5bac254d6"
   },
   "outputs": [
    {
     "data": {
      "text/html": [
       "<div>\n",
       "<style scoped>\n",
       "    .dataframe tbody tr th:only-of-type {\n",
       "        vertical-align: middle;\n",
       "    }\n",
       "\n",
       "    .dataframe tbody tr th {\n",
       "        vertical-align: top;\n",
       "    }\n",
       "\n",
       "    .dataframe thead th {\n",
       "        text-align: right;\n",
       "    }\n",
       "</style>\n",
       "<table border=\"1\" class=\"dataframe\">\n",
       "  <thead>\n",
       "    <tr style=\"text-align: right;\">\n",
       "      <th></th>\n",
       "      <th>dt</th>\n",
       "      <th>client_id</th>\n",
       "      <th>amount</th>\n",
       "    </tr>\n",
       "  </thead>\n",
       "  <tbody>\n",
       "    <tr>\n",
       "      <th>0</th>\n",
       "      <td>2008-04-06 11:54:47</td>\n",
       "      <td>950</td>\n",
       "      <td>161.38</td>\n",
       "    </tr>\n",
       "    <tr>\n",
       "      <th>1</th>\n",
       "      <td>2007-07-28 00:00:19</td>\n",
       "      <td>418</td>\n",
       "      <td>35.34</td>\n",
       "    </tr>\n",
       "    <tr>\n",
       "      <th>2</th>\n",
       "      <td>2008-03-14 20:43:54</td>\n",
       "      <td>131</td>\n",
       "      <td>146.50</td>\n",
       "    </tr>\n",
       "    <tr>\n",
       "      <th>3</th>\n",
       "      <td>2007-12-18 13:03:24</td>\n",
       "      <td>353</td>\n",
       "      <td>119.21</td>\n",
       "    </tr>\n",
       "    <tr>\n",
       "      <th>4</th>\n",
       "      <td>2007-11-09 05:18:30</td>\n",
       "      <td>849</td>\n",
       "      <td>105.24</td>\n",
       "    </tr>\n",
       "  </tbody>\n",
       "</table>\n",
       "</div>"
      ],
      "text/plain": [
       "                    dt  client_id  amount\n",
       "0  2008-04-06 11:54:47        950  161.38\n",
       "1  2007-07-28 00:00:19        418   35.34\n",
       "2  2008-03-14 20:43:54        131  146.50\n",
       "3  2007-12-18 13:03:24        353  119.21\n",
       "4  2007-11-09 05:18:30        849  105.24"
      ]
     },
     "execution_count": 528,
     "metadata": {},
     "output_type": "execute_result"
    }
   ],
   "source": [
    "transactions.head()"
   ]
  },
  {
   "cell_type": "code",
   "execution_count": 529,
   "id": "5367c746",
   "metadata": {
    "id": "gDHlTquzEuYy"
   },
   "outputs": [
    {
     "data": {
      "text/plain": [
       "4275"
      ]
     },
     "execution_count": 529,
     "metadata": {},
     "output_type": "execute_result"
    }
   ],
   "source": [
    "transactions.to_sql('client_transactions',con,index=False,if_exists='replace')"
   ]
  },
  {
   "cell_type": "code",
   "execution_count": 530,
   "id": "1ed7c1f0",
   "metadata": {
    "id": "C3NXlmWh6hFq"
   },
   "outputs": [],
   "source": [
    "sql = '''select * from client_transactions t limit 5'''"
   ]
  },
  {
   "cell_type": "code",
   "execution_count": 531,
   "id": "a8e2b0a1",
   "metadata": {
    "colab": {
     "base_uri": "https://localhost:8080/",
     "height": 206
    },
    "id": "up7SfRCI8RVF",
    "outputId": "90061aa1-d1c3-4dda-ed72-a8d67a0ae3f5"
   },
   "outputs": [
    {
     "data": {
      "text/html": [
       "<div>\n",
       "<style scoped>\n",
       "    .dataframe tbody tr th:only-of-type {\n",
       "        vertical-align: middle;\n",
       "    }\n",
       "\n",
       "    .dataframe tbody tr th {\n",
       "        vertical-align: top;\n",
       "    }\n",
       "\n",
       "    .dataframe thead th {\n",
       "        text-align: right;\n",
       "    }\n",
       "</style>\n",
       "<table border=\"1\" class=\"dataframe\">\n",
       "  <thead>\n",
       "    <tr style=\"text-align: right;\">\n",
       "      <th></th>\n",
       "      <th>dt</th>\n",
       "      <th>client_id</th>\n",
       "      <th>amount</th>\n",
       "    </tr>\n",
       "  </thead>\n",
       "  <tbody>\n",
       "    <tr>\n",
       "      <th>0</th>\n",
       "      <td>2008-04-06 11:54:47</td>\n",
       "      <td>950</td>\n",
       "      <td>161.38</td>\n",
       "    </tr>\n",
       "    <tr>\n",
       "      <th>1</th>\n",
       "      <td>2007-07-28 00:00:19</td>\n",
       "      <td>418</td>\n",
       "      <td>35.34</td>\n",
       "    </tr>\n",
       "    <tr>\n",
       "      <th>2</th>\n",
       "      <td>2008-03-14 20:43:54</td>\n",
       "      <td>131</td>\n",
       "      <td>146.50</td>\n",
       "    </tr>\n",
       "    <tr>\n",
       "      <th>3</th>\n",
       "      <td>2007-12-18 13:03:24</td>\n",
       "      <td>353</td>\n",
       "      <td>119.21</td>\n",
       "    </tr>\n",
       "    <tr>\n",
       "      <th>4</th>\n",
       "      <td>2007-11-09 05:18:30</td>\n",
       "      <td>849</td>\n",
       "      <td>105.24</td>\n",
       "    </tr>\n",
       "  </tbody>\n",
       "</table>\n",
       "</div>"
      ],
      "text/plain": [
       "                    dt  client_id  amount\n",
       "0  2008-04-06 11:54:47        950  161.38\n",
       "1  2007-07-28 00:00:19        418   35.34\n",
       "2  2008-03-14 20:43:54        131  146.50\n",
       "3  2007-12-18 13:03:24        353  119.21\n",
       "4  2007-11-09 05:18:30        849  105.24"
      ]
     },
     "execution_count": 531,
     "metadata": {},
     "output_type": "execute_result"
    }
   ],
   "source": [
    "select(sql)"
   ]
  },
  {
   "cell_type": "code",
   "execution_count": 532,
   "id": "760493e1",
   "metadata": {
    "id": "s1XOq2IQ8R5h"
   },
   "outputs": [],
   "source": [
    "sql = '''select count(*) from client_transactions t limit 5'''"
   ]
  },
  {
   "cell_type": "code",
   "execution_count": 533,
   "id": "2d08fd0e",
   "metadata": {
    "colab": {
     "base_uri": "https://localhost:8080/",
     "height": 81
    },
    "id": "VF0hFQny8VU0",
    "outputId": "27eb4555-bc5f-4f51-d478-e0d388288b5c"
   },
   "outputs": [
    {
     "data": {
      "text/html": [
       "<div>\n",
       "<style scoped>\n",
       "    .dataframe tbody tr th:only-of-type {\n",
       "        vertical-align: middle;\n",
       "    }\n",
       "\n",
       "    .dataframe tbody tr th {\n",
       "        vertical-align: top;\n",
       "    }\n",
       "\n",
       "    .dataframe thead th {\n",
       "        text-align: right;\n",
       "    }\n",
       "</style>\n",
       "<table border=\"1\" class=\"dataframe\">\n",
       "  <thead>\n",
       "    <tr style=\"text-align: right;\">\n",
       "      <th></th>\n",
       "      <th>count(*)</th>\n",
       "    </tr>\n",
       "  </thead>\n",
       "  <tbody>\n",
       "    <tr>\n",
       "      <th>0</th>\n",
       "      <td>4275</td>\n",
       "    </tr>\n",
       "  </tbody>\n",
       "</table>\n",
       "</div>"
      ],
      "text/plain": [
       "   count(*)\n",
       "0      4275"
      ]
     },
     "execution_count": 533,
     "metadata": {},
     "output_type": "execute_result"
    }
   ],
   "source": [
    "select(sql)"
   ]
  },
  {
   "cell_type": "code",
   "execution_count": 534,
   "id": "8279a80e",
   "metadata": {
    "id": "ha_U45IA8WF0"
   },
   "outputs": [],
   "source": [
    "sql = '''select \n",
    "date(t.dt, 'start of month') as month,\n",
    "count(1) as transaction_cnt,\n",
    "sum(t.amount) as amount_sum\n",
    "\n",
    " from client_transactions t\n",
    "group by 1\n",
    "order by 1\n",
    "'''"
   ]
  },
  {
   "cell_type": "code",
   "execution_count": 535,
   "id": "7db5a4f9",
   "metadata": {
    "colab": {
     "base_uri": "https://localhost:8080/",
     "height": 457
    },
    "id": "AXkc-rtW8gMY",
    "outputId": "1c5364b8-c1e7-40c3-e7e7-8d6b1e6c1899"
   },
   "outputs": [
    {
     "data": {
      "text/html": [
       "<div>\n",
       "<style scoped>\n",
       "    .dataframe tbody tr th:only-of-type {\n",
       "        vertical-align: middle;\n",
       "    }\n",
       "\n",
       "    .dataframe tbody tr th {\n",
       "        vertical-align: top;\n",
       "    }\n",
       "\n",
       "    .dataframe thead th {\n",
       "        text-align: right;\n",
       "    }\n",
       "</style>\n",
       "<table border=\"1\" class=\"dataframe\">\n",
       "  <thead>\n",
       "    <tr style=\"text-align: right;\">\n",
       "      <th></th>\n",
       "      <th>month</th>\n",
       "      <th>transaction_cnt</th>\n",
       "      <th>amount_sum</th>\n",
       "    </tr>\n",
       "  </thead>\n",
       "  <tbody>\n",
       "    <tr>\n",
       "      <th>0</th>\n",
       "      <td>2007-05-01</td>\n",
       "      <td>338</td>\n",
       "      <td>450912.77</td>\n",
       "    </tr>\n",
       "    <tr>\n",
       "      <th>1</th>\n",
       "      <td>2007-06-01</td>\n",
       "      <td>379</td>\n",
       "      <td>551664.83</td>\n",
       "    </tr>\n",
       "    <tr>\n",
       "      <th>2</th>\n",
       "      <td>2007-07-01</td>\n",
       "      <td>304</td>\n",
       "      <td>494134.50</td>\n",
       "    </tr>\n",
       "    <tr>\n",
       "      <th>3</th>\n",
       "      <td>2007-08-01</td>\n",
       "      <td>255</td>\n",
       "      <td>426903.23</td>\n",
       "    </tr>\n",
       "    <tr>\n",
       "      <th>4</th>\n",
       "      <td>2007-10-01</td>\n",
       "      <td>332</td>\n",
       "      <td>634846.49</td>\n",
       "    </tr>\n",
       "    <tr>\n",
       "      <th>5</th>\n",
       "      <td>2007-11-01</td>\n",
       "      <td>389</td>\n",
       "      <td>500420.98</td>\n",
       "    </tr>\n",
       "    <tr>\n",
       "      <th>6</th>\n",
       "      <td>2007-12-01</td>\n",
       "      <td>364</td>\n",
       "      <td>561449.89</td>\n",
       "    </tr>\n",
       "    <tr>\n",
       "      <th>7</th>\n",
       "      <td>2008-01-01</td>\n",
       "      <td>413</td>\n",
       "      <td>630137.22</td>\n",
       "    </tr>\n",
       "    <tr>\n",
       "      <th>8</th>\n",
       "      <td>2008-02-01</td>\n",
       "      <td>228</td>\n",
       "      <td>337043.47</td>\n",
       "    </tr>\n",
       "    <tr>\n",
       "      <th>9</th>\n",
       "      <td>2008-03-01</td>\n",
       "      <td>309</td>\n",
       "      <td>425599.09</td>\n",
       "    </tr>\n",
       "    <tr>\n",
       "      <th>10</th>\n",
       "      <td>2008-04-01</td>\n",
       "      <td>383</td>\n",
       "      <td>677194.97</td>\n",
       "    </tr>\n",
       "    <tr>\n",
       "      <th>11</th>\n",
       "      <td>2008-05-01</td>\n",
       "      <td>310</td>\n",
       "      <td>474962.34</td>\n",
       "    </tr>\n",
       "    <tr>\n",
       "      <th>12</th>\n",
       "      <td>2008-06-01</td>\n",
       "      <td>271</td>\n",
       "      <td>383710.84</td>\n",
       "    </tr>\n",
       "  </tbody>\n",
       "</table>\n",
       "</div>"
      ],
      "text/plain": [
       "         month  transaction_cnt  amount_sum\n",
       "0   2007-05-01              338   450912.77\n",
       "1   2007-06-01              379   551664.83\n",
       "2   2007-07-01              304   494134.50\n",
       "3   2007-08-01              255   426903.23\n",
       "4   2007-10-01              332   634846.49\n",
       "5   2007-11-01              389   500420.98\n",
       "6   2007-12-01              364   561449.89\n",
       "7   2008-01-01              413   630137.22\n",
       "8   2008-02-01              228   337043.47\n",
       "9   2008-03-01              309   425599.09\n",
       "10  2008-04-01              383   677194.97\n",
       "11  2008-05-01              310   474962.34\n",
       "12  2008-06-01              271   383710.84"
      ]
     },
     "execution_count": 535,
     "metadata": {},
     "output_type": "execute_result"
    }
   ],
   "source": [
    "select(sql)"
   ]
  },
  {
   "cell_type": "code",
   "execution_count": 536,
   "id": "8bc9e568",
   "metadata": {
    "id": "AmYmesLp93Xp"
   },
   "outputs": [],
   "source": [
    "min = '''select date(min(t.dt),'start of month') from client_transactions t'''"
   ]
  },
  {
   "cell_type": "code",
   "execution_count": 537,
   "id": "6923c7c9",
   "metadata": {
    "id": "LvDnn8Y0-OZb"
   },
   "outputs": [],
   "source": [
    "max = '''select date(max(t.dt),'start of month') from client_transactions t'''"
   ]
  },
  {
   "cell_type": "code",
   "execution_count": 538,
   "id": "7c5f20b4",
   "metadata": {
    "colab": {
     "base_uri": "https://localhost:8080/",
     "height": 81
    },
    "id": "1WmxbFNd971V",
    "outputId": "91680967-e49c-451e-8c02-3286ec897d14"
   },
   "outputs": [
    {
     "data": {
      "text/html": [
       "<div>\n",
       "<style scoped>\n",
       "    .dataframe tbody tr th:only-of-type {\n",
       "        vertical-align: middle;\n",
       "    }\n",
       "\n",
       "    .dataframe tbody tr th {\n",
       "        vertical-align: top;\n",
       "    }\n",
       "\n",
       "    .dataframe thead th {\n",
       "        text-align: right;\n",
       "    }\n",
       "</style>\n",
       "<table border=\"1\" class=\"dataframe\">\n",
       "  <thead>\n",
       "    <tr style=\"text-align: right;\">\n",
       "      <th></th>\n",
       "      <th>date(max(t.dt),'start of month')</th>\n",
       "    </tr>\n",
       "  </thead>\n",
       "  <tbody>\n",
       "    <tr>\n",
       "      <th>0</th>\n",
       "      <td>2008-06-01</td>\n",
       "    </tr>\n",
       "  </tbody>\n",
       "</table>\n",
       "</div>"
      ],
      "text/plain": [
       "  date(max(t.dt),'start of month')\n",
       "0                       2008-06-01"
      ]
     },
     "execution_count": 538,
     "metadata": {},
     "output_type": "execute_result"
    }
   ],
   "source": [
    "select(max)"
   ]
  },
  {
   "cell_type": "code",
   "execution_count": 539,
   "id": "8fc9fe67",
   "metadata": {
    "id": "JEKiGXjK8g_B"
   },
   "outputs": [],
   "source": [
    "sql = f'''WITH RECURSIVE dates(month) AS (\n",
    "  VALUES(({min}))\n",
    "  UNION ALL\n",
    "  SELECT date(month, '+1 month')\n",
    "  FROM dates\n",
    "  WHERE month < ({max})\n",
    ")\n",
    "SELECT t.month FROM dates t'''"
   ]
  },
  {
   "cell_type": "code",
   "execution_count": 540,
   "id": "8e5083b2",
   "metadata": {
    "colab": {
     "base_uri": "https://localhost:8080/",
     "height": 488
    },
    "id": "kgwlaJ-W9Zyz",
    "outputId": "18272241-8703-4c6f-b879-ab6f13d3a8ae"
   },
   "outputs": [
    {
     "data": {
      "text/html": [
       "<div>\n",
       "<style scoped>\n",
       "    .dataframe tbody tr th:only-of-type {\n",
       "        vertical-align: middle;\n",
       "    }\n",
       "\n",
       "    .dataframe tbody tr th {\n",
       "        vertical-align: top;\n",
       "    }\n",
       "\n",
       "    .dataframe thead th {\n",
       "        text-align: right;\n",
       "    }\n",
       "</style>\n",
       "<table border=\"1\" class=\"dataframe\">\n",
       "  <thead>\n",
       "    <tr style=\"text-align: right;\">\n",
       "      <th></th>\n",
       "      <th>month</th>\n",
       "    </tr>\n",
       "  </thead>\n",
       "  <tbody>\n",
       "    <tr>\n",
       "      <th>0</th>\n",
       "      <td>2007-05-01</td>\n",
       "    </tr>\n",
       "    <tr>\n",
       "      <th>1</th>\n",
       "      <td>2007-06-01</td>\n",
       "    </tr>\n",
       "    <tr>\n",
       "      <th>2</th>\n",
       "      <td>2007-07-01</td>\n",
       "    </tr>\n",
       "    <tr>\n",
       "      <th>3</th>\n",
       "      <td>2007-08-01</td>\n",
       "    </tr>\n",
       "    <tr>\n",
       "      <th>4</th>\n",
       "      <td>2007-09-01</td>\n",
       "    </tr>\n",
       "    <tr>\n",
       "      <th>5</th>\n",
       "      <td>2007-10-01</td>\n",
       "    </tr>\n",
       "    <tr>\n",
       "      <th>6</th>\n",
       "      <td>2007-11-01</td>\n",
       "    </tr>\n",
       "    <tr>\n",
       "      <th>7</th>\n",
       "      <td>2007-12-01</td>\n",
       "    </tr>\n",
       "    <tr>\n",
       "      <th>8</th>\n",
       "      <td>2008-01-01</td>\n",
       "    </tr>\n",
       "    <tr>\n",
       "      <th>9</th>\n",
       "      <td>2008-02-01</td>\n",
       "    </tr>\n",
       "    <tr>\n",
       "      <th>10</th>\n",
       "      <td>2008-03-01</td>\n",
       "    </tr>\n",
       "    <tr>\n",
       "      <th>11</th>\n",
       "      <td>2008-04-01</td>\n",
       "    </tr>\n",
       "    <tr>\n",
       "      <th>12</th>\n",
       "      <td>2008-05-01</td>\n",
       "    </tr>\n",
       "    <tr>\n",
       "      <th>13</th>\n",
       "      <td>2008-06-01</td>\n",
       "    </tr>\n",
       "  </tbody>\n",
       "</table>\n",
       "</div>"
      ],
      "text/plain": [
       "         month\n",
       "0   2007-05-01\n",
       "1   2007-06-01\n",
       "2   2007-07-01\n",
       "3   2007-08-01\n",
       "4   2007-09-01\n",
       "5   2007-10-01\n",
       "6   2007-11-01\n",
       "7   2007-12-01\n",
       "8   2008-01-01\n",
       "9   2008-02-01\n",
       "10  2008-03-01\n",
       "11  2008-04-01\n",
       "12  2008-05-01\n",
       "13  2008-06-01"
      ]
     },
     "execution_count": 540,
     "metadata": {},
     "output_type": "execute_result"
    }
   ],
   "source": [
    "select(sql)"
   ]
  },
  {
   "cell_type": "code",
   "execution_count": 541,
   "id": "e12ddd16",
   "metadata": {
    "id": "JBW11OEM9eoN"
   },
   "outputs": [],
   "source": [
    "sql = f'''WITH dates(month) AS (\n",
    "  VALUES(({min}))\n",
    "  UNION ALL\n",
    "  SELECT date(month, '+1 month')\n",
    "  FROM dates\n",
    "  WHERE month < ({max})\n",
    "),\n",
    "trans_month as\n",
    "\n",
    "(select \n",
    "date(t.dt, 'start of month') as month,\n",
    "count(1) as transaction_cnt,\n",
    "sum(t.amount) as amount_sum\n",
    "\n",
    " from client_transactions t\n",
    "group by 1\n",
    "order by 1)\n",
    "\n",
    "\n",
    "SELECT t.month,\n",
    "coalesce(tm.transaction_cnt,0) as transaction_cnt,\n",
    "coalesce(tm.amount_sum,0) as amount_sum\n",
    "\n",
    "FROM dates t\n",
    "left join trans_month tm on t.month = tm.month\n",
    "order by t.month'''"
   ]
  },
  {
   "cell_type": "code",
   "execution_count": 542,
   "id": "ec2e210e",
   "metadata": {
    "colab": {
     "base_uri": "https://localhost:8080/",
     "height": 488
    },
    "id": "tgw2wPaU-dvU",
    "outputId": "db20b895-68a9-4c82-a889-7064281ec48d"
   },
   "outputs": [
    {
     "data": {
      "text/html": [
       "<div>\n",
       "<style scoped>\n",
       "    .dataframe tbody tr th:only-of-type {\n",
       "        vertical-align: middle;\n",
       "    }\n",
       "\n",
       "    .dataframe tbody tr th {\n",
       "        vertical-align: top;\n",
       "    }\n",
       "\n",
       "    .dataframe thead th {\n",
       "        text-align: right;\n",
       "    }\n",
       "</style>\n",
       "<table border=\"1\" class=\"dataframe\">\n",
       "  <thead>\n",
       "    <tr style=\"text-align: right;\">\n",
       "      <th></th>\n",
       "      <th>month</th>\n",
       "      <th>transaction_cnt</th>\n",
       "      <th>amount_sum</th>\n",
       "    </tr>\n",
       "  </thead>\n",
       "  <tbody>\n",
       "    <tr>\n",
       "      <th>0</th>\n",
       "      <td>2007-05-01</td>\n",
       "      <td>338</td>\n",
       "      <td>450912.77</td>\n",
       "    </tr>\n",
       "    <tr>\n",
       "      <th>1</th>\n",
       "      <td>2007-06-01</td>\n",
       "      <td>379</td>\n",
       "      <td>551664.83</td>\n",
       "    </tr>\n",
       "    <tr>\n",
       "      <th>2</th>\n",
       "      <td>2007-07-01</td>\n",
       "      <td>304</td>\n",
       "      <td>494134.50</td>\n",
       "    </tr>\n",
       "    <tr>\n",
       "      <th>3</th>\n",
       "      <td>2007-08-01</td>\n",
       "      <td>255</td>\n",
       "      <td>426903.23</td>\n",
       "    </tr>\n",
       "    <tr>\n",
       "      <th>4</th>\n",
       "      <td>2007-09-01</td>\n",
       "      <td>0</td>\n",
       "      <td>0.00</td>\n",
       "    </tr>\n",
       "    <tr>\n",
       "      <th>5</th>\n",
       "      <td>2007-10-01</td>\n",
       "      <td>332</td>\n",
       "      <td>634846.49</td>\n",
       "    </tr>\n",
       "    <tr>\n",
       "      <th>6</th>\n",
       "      <td>2007-11-01</td>\n",
       "      <td>389</td>\n",
       "      <td>500420.98</td>\n",
       "    </tr>\n",
       "    <tr>\n",
       "      <th>7</th>\n",
       "      <td>2007-12-01</td>\n",
       "      <td>364</td>\n",
       "      <td>561449.89</td>\n",
       "    </tr>\n",
       "    <tr>\n",
       "      <th>8</th>\n",
       "      <td>2008-01-01</td>\n",
       "      <td>413</td>\n",
       "      <td>630137.22</td>\n",
       "    </tr>\n",
       "    <tr>\n",
       "      <th>9</th>\n",
       "      <td>2008-02-01</td>\n",
       "      <td>228</td>\n",
       "      <td>337043.47</td>\n",
       "    </tr>\n",
       "    <tr>\n",
       "      <th>10</th>\n",
       "      <td>2008-03-01</td>\n",
       "      <td>309</td>\n",
       "      <td>425599.09</td>\n",
       "    </tr>\n",
       "    <tr>\n",
       "      <th>11</th>\n",
       "      <td>2008-04-01</td>\n",
       "      <td>383</td>\n",
       "      <td>677194.97</td>\n",
       "    </tr>\n",
       "    <tr>\n",
       "      <th>12</th>\n",
       "      <td>2008-05-01</td>\n",
       "      <td>310</td>\n",
       "      <td>474962.34</td>\n",
       "    </tr>\n",
       "    <tr>\n",
       "      <th>13</th>\n",
       "      <td>2008-06-01</td>\n",
       "      <td>271</td>\n",
       "      <td>383710.84</td>\n",
       "    </tr>\n",
       "  </tbody>\n",
       "</table>\n",
       "</div>"
      ],
      "text/plain": [
       "         month  transaction_cnt  amount_sum\n",
       "0   2007-05-01              338   450912.77\n",
       "1   2007-06-01              379   551664.83\n",
       "2   2007-07-01              304   494134.50\n",
       "3   2007-08-01              255   426903.23\n",
       "4   2007-09-01                0        0.00\n",
       "5   2007-10-01              332   634846.49\n",
       "6   2007-11-01              389   500420.98\n",
       "7   2007-12-01              364   561449.89\n",
       "8   2008-01-01              413   630137.22\n",
       "9   2008-02-01              228   337043.47\n",
       "10  2008-03-01              309   425599.09\n",
       "11  2008-04-01              383   677194.97\n",
       "12  2008-05-01              310   474962.34\n",
       "13  2008-06-01              271   383710.84"
      ]
     },
     "execution_count": 542,
     "metadata": {},
     "output_type": "execute_result"
    }
   ],
   "source": [
    "select(sql)"
   ]
  },
  {
   "cell_type": "markdown",
   "id": "c035eb41",
   "metadata": {
    "id": "_u-VJCgYGPIE"
   },
   "source": [
    "## Ежемесячный отчет на пользователя"
   ]
  },
  {
   "cell_type": "code",
   "execution_count": 543,
   "id": "90996e14",
   "metadata": {
    "id": "uvReLxR3B_1C"
   },
   "outputs": [],
   "source": [
    "sql = '''select distinct t.client_id from german_credit t'''"
   ]
  },
  {
   "cell_type": "code",
   "execution_count": 544,
   "id": "9ebe04e2",
   "metadata": {
    "colab": {
     "base_uri": "https://localhost:8080/",
     "height": 424
    },
    "id": "o5xZDQp0CG29",
    "outputId": "f7e3adef-c07c-4587-ac71-9649cfcf9577"
   },
   "outputs": [
    {
     "data": {
      "text/html": [
       "<div>\n",
       "<style scoped>\n",
       "    .dataframe tbody tr th:only-of-type {\n",
       "        vertical-align: middle;\n",
       "    }\n",
       "\n",
       "    .dataframe tbody tr th {\n",
       "        vertical-align: top;\n",
       "    }\n",
       "\n",
       "    .dataframe thead th {\n",
       "        text-align: right;\n",
       "    }\n",
       "</style>\n",
       "<table border=\"1\" class=\"dataframe\">\n",
       "  <thead>\n",
       "    <tr style=\"text-align: right;\">\n",
       "      <th></th>\n",
       "      <th>client_id</th>\n",
       "    </tr>\n",
       "  </thead>\n",
       "  <tbody>\n",
       "    <tr>\n",
       "      <th>0</th>\n",
       "      <td>210</td>\n",
       "    </tr>\n",
       "    <tr>\n",
       "      <th>1</th>\n",
       "      <td>929</td>\n",
       "    </tr>\n",
       "    <tr>\n",
       "      <th>2</th>\n",
       "      <td>200</td>\n",
       "    </tr>\n",
       "    <tr>\n",
       "      <th>3</th>\n",
       "      <td>45</td>\n",
       "    </tr>\n",
       "    <tr>\n",
       "      <th>4</th>\n",
       "      <td>358</td>\n",
       "    </tr>\n",
       "    <tr>\n",
       "      <th>...</th>\n",
       "      <td>...</td>\n",
       "    </tr>\n",
       "    <tr>\n",
       "      <th>995</th>\n",
       "      <td>624</td>\n",
       "    </tr>\n",
       "    <tr>\n",
       "      <th>996</th>\n",
       "      <td>181</td>\n",
       "    </tr>\n",
       "    <tr>\n",
       "      <th>997</th>\n",
       "      <td>730</td>\n",
       "    </tr>\n",
       "    <tr>\n",
       "      <th>998</th>\n",
       "      <td>557</td>\n",
       "    </tr>\n",
       "    <tr>\n",
       "      <th>999</th>\n",
       "      <td>23</td>\n",
       "    </tr>\n",
       "  </tbody>\n",
       "</table>\n",
       "<p>1000 rows × 1 columns</p>\n",
       "</div>"
      ],
      "text/plain": [
       "     client_id\n",
       "0          210\n",
       "1          929\n",
       "2          200\n",
       "3           45\n",
       "4          358\n",
       "..         ...\n",
       "995        624\n",
       "996        181\n",
       "997        730\n",
       "998        557\n",
       "999         23\n",
       "\n",
       "[1000 rows x 1 columns]"
      ]
     },
     "execution_count": 544,
     "metadata": {},
     "output_type": "execute_result"
    }
   ],
   "source": [
    "select(sql)"
   ]
  },
  {
   "cell_type": "code",
   "execution_count": 545,
   "id": "c84e661d",
   "metadata": {
    "id": "T4SVSqW6DH5Y"
   },
   "outputs": [],
   "source": [
    "sql = '''select \n",
    "date(t.dt, 'start of month') as month,\n",
    "t.client_id,\n",
    "count(1) as transaction_cnt,\n",
    "sum(t.amount) as amount_sum\n",
    "\n",
    " from client_transactions t\n",
    "group by 1,2\n",
    "order by 1'''"
   ]
  },
  {
   "cell_type": "code",
   "execution_count": 546,
   "id": "76dfc8b1",
   "metadata": {
    "colab": {
     "base_uri": "https://localhost:8080/",
     "height": 424
    },
    "id": "kYVWL9tlDKX-",
    "outputId": "645284ca-7563-4d19-e981-48498f6c1aec"
   },
   "outputs": [
    {
     "data": {
      "text/html": [
       "<div>\n",
       "<style scoped>\n",
       "    .dataframe tbody tr th:only-of-type {\n",
       "        vertical-align: middle;\n",
       "    }\n",
       "\n",
       "    .dataframe tbody tr th {\n",
       "        vertical-align: top;\n",
       "    }\n",
       "\n",
       "    .dataframe thead th {\n",
       "        text-align: right;\n",
       "    }\n",
       "</style>\n",
       "<table border=\"1\" class=\"dataframe\">\n",
       "  <thead>\n",
       "    <tr style=\"text-align: right;\">\n",
       "      <th></th>\n",
       "      <th>month</th>\n",
       "      <th>client_id</th>\n",
       "      <th>transaction_cnt</th>\n",
       "      <th>amount_sum</th>\n",
       "    </tr>\n",
       "  </thead>\n",
       "  <tbody>\n",
       "    <tr>\n",
       "      <th>0</th>\n",
       "      <td>2007-05-01</td>\n",
       "      <td>101</td>\n",
       "      <td>1</td>\n",
       "      <td>149.67</td>\n",
       "    </tr>\n",
       "    <tr>\n",
       "      <th>1</th>\n",
       "      <td>2007-05-01</td>\n",
       "      <td>107</td>\n",
       "      <td>2</td>\n",
       "      <td>217.50</td>\n",
       "    </tr>\n",
       "    <tr>\n",
       "      <th>2</th>\n",
       "      <td>2007-05-01</td>\n",
       "      <td>110</td>\n",
       "      <td>1</td>\n",
       "      <td>1081.32</td>\n",
       "    </tr>\n",
       "    <tr>\n",
       "      <th>3</th>\n",
       "      <td>2007-05-01</td>\n",
       "      <td>111</td>\n",
       "      <td>1</td>\n",
       "      <td>139.97</td>\n",
       "    </tr>\n",
       "    <tr>\n",
       "      <th>4</th>\n",
       "      <td>2007-05-01</td>\n",
       "      <td>113</td>\n",
       "      <td>1</td>\n",
       "      <td>1051.29</td>\n",
       "    </tr>\n",
       "    <tr>\n",
       "      <th>...</th>\n",
       "      <td>...</td>\n",
       "      <td>...</td>\n",
       "      <td>...</td>\n",
       "      <td>...</td>\n",
       "    </tr>\n",
       "    <tr>\n",
       "      <th>3551</th>\n",
       "      <td>2008-06-01</td>\n",
       "      <td>983</td>\n",
       "      <td>1</td>\n",
       "      <td>10050.37</td>\n",
       "    </tr>\n",
       "    <tr>\n",
       "      <th>3552</th>\n",
       "      <td>2008-06-01</td>\n",
       "      <td>987</td>\n",
       "      <td>1</td>\n",
       "      <td>192.48</td>\n",
       "    </tr>\n",
       "    <tr>\n",
       "      <th>3553</th>\n",
       "      <td>2008-06-01</td>\n",
       "      <td>992</td>\n",
       "      <td>1</td>\n",
       "      <td>-610.21</td>\n",
       "    </tr>\n",
       "    <tr>\n",
       "      <th>3554</th>\n",
       "      <td>2008-06-01</td>\n",
       "      <td>996</td>\n",
       "      <td>1</td>\n",
       "      <td>121.28</td>\n",
       "    </tr>\n",
       "    <tr>\n",
       "      <th>3555</th>\n",
       "      <td>2008-06-01</td>\n",
       "      <td>999</td>\n",
       "      <td>1</td>\n",
       "      <td>-641.25</td>\n",
       "    </tr>\n",
       "  </tbody>\n",
       "</table>\n",
       "<p>3556 rows × 4 columns</p>\n",
       "</div>"
      ],
      "text/plain": [
       "           month  client_id  transaction_cnt  amount_sum\n",
       "0     2007-05-01        101                1      149.67\n",
       "1     2007-05-01        107                2      217.50\n",
       "2     2007-05-01        110                1     1081.32\n",
       "3     2007-05-01        111                1      139.97\n",
       "4     2007-05-01        113                1     1051.29\n",
       "...          ...        ...              ...         ...\n",
       "3551  2008-06-01        983                1    10050.37\n",
       "3552  2008-06-01        987                1      192.48\n",
       "3553  2008-06-01        992                1     -610.21\n",
       "3554  2008-06-01        996                1      121.28\n",
       "3555  2008-06-01        999                1     -641.25\n",
       "\n",
       "[3556 rows x 4 columns]"
      ]
     },
     "execution_count": 546,
     "metadata": {},
     "output_type": "execute_result"
    }
   ],
   "source": [
    "select(sql)"
   ]
  },
  {
   "cell_type": "code",
   "execution_count": 547,
   "id": "6c1f5c44",
   "metadata": {
    "id": "1iPu8-bl-eai"
   },
   "outputs": [],
   "source": [
    "sql = f'''WITH dates(month) AS (\n",
    "  VALUES(({min}))\n",
    "  UNION ALL\n",
    "  SELECT date(month, '+1 month')\n",
    "  FROM dates\n",
    "  WHERE month < ({max})\n",
    "),\n",
    "\n",
    "clients as (select distinct t.client_id from german_credit t),\n",
    "\n",
    "clients_month as\n",
    "\n",
    "(SELECT t.month, c.client_id FROM dates t\n",
    "join clients c on 1=1),\n",
    "\n",
    "trans_month as \n",
    "\n",
    "(select \n",
    "date(t.dt, 'start of month') as month,\n",
    "t.client_id,\n",
    "count(1) as transaction_cnt,\n",
    "sum(t.amount) as amount_sum\n",
    "\n",
    " from client_transactions t\n",
    "group by 1,2\n",
    "order by 1),\n",
    "\n",
    "client_trans_month as (\n",
    "\n",
    "select t.*,\n",
    "tm.transaction_cnt,\n",
    "tm.amount_sum,\n",
    "1 as user,\n",
    "case when tm.transaction_cnt > 0 then 1 else 0 end as active\n",
    "\n",
    " from clients_month t\n",
    "left join trans_month tm on t.client_id = tm.client_id\n",
    "and t.month = tm.month\n",
    ")\n",
    "\n",
    "select t.month, sum(t.user) as user_cnt, sum(t.amount_sum) as amount_sum , \n",
    "sum(t.active) as active_cnt from client_trans_month t\n",
    "group by t.month\n",
    "'''"
   ]
  },
  {
   "cell_type": "code",
   "execution_count": 548,
   "id": "43682558",
   "metadata": {
    "id": "dn8JFzKIB8o-"
   },
   "outputs": [],
   "source": [
    "t = select(sql)"
   ]
  },
  {
   "cell_type": "code",
   "execution_count": 549,
   "id": "e96864ee",
   "metadata": {
    "id": "wjYcuREaB-LU"
   },
   "outputs": [],
   "source": [
    "sql = '''select sum(t.amount) from client_transactions t'''"
   ]
  },
  {
   "cell_type": "code",
   "execution_count": 550,
   "id": "b582cf73",
   "metadata": {
    "colab": {
     "base_uri": "https://localhost:8080/",
     "height": 81
    },
    "id": "CdfHjKycFDLC",
    "outputId": "0d3dbd65-c207-4ee5-ae03-968334bceafe"
   },
   "outputs": [
    {
     "data": {
      "text/html": [
       "<div>\n",
       "<style scoped>\n",
       "    .dataframe tbody tr th:only-of-type {\n",
       "        vertical-align: middle;\n",
       "    }\n",
       "\n",
       "    .dataframe tbody tr th {\n",
       "        vertical-align: top;\n",
       "    }\n",
       "\n",
       "    .dataframe thead th {\n",
       "        text-align: right;\n",
       "    }\n",
       "</style>\n",
       "<table border=\"1\" class=\"dataframe\">\n",
       "  <thead>\n",
       "    <tr style=\"text-align: right;\">\n",
       "      <th></th>\n",
       "      <th>sum(t.amount)</th>\n",
       "    </tr>\n",
       "  </thead>\n",
       "  <tbody>\n",
       "    <tr>\n",
       "      <th>0</th>\n",
       "      <td>6548980.62</td>\n",
       "    </tr>\n",
       "  </tbody>\n",
       "</table>\n",
       "</div>"
      ],
      "text/plain": [
       "   sum(t.amount)\n",
       "0     6548980.62"
      ]
     },
     "execution_count": 550,
     "metadata": {},
     "output_type": "execute_result"
    }
   ],
   "source": [
    "select(sql)"
   ]
  },
  {
   "cell_type": "code",
   "execution_count": 551,
   "id": "8cbe8363",
   "metadata": {
    "colab": {
     "base_uri": "https://localhost:8080/"
    },
    "id": "hGIWgbZsFECn",
    "outputId": "9c4eda18-c472-4c75-b6dd-fd9ac5fd5890"
   },
   "outputs": [
    {
     "data": {
      "text/plain": [
       "6548980.619999999"
      ]
     },
     "execution_count": 551,
     "metadata": {},
     "output_type": "execute_result"
    }
   ],
   "source": [
    "t['amount_sum'].sum()"
   ]
  },
  {
   "cell_type": "code",
   "execution_count": 552,
   "id": "c857b14c",
   "metadata": {
    "colab": {
     "base_uri": "https://localhost:8080/",
     "height": 488
    },
    "id": "ms62hHw2FKtx",
    "outputId": "7a20860e-5388-4e0e-8b07-72e57f398db9"
   },
   "outputs": [
    {
     "data": {
      "text/html": [
       "<div>\n",
       "<style scoped>\n",
       "    .dataframe tbody tr th:only-of-type {\n",
       "        vertical-align: middle;\n",
       "    }\n",
       "\n",
       "    .dataframe tbody tr th {\n",
       "        vertical-align: top;\n",
       "    }\n",
       "\n",
       "    .dataframe thead th {\n",
       "        text-align: right;\n",
       "    }\n",
       "</style>\n",
       "<table border=\"1\" class=\"dataframe\">\n",
       "  <thead>\n",
       "    <tr style=\"text-align: right;\">\n",
       "      <th></th>\n",
       "      <th>month</th>\n",
       "      <th>user_cnt</th>\n",
       "      <th>amount_sum</th>\n",
       "      <th>active_cnt</th>\n",
       "    </tr>\n",
       "  </thead>\n",
       "  <tbody>\n",
       "    <tr>\n",
       "      <th>0</th>\n",
       "      <td>2007-05-01</td>\n",
       "      <td>1000</td>\n",
       "      <td>450912.77</td>\n",
       "      <td>288</td>\n",
       "    </tr>\n",
       "    <tr>\n",
       "      <th>1</th>\n",
       "      <td>2007-06-01</td>\n",
       "      <td>1000</td>\n",
       "      <td>551664.83</td>\n",
       "      <td>297</td>\n",
       "    </tr>\n",
       "    <tr>\n",
       "      <th>2</th>\n",
       "      <td>2007-07-01</td>\n",
       "      <td>1000</td>\n",
       "      <td>494134.50</td>\n",
       "      <td>259</td>\n",
       "    </tr>\n",
       "    <tr>\n",
       "      <th>3</th>\n",
       "      <td>2007-08-01</td>\n",
       "      <td>1000</td>\n",
       "      <td>426903.23</td>\n",
       "      <td>222</td>\n",
       "    </tr>\n",
       "    <tr>\n",
       "      <th>4</th>\n",
       "      <td>2007-09-01</td>\n",
       "      <td>1000</td>\n",
       "      <td>NaN</td>\n",
       "      <td>0</td>\n",
       "    </tr>\n",
       "    <tr>\n",
       "      <th>5</th>\n",
       "      <td>2007-10-01</td>\n",
       "      <td>1000</td>\n",
       "      <td>634846.49</td>\n",
       "      <td>283</td>\n",
       "    </tr>\n",
       "    <tr>\n",
       "      <th>6</th>\n",
       "      <td>2007-11-01</td>\n",
       "      <td>1000</td>\n",
       "      <td>500420.98</td>\n",
       "      <td>323</td>\n",
       "    </tr>\n",
       "    <tr>\n",
       "      <th>7</th>\n",
       "      <td>2007-12-01</td>\n",
       "      <td>1000</td>\n",
       "      <td>561449.89</td>\n",
       "      <td>287</td>\n",
       "    </tr>\n",
       "    <tr>\n",
       "      <th>8</th>\n",
       "      <td>2008-01-01</td>\n",
       "      <td>1000</td>\n",
       "      <td>630137.22</td>\n",
       "      <td>325</td>\n",
       "    </tr>\n",
       "    <tr>\n",
       "      <th>9</th>\n",
       "      <td>2008-02-01</td>\n",
       "      <td>1000</td>\n",
       "      <td>337043.47</td>\n",
       "      <td>204</td>\n",
       "    </tr>\n",
       "    <tr>\n",
       "      <th>10</th>\n",
       "      <td>2008-03-01</td>\n",
       "      <td>1000</td>\n",
       "      <td>425599.09</td>\n",
       "      <td>267</td>\n",
       "    </tr>\n",
       "    <tr>\n",
       "      <th>11</th>\n",
       "      <td>2008-04-01</td>\n",
       "      <td>1000</td>\n",
       "      <td>677194.97</td>\n",
       "      <td>301</td>\n",
       "    </tr>\n",
       "    <tr>\n",
       "      <th>12</th>\n",
       "      <td>2008-05-01</td>\n",
       "      <td>1000</td>\n",
       "      <td>474962.34</td>\n",
       "      <td>263</td>\n",
       "    </tr>\n",
       "    <tr>\n",
       "      <th>13</th>\n",
       "      <td>2008-06-01</td>\n",
       "      <td>1000</td>\n",
       "      <td>383710.84</td>\n",
       "      <td>237</td>\n",
       "    </tr>\n",
       "  </tbody>\n",
       "</table>\n",
       "</div>"
      ],
      "text/plain": [
       "         month  user_cnt  amount_sum  active_cnt\n",
       "0   2007-05-01      1000   450912.77         288\n",
       "1   2007-06-01      1000   551664.83         297\n",
       "2   2007-07-01      1000   494134.50         259\n",
       "3   2007-08-01      1000   426903.23         222\n",
       "4   2007-09-01      1000         NaN           0\n",
       "5   2007-10-01      1000   634846.49         283\n",
       "6   2007-11-01      1000   500420.98         323\n",
       "7   2007-12-01      1000   561449.89         287\n",
       "8   2008-01-01      1000   630137.22         325\n",
       "9   2008-02-01      1000   337043.47         204\n",
       "10  2008-03-01      1000   425599.09         267\n",
       "11  2008-04-01      1000   677194.97         301\n",
       "12  2008-05-01      1000   474962.34         263\n",
       "13  2008-06-01      1000   383710.84         237"
      ]
     },
     "execution_count": 552,
     "metadata": {},
     "output_type": "execute_result"
    }
   ],
   "source": [
    "t"
   ]
  },
  {
   "cell_type": "code",
   "execution_count": 553,
   "id": "7a72f7fa",
   "metadata": {
    "colab": {
     "base_uri": "https://localhost:8080/"
    },
    "id": "wq8gdmMhHlUu",
    "outputId": "af6e21c3-a8d2-4485-c6f9-eef46eafa7bb"
   },
   "outputs": [
    {
     "data": {
      "text/plain": [
       "7300000"
      ]
     },
     "execution_count": 553,
     "metadata": {},
     "output_type": "execute_result"
    }
   ],
   "source": [
    "2 * 365 * 10000"
   ]
  },
  {
   "cell_type": "markdown",
   "id": "5129d48f",
   "metadata": {
    "id": "-GlbxyGS66aX"
   },
   "source": [
    "## Джойн таблицы самой на себя (нарастающий итог)"
   ]
  },
  {
   "cell_type": "code",
   "execution_count": 554,
   "id": "9d76aa0c",
   "metadata": {
    "id": "6MlSZWHF3Sg-"
   },
   "outputs": [],
   "source": [
    "t = pd.DataFrame({'dt':pd.to_datetime(['2021-04-01','2021-04-02','2021-04-03'],format='%Y-%m-%d'),\n",
    "                  'revenue':[1,2,3]})"
   ]
  },
  {
   "cell_type": "code",
   "execution_count": 555,
   "id": "575e8b5a",
   "metadata": {
    "colab": {
     "base_uri": "https://localhost:8080/",
     "height": 143
    },
    "id": "0yuiU73B438X",
    "outputId": "e3d1497f-808d-4109-f91a-a02d0e004725"
   },
   "outputs": [
    {
     "data": {
      "text/html": [
       "<div>\n",
       "<style scoped>\n",
       "    .dataframe tbody tr th:only-of-type {\n",
       "        vertical-align: middle;\n",
       "    }\n",
       "\n",
       "    .dataframe tbody tr th {\n",
       "        vertical-align: top;\n",
       "    }\n",
       "\n",
       "    .dataframe thead th {\n",
       "        text-align: right;\n",
       "    }\n",
       "</style>\n",
       "<table border=\"1\" class=\"dataframe\">\n",
       "  <thead>\n",
       "    <tr style=\"text-align: right;\">\n",
       "      <th></th>\n",
       "      <th>dt</th>\n",
       "      <th>revenue</th>\n",
       "    </tr>\n",
       "  </thead>\n",
       "  <tbody>\n",
       "    <tr>\n",
       "      <th>0</th>\n",
       "      <td>2021-04-01</td>\n",
       "      <td>1</td>\n",
       "    </tr>\n",
       "    <tr>\n",
       "      <th>1</th>\n",
       "      <td>2021-04-02</td>\n",
       "      <td>2</td>\n",
       "    </tr>\n",
       "    <tr>\n",
       "      <th>2</th>\n",
       "      <td>2021-04-03</td>\n",
       "      <td>3</td>\n",
       "    </tr>\n",
       "  </tbody>\n",
       "</table>\n",
       "</div>"
      ],
      "text/plain": [
       "          dt  revenue\n",
       "0 2021-04-01        1\n",
       "1 2021-04-02        2\n",
       "2 2021-04-03        3"
      ]
     },
     "execution_count": 555,
     "metadata": {},
     "output_type": "execute_result"
    }
   ],
   "source": [
    "t"
   ]
  },
  {
   "cell_type": "code",
   "execution_count": 556,
   "id": "74b98faf",
   "metadata": {
    "id": "ZbRJRpFo44Ui"
   },
   "outputs": [
    {
     "data": {
      "text/plain": [
       "3"
      ]
     },
     "execution_count": 556,
     "metadata": {},
     "output_type": "execute_result"
    }
   ],
   "source": [
    "t.to_sql('revenue',con,index=False,if_exists='replace')"
   ]
  },
  {
   "cell_type": "code",
   "execution_count": 557,
   "id": "ccdb0a5d",
   "metadata": {
    "id": "zwt2tRej5LyE"
   },
   "outputs": [],
   "source": [
    "sql = '''select \n",
    "t.dt,t.revenue, sum(r.revenue) as cumsum from revenue t\n",
    "join revenue r on r.dt <= t.dt \n",
    "group by t.dt, t.revenue'''"
   ]
  },
  {
   "cell_type": "code",
   "execution_count": 558,
   "id": "d09229f5",
   "metadata": {
    "colab": {
     "base_uri": "https://localhost:8080/",
     "height": 143
    },
    "id": "IpadNahp5N-r",
    "outputId": "ae264eb5-b8c7-49cb-94c9-f05eb034f9e7"
   },
   "outputs": [
    {
     "data": {
      "text/html": [
       "<div>\n",
       "<style scoped>\n",
       "    .dataframe tbody tr th:only-of-type {\n",
       "        vertical-align: middle;\n",
       "    }\n",
       "\n",
       "    .dataframe tbody tr th {\n",
       "        vertical-align: top;\n",
       "    }\n",
       "\n",
       "    .dataframe thead th {\n",
       "        text-align: right;\n",
       "    }\n",
       "</style>\n",
       "<table border=\"1\" class=\"dataframe\">\n",
       "  <thead>\n",
       "    <tr style=\"text-align: right;\">\n",
       "      <th></th>\n",
       "      <th>dt</th>\n",
       "      <th>revenue</th>\n",
       "      <th>cumsum</th>\n",
       "    </tr>\n",
       "  </thead>\n",
       "  <tbody>\n",
       "    <tr>\n",
       "      <th>0</th>\n",
       "      <td>2021-04-01 00:00:00</td>\n",
       "      <td>1</td>\n",
       "      <td>1</td>\n",
       "    </tr>\n",
       "    <tr>\n",
       "      <th>1</th>\n",
       "      <td>2021-04-02 00:00:00</td>\n",
       "      <td>2</td>\n",
       "      <td>3</td>\n",
       "    </tr>\n",
       "    <tr>\n",
       "      <th>2</th>\n",
       "      <td>2021-04-03 00:00:00</td>\n",
       "      <td>3</td>\n",
       "      <td>6</td>\n",
       "    </tr>\n",
       "  </tbody>\n",
       "</table>\n",
       "</div>"
      ],
      "text/plain": [
       "                    dt  revenue  cumsum\n",
       "0  2021-04-01 00:00:00        1       1\n",
       "1  2021-04-02 00:00:00        2       3\n",
       "2  2021-04-03 00:00:00        3       6"
      ]
     },
     "execution_count": 558,
     "metadata": {},
     "output_type": "execute_result"
    }
   ],
   "source": [
    "select(sql)"
   ]
  },
  {
   "cell_type": "markdown",
   "id": "90965cea",
   "metadata": {
    "id": "r9_xFeFnwMXB"
   },
   "source": [
    "# Оконные функции"
   ]
  },
  {
   "cell_type": "markdown",
   "id": "bbac7fd3",
   "metadata": {
    "id": "9R8IUk7gwQhj"
   },
   "source": [
    "## Что такое оконная функция?"
   ]
  },
  {
   "cell_type": "code",
   "execution_count": 559,
   "id": "5c61e33a",
   "metadata": {
    "id": "a4b5NKas5Onz"
   },
   "outputs": [],
   "source": [
    "sql = '''select t.*,\n",
    "sum(t.revenue) over (order by t.dt) as cum_sum\n",
    "from revenue t'''"
   ]
  },
  {
   "cell_type": "code",
   "execution_count": 560,
   "id": "2baf6a49",
   "metadata": {
    "colab": {
     "base_uri": "https://localhost:8080/",
     "height": 143
    },
    "id": "w5GhXvLc8jEw",
    "outputId": "121d6558-3e49-4c52-9194-dc522794926e"
   },
   "outputs": [
    {
     "data": {
      "text/html": [
       "<div>\n",
       "<style scoped>\n",
       "    .dataframe tbody tr th:only-of-type {\n",
       "        vertical-align: middle;\n",
       "    }\n",
       "\n",
       "    .dataframe tbody tr th {\n",
       "        vertical-align: top;\n",
       "    }\n",
       "\n",
       "    .dataframe thead th {\n",
       "        text-align: right;\n",
       "    }\n",
       "</style>\n",
       "<table border=\"1\" class=\"dataframe\">\n",
       "  <thead>\n",
       "    <tr style=\"text-align: right;\">\n",
       "      <th></th>\n",
       "      <th>dt</th>\n",
       "      <th>revenue</th>\n",
       "      <th>cum_sum</th>\n",
       "    </tr>\n",
       "  </thead>\n",
       "  <tbody>\n",
       "    <tr>\n",
       "      <th>0</th>\n",
       "      <td>2021-04-01 00:00:00</td>\n",
       "      <td>1</td>\n",
       "      <td>1</td>\n",
       "    </tr>\n",
       "    <tr>\n",
       "      <th>1</th>\n",
       "      <td>2021-04-02 00:00:00</td>\n",
       "      <td>2</td>\n",
       "      <td>3</td>\n",
       "    </tr>\n",
       "    <tr>\n",
       "      <th>2</th>\n",
       "      <td>2021-04-03 00:00:00</td>\n",
       "      <td>3</td>\n",
       "      <td>6</td>\n",
       "    </tr>\n",
       "  </tbody>\n",
       "</table>\n",
       "</div>"
      ],
      "text/plain": [
       "                    dt  revenue  cum_sum\n",
       "0  2021-04-01 00:00:00        1        1\n",
       "1  2021-04-02 00:00:00        2        3\n",
       "2  2021-04-03 00:00:00        3        6"
      ]
     },
     "execution_count": 560,
     "metadata": {},
     "output_type": "execute_result"
    }
   ],
   "source": [
    "select(sql)"
   ]
  },
  {
   "cell_type": "code",
   "execution_count": 561,
   "id": "aeeef4d4",
   "metadata": {
    "id": "2qgBUCb18jv-"
   },
   "outputs": [],
   "source": [
    "t = pd.DataFrame({'user_id':[1,1,1,2,2,2],'dt':pd.to_datetime(['2021-04-01','2021-04-02','2021-04-03',\n",
    "                                                               '2021-04-01','2021-04-02','2021-04-03'],format='%Y-%m-%d'),\n",
    "                  'revenue':[1,2,3,2,3,4]})"
   ]
  },
  {
   "cell_type": "code",
   "execution_count": 562,
   "id": "6f58d6ed",
   "metadata": {
    "colab": {
     "base_uri": "https://localhost:8080/",
     "height": 238
    },
    "id": "C7mmNLxT8-6n",
    "outputId": "55ee5f75-5cee-4599-d903-ef3c936ce748"
   },
   "outputs": [
    {
     "data": {
      "text/html": [
       "<div>\n",
       "<style scoped>\n",
       "    .dataframe tbody tr th:only-of-type {\n",
       "        vertical-align: middle;\n",
       "    }\n",
       "\n",
       "    .dataframe tbody tr th {\n",
       "        vertical-align: top;\n",
       "    }\n",
       "\n",
       "    .dataframe thead th {\n",
       "        text-align: right;\n",
       "    }\n",
       "</style>\n",
       "<table border=\"1\" class=\"dataframe\">\n",
       "  <thead>\n",
       "    <tr style=\"text-align: right;\">\n",
       "      <th></th>\n",
       "      <th>user_id</th>\n",
       "      <th>dt</th>\n",
       "      <th>revenue</th>\n",
       "    </tr>\n",
       "  </thead>\n",
       "  <tbody>\n",
       "    <tr>\n",
       "      <th>0</th>\n",
       "      <td>1</td>\n",
       "      <td>2021-04-01</td>\n",
       "      <td>1</td>\n",
       "    </tr>\n",
       "    <tr>\n",
       "      <th>1</th>\n",
       "      <td>1</td>\n",
       "      <td>2021-04-02</td>\n",
       "      <td>2</td>\n",
       "    </tr>\n",
       "    <tr>\n",
       "      <th>2</th>\n",
       "      <td>1</td>\n",
       "      <td>2021-04-03</td>\n",
       "      <td>3</td>\n",
       "    </tr>\n",
       "    <tr>\n",
       "      <th>3</th>\n",
       "      <td>2</td>\n",
       "      <td>2021-04-01</td>\n",
       "      <td>2</td>\n",
       "    </tr>\n",
       "    <tr>\n",
       "      <th>4</th>\n",
       "      <td>2</td>\n",
       "      <td>2021-04-02</td>\n",
       "      <td>3</td>\n",
       "    </tr>\n",
       "    <tr>\n",
       "      <th>5</th>\n",
       "      <td>2</td>\n",
       "      <td>2021-04-03</td>\n",
       "      <td>4</td>\n",
       "    </tr>\n",
       "  </tbody>\n",
       "</table>\n",
       "</div>"
      ],
      "text/plain": [
       "   user_id         dt  revenue\n",
       "0        1 2021-04-01        1\n",
       "1        1 2021-04-02        2\n",
       "2        1 2021-04-03        3\n",
       "3        2 2021-04-01        2\n",
       "4        2 2021-04-02        3\n",
       "5        2 2021-04-03        4"
      ]
     },
     "execution_count": 562,
     "metadata": {},
     "output_type": "execute_result"
    }
   ],
   "source": [
    "t"
   ]
  },
  {
   "cell_type": "code",
   "execution_count": 563,
   "id": "65f60283",
   "metadata": {
    "id": "zk1sGDgR8_NL"
   },
   "outputs": [
    {
     "data": {
      "text/plain": [
       "6"
      ]
     },
     "execution_count": 563,
     "metadata": {},
     "output_type": "execute_result"
    }
   ],
   "source": [
    "t.to_sql('revenue',con,index=False,if_exists='replace')"
   ]
  },
  {
   "cell_type": "code",
   "execution_count": 564,
   "id": "a57a9fb6",
   "metadata": {
    "id": "C8CqjAWx9MDR"
   },
   "outputs": [],
   "source": [
    "sql = '''select t.*,\n",
    "sum(t.revenue) over (partition by t.user_id order by t.dt) as cum_sum\n",
    "from revenue t'''"
   ]
  },
  {
   "cell_type": "code",
   "execution_count": 565,
   "id": "452bd173",
   "metadata": {
    "colab": {
     "base_uri": "https://localhost:8080/",
     "height": 238
    },
    "id": "R7vyEgZq9Txd",
    "outputId": "5a3a0514-8436-4ec9-efe9-ba6968213486"
   },
   "outputs": [
    {
     "data": {
      "text/html": [
       "<div>\n",
       "<style scoped>\n",
       "    .dataframe tbody tr th:only-of-type {\n",
       "        vertical-align: middle;\n",
       "    }\n",
       "\n",
       "    .dataframe tbody tr th {\n",
       "        vertical-align: top;\n",
       "    }\n",
       "\n",
       "    .dataframe thead th {\n",
       "        text-align: right;\n",
       "    }\n",
       "</style>\n",
       "<table border=\"1\" class=\"dataframe\">\n",
       "  <thead>\n",
       "    <tr style=\"text-align: right;\">\n",
       "      <th></th>\n",
       "      <th>user_id</th>\n",
       "      <th>dt</th>\n",
       "      <th>revenue</th>\n",
       "      <th>cum_sum</th>\n",
       "    </tr>\n",
       "  </thead>\n",
       "  <tbody>\n",
       "    <tr>\n",
       "      <th>0</th>\n",
       "      <td>1</td>\n",
       "      <td>2021-04-01 00:00:00</td>\n",
       "      <td>1</td>\n",
       "      <td>1</td>\n",
       "    </tr>\n",
       "    <tr>\n",
       "      <th>1</th>\n",
       "      <td>1</td>\n",
       "      <td>2021-04-02 00:00:00</td>\n",
       "      <td>2</td>\n",
       "      <td>3</td>\n",
       "    </tr>\n",
       "    <tr>\n",
       "      <th>2</th>\n",
       "      <td>1</td>\n",
       "      <td>2021-04-03 00:00:00</td>\n",
       "      <td>3</td>\n",
       "      <td>6</td>\n",
       "    </tr>\n",
       "    <tr>\n",
       "      <th>3</th>\n",
       "      <td>2</td>\n",
       "      <td>2021-04-01 00:00:00</td>\n",
       "      <td>2</td>\n",
       "      <td>2</td>\n",
       "    </tr>\n",
       "    <tr>\n",
       "      <th>4</th>\n",
       "      <td>2</td>\n",
       "      <td>2021-04-02 00:00:00</td>\n",
       "      <td>3</td>\n",
       "      <td>5</td>\n",
       "    </tr>\n",
       "    <tr>\n",
       "      <th>5</th>\n",
       "      <td>2</td>\n",
       "      <td>2021-04-03 00:00:00</td>\n",
       "      <td>4</td>\n",
       "      <td>9</td>\n",
       "    </tr>\n",
       "  </tbody>\n",
       "</table>\n",
       "</div>"
      ],
      "text/plain": [
       "   user_id                   dt  revenue  cum_sum\n",
       "0        1  2021-04-01 00:00:00        1        1\n",
       "1        1  2021-04-02 00:00:00        2        3\n",
       "2        1  2021-04-03 00:00:00        3        6\n",
       "3        2  2021-04-01 00:00:00        2        2\n",
       "4        2  2021-04-02 00:00:00        3        5\n",
       "5        2  2021-04-03 00:00:00        4        9"
      ]
     },
     "execution_count": 565,
     "metadata": {},
     "output_type": "execute_result"
    }
   ],
   "source": [
    "select(sql)"
   ]
  },
  {
   "cell_type": "code",
   "execution_count": 566,
   "id": "a4e7039c",
   "metadata": {},
   "outputs": [
    {
     "data": {
      "text/html": [
       "<div>\n",
       "<style scoped>\n",
       "    .dataframe tbody tr th:only-of-type {\n",
       "        vertical-align: middle;\n",
       "    }\n",
       "\n",
       "    .dataframe tbody tr th {\n",
       "        vertical-align: top;\n",
       "    }\n",
       "\n",
       "    .dataframe thead th {\n",
       "        text-align: right;\n",
       "    }\n",
       "</style>\n",
       "<table border=\"1\" class=\"dataframe\">\n",
       "  <thead>\n",
       "    <tr style=\"text-align: right;\">\n",
       "      <th></th>\n",
       "      <th>user_id</th>\n",
       "      <th>dt</th>\n",
       "      <th>revenue</th>\n",
       "      <th>cum_sum</th>\n",
       "    </tr>\n",
       "  </thead>\n",
       "  <tbody>\n",
       "    <tr>\n",
       "      <th>0</th>\n",
       "      <td>1</td>\n",
       "      <td>2021-04-01 00:00:00</td>\n",
       "      <td>1</td>\n",
       "      <td>1</td>\n",
       "    </tr>\n",
       "    <tr>\n",
       "      <th>1</th>\n",
       "      <td>1</td>\n",
       "      <td>2021-04-02 00:00:00</td>\n",
       "      <td>2</td>\n",
       "      <td>3</td>\n",
       "    </tr>\n",
       "    <tr>\n",
       "      <th>2</th>\n",
       "      <td>1</td>\n",
       "      <td>2021-04-03 00:00:00</td>\n",
       "      <td>3</td>\n",
       "      <td>6</td>\n",
       "    </tr>\n",
       "    <tr>\n",
       "      <th>3</th>\n",
       "      <td>2</td>\n",
       "      <td>2021-04-01 00:00:00</td>\n",
       "      <td>2</td>\n",
       "      <td>2</td>\n",
       "    </tr>\n",
       "    <tr>\n",
       "      <th>4</th>\n",
       "      <td>2</td>\n",
       "      <td>2021-04-02 00:00:00</td>\n",
       "      <td>3</td>\n",
       "      <td>5</td>\n",
       "    </tr>\n",
       "    <tr>\n",
       "      <th>5</th>\n",
       "      <td>2</td>\n",
       "      <td>2021-04-03 00:00:00</td>\n",
       "      <td>4</td>\n",
       "      <td>9</td>\n",
       "    </tr>\n",
       "  </tbody>\n",
       "</table>\n",
       "</div>"
      ],
      "text/plain": [
       "   user_id                   dt  revenue  cum_sum\n",
       "0        1  2021-04-01 00:00:00        1        1\n",
       "1        1  2021-04-02 00:00:00        2        3\n",
       "2        1  2021-04-03 00:00:00        3        6\n",
       "3        2  2021-04-01 00:00:00        2        2\n",
       "4        2  2021-04-02 00:00:00        3        5\n",
       "5        2  2021-04-03 00:00:00        4        9"
      ]
     },
     "execution_count": 566,
     "metadata": {},
     "output_type": "execute_result"
    }
   ],
   "source": [
    "2 * 365 * 10000\n",
    "\n",
    "## Джойн таблицы самой на себя (нарастающий итог)\n",
    "\n",
    "t = pd.DataFrame({'dt':pd.to_datetime(['2021-04-01','2021-04-02','2021-04-03'],format='%Y-%m-%d'),\n",
    "                  'revenue':[1,2,3]})\n",
    "\n",
    "t\n",
    "\n",
    "t.to_sql('revenue',con,index=False,if_exists='replace')\n",
    "\n",
    "sql = '''select \n",
    "t.dt,t.revenue, sum(r.revenue) as cumsum from revenue t\n",
    "join revenue r on r.dt <= t.dt \n",
    "group by t.dt, t.revenue'''\n",
    "\n",
    "select(sql)\n",
    "\n",
    "# Оконные функции\n",
    "\n",
    "## Что такое оконная функция?\n",
    "\n",
    "sql = '''select t.*,\n",
    "sum(t.revenue) over (order by t.dt) as cum_sum\n",
    "from revenue t'''\n",
    "\n",
    "select(sql)\n",
    "\n",
    "t = pd.DataFrame({'user_id':[1,1,1,2,2,2],'dt':pd.to_datetime(['2021-04-01','2021-04-02','2021-04-03',\n",
    "                                                               '2021-04-01','2021-04-02','2021-04-03'],format='%Y-%m-%d'),\n",
    "                  'revenue':[1,2,3,2,3,4]})\n",
    "\n",
    "t\n",
    "\n",
    "t.to_sql('revenue',con,index=False,if_exists='replace')\n",
    "\n",
    "sql = '''select t.*,\n",
    "sum(t.revenue) over (partition by t.user_id order by t.dt) as cum_sum\n",
    "from revenue t'''\n",
    "\n",
    "select(sql)"
   ]
  },
  {
   "cell_type": "markdown",
   "id": "735abdd2",
   "metadata": {
    "id": "lHd36zScwf3X"
   },
   "source": [
    "## Rank и row_number"
   ]
  },
  {
   "cell_type": "code",
   "execution_count": 567,
   "id": "0bf617ef",
   "metadata": {
    "id": "Y0BIgb_k_zGR"
   },
   "outputs": [],
   "source": [
    "t = pd.DataFrame({'user_id':[1,1,1,1,2,2,2],'dt':pd.to_datetime(['2021-04-01','2021-04-02','2021-04-03','2021-04-03',\n",
    "                                                               '2021-04-03','2021-04-04','2021-04-05'],format='%Y-%m-%d'),\n",
    "                  'revenue':[1,2,3,1,2,3,4]})"
   ]
  },
  {
   "cell_type": "code",
   "execution_count": 568,
   "id": "497b4d09",
   "metadata": {
    "id": "0j9_w1sKAn5t"
   },
   "outputs": [
    {
     "data": {
      "text/plain": [
       "7"
      ]
     },
     "execution_count": 568,
     "metadata": {},
     "output_type": "execute_result"
    }
   ],
   "source": [
    "t.to_sql('revenue',con,index=False,if_exists='replace')"
   ]
  },
  {
   "cell_type": "code",
   "execution_count": 569,
   "id": "10a7f0f0",
   "metadata": {
    "id": "Q42byOgyAp4S"
   },
   "outputs": [],
   "source": [
    "sql = '''select * from revenue t'''"
   ]
  },
  {
   "cell_type": "code",
   "execution_count": 570,
   "id": "6f6a7e81",
   "metadata": {
    "colab": {
     "base_uri": "https://localhost:8080/",
     "height": 269
    },
    "id": "rMdTNE0JAsX-",
    "outputId": "75517a21-e7d7-4318-d52a-abf396c2fcbb"
   },
   "outputs": [
    {
     "data": {
      "text/html": [
       "<div>\n",
       "<style scoped>\n",
       "    .dataframe tbody tr th:only-of-type {\n",
       "        vertical-align: middle;\n",
       "    }\n",
       "\n",
       "    .dataframe tbody tr th {\n",
       "        vertical-align: top;\n",
       "    }\n",
       "\n",
       "    .dataframe thead th {\n",
       "        text-align: right;\n",
       "    }\n",
       "</style>\n",
       "<table border=\"1\" class=\"dataframe\">\n",
       "  <thead>\n",
       "    <tr style=\"text-align: right;\">\n",
       "      <th></th>\n",
       "      <th>user_id</th>\n",
       "      <th>dt</th>\n",
       "      <th>revenue</th>\n",
       "    </tr>\n",
       "  </thead>\n",
       "  <tbody>\n",
       "    <tr>\n",
       "      <th>0</th>\n",
       "      <td>1</td>\n",
       "      <td>2021-04-01 00:00:00</td>\n",
       "      <td>1</td>\n",
       "    </tr>\n",
       "    <tr>\n",
       "      <th>1</th>\n",
       "      <td>1</td>\n",
       "      <td>2021-04-02 00:00:00</td>\n",
       "      <td>2</td>\n",
       "    </tr>\n",
       "    <tr>\n",
       "      <th>2</th>\n",
       "      <td>1</td>\n",
       "      <td>2021-04-03 00:00:00</td>\n",
       "      <td>3</td>\n",
       "    </tr>\n",
       "    <tr>\n",
       "      <th>3</th>\n",
       "      <td>1</td>\n",
       "      <td>2021-04-03 00:00:00</td>\n",
       "      <td>1</td>\n",
       "    </tr>\n",
       "    <tr>\n",
       "      <th>4</th>\n",
       "      <td>2</td>\n",
       "      <td>2021-04-03 00:00:00</td>\n",
       "      <td>2</td>\n",
       "    </tr>\n",
       "    <tr>\n",
       "      <th>5</th>\n",
       "      <td>2</td>\n",
       "      <td>2021-04-04 00:00:00</td>\n",
       "      <td>3</td>\n",
       "    </tr>\n",
       "    <tr>\n",
       "      <th>6</th>\n",
       "      <td>2</td>\n",
       "      <td>2021-04-05 00:00:00</td>\n",
       "      <td>4</td>\n",
       "    </tr>\n",
       "  </tbody>\n",
       "</table>\n",
       "</div>"
      ],
      "text/plain": [
       "   user_id                   dt  revenue\n",
       "0        1  2021-04-01 00:00:00        1\n",
       "1        1  2021-04-02 00:00:00        2\n",
       "2        1  2021-04-03 00:00:00        3\n",
       "3        1  2021-04-03 00:00:00        1\n",
       "4        2  2021-04-03 00:00:00        2\n",
       "5        2  2021-04-04 00:00:00        3\n",
       "6        2  2021-04-05 00:00:00        4"
      ]
     },
     "execution_count": 570,
     "metadata": {},
     "output_type": "execute_result"
    }
   ],
   "source": [
    "select(sql)"
   ]
  },
  {
   "cell_type": "code",
   "execution_count": 571,
   "id": "99437dda",
   "metadata": {
    "id": "EFm2oTCGAtHK"
   },
   "outputs": [],
   "source": [
    "sql = '''select t.*,\n",
    "\n",
    "rank() over (partition by t.user_id order by t.dt desc) as rnk\n",
    "\n",
    " from revenue t'''"
   ]
  },
  {
   "cell_type": "code",
   "execution_count": 572,
   "id": "63b059e4",
   "metadata": {
    "colab": {
     "base_uri": "https://localhost:8080/",
     "height": 269
    },
    "id": "ARAKdctOBCCL",
    "outputId": "1e28603a-ee01-466a-fa06-3382acdab418"
   },
   "outputs": [
    {
     "data": {
      "text/html": [
       "<div>\n",
       "<style scoped>\n",
       "    .dataframe tbody tr th:only-of-type {\n",
       "        vertical-align: middle;\n",
       "    }\n",
       "\n",
       "    .dataframe tbody tr th {\n",
       "        vertical-align: top;\n",
       "    }\n",
       "\n",
       "    .dataframe thead th {\n",
       "        text-align: right;\n",
       "    }\n",
       "</style>\n",
       "<table border=\"1\" class=\"dataframe\">\n",
       "  <thead>\n",
       "    <tr style=\"text-align: right;\">\n",
       "      <th></th>\n",
       "      <th>user_id</th>\n",
       "      <th>dt</th>\n",
       "      <th>revenue</th>\n",
       "      <th>rnk</th>\n",
       "    </tr>\n",
       "  </thead>\n",
       "  <tbody>\n",
       "    <tr>\n",
       "      <th>0</th>\n",
       "      <td>1</td>\n",
       "      <td>2021-04-03 00:00:00</td>\n",
       "      <td>3</td>\n",
       "      <td>1</td>\n",
       "    </tr>\n",
       "    <tr>\n",
       "      <th>1</th>\n",
       "      <td>1</td>\n",
       "      <td>2021-04-03 00:00:00</td>\n",
       "      <td>1</td>\n",
       "      <td>1</td>\n",
       "    </tr>\n",
       "    <tr>\n",
       "      <th>2</th>\n",
       "      <td>1</td>\n",
       "      <td>2021-04-02 00:00:00</td>\n",
       "      <td>2</td>\n",
       "      <td>3</td>\n",
       "    </tr>\n",
       "    <tr>\n",
       "      <th>3</th>\n",
       "      <td>1</td>\n",
       "      <td>2021-04-01 00:00:00</td>\n",
       "      <td>1</td>\n",
       "      <td>4</td>\n",
       "    </tr>\n",
       "    <tr>\n",
       "      <th>4</th>\n",
       "      <td>2</td>\n",
       "      <td>2021-04-05 00:00:00</td>\n",
       "      <td>4</td>\n",
       "      <td>1</td>\n",
       "    </tr>\n",
       "    <tr>\n",
       "      <th>5</th>\n",
       "      <td>2</td>\n",
       "      <td>2021-04-04 00:00:00</td>\n",
       "      <td>3</td>\n",
       "      <td>2</td>\n",
       "    </tr>\n",
       "    <tr>\n",
       "      <th>6</th>\n",
       "      <td>2</td>\n",
       "      <td>2021-04-03 00:00:00</td>\n",
       "      <td>2</td>\n",
       "      <td>3</td>\n",
       "    </tr>\n",
       "  </tbody>\n",
       "</table>\n",
       "</div>"
      ],
      "text/plain": [
       "   user_id                   dt  revenue  rnk\n",
       "0        1  2021-04-03 00:00:00        3    1\n",
       "1        1  2021-04-03 00:00:00        1    1\n",
       "2        1  2021-04-02 00:00:00        2    3\n",
       "3        1  2021-04-01 00:00:00        1    4\n",
       "4        2  2021-04-05 00:00:00        4    1\n",
       "5        2  2021-04-04 00:00:00        3    2\n",
       "6        2  2021-04-03 00:00:00        2    3"
      ]
     },
     "execution_count": 572,
     "metadata": {},
     "output_type": "execute_result"
    }
   ],
   "source": [
    "select(sql)"
   ]
  },
  {
   "cell_type": "code",
   "execution_count": 573,
   "id": "7eb523fd",
   "metadata": {
    "id": "8xmD0NtDBGIY"
   },
   "outputs": [],
   "source": [
    "sql = '''\n",
    "with dt_rank as (\n",
    "\n",
    "select t.*,\n",
    "\n",
    "rank() over (partition by t.user_id order by t.dt desc) as rnk\n",
    "\n",
    " from revenue t)\n",
    " \n",
    " select * from dt_rank t\n",
    "where t.rnk = 1\n",
    " \n",
    " '''"
   ]
  },
  {
   "cell_type": "code",
   "execution_count": 574,
   "id": "5a1c1f12",
   "metadata": {
    "colab": {
     "base_uri": "https://localhost:8080/",
     "height": 143
    },
    "id": "uYcy3Ux6BTwj",
    "outputId": "175689da-9cc4-41ff-aabc-8a6fe94d93cb"
   },
   "outputs": [
    {
     "data": {
      "text/html": [
       "<div>\n",
       "<style scoped>\n",
       "    .dataframe tbody tr th:only-of-type {\n",
       "        vertical-align: middle;\n",
       "    }\n",
       "\n",
       "    .dataframe tbody tr th {\n",
       "        vertical-align: top;\n",
       "    }\n",
       "\n",
       "    .dataframe thead th {\n",
       "        text-align: right;\n",
       "    }\n",
       "</style>\n",
       "<table border=\"1\" class=\"dataframe\">\n",
       "  <thead>\n",
       "    <tr style=\"text-align: right;\">\n",
       "      <th></th>\n",
       "      <th>user_id</th>\n",
       "      <th>dt</th>\n",
       "      <th>revenue</th>\n",
       "      <th>rnk</th>\n",
       "    </tr>\n",
       "  </thead>\n",
       "  <tbody>\n",
       "    <tr>\n",
       "      <th>0</th>\n",
       "      <td>1</td>\n",
       "      <td>2021-04-03 00:00:00</td>\n",
       "      <td>3</td>\n",
       "      <td>1</td>\n",
       "    </tr>\n",
       "    <tr>\n",
       "      <th>1</th>\n",
       "      <td>1</td>\n",
       "      <td>2021-04-03 00:00:00</td>\n",
       "      <td>1</td>\n",
       "      <td>1</td>\n",
       "    </tr>\n",
       "    <tr>\n",
       "      <th>2</th>\n",
       "      <td>2</td>\n",
       "      <td>2021-04-05 00:00:00</td>\n",
       "      <td>4</td>\n",
       "      <td>1</td>\n",
       "    </tr>\n",
       "  </tbody>\n",
       "</table>\n",
       "</div>"
      ],
      "text/plain": [
       "   user_id                   dt  revenue  rnk\n",
       "0        1  2021-04-03 00:00:00        3    1\n",
       "1        1  2021-04-03 00:00:00        1    1\n",
       "2        2  2021-04-05 00:00:00        4    1"
      ]
     },
     "execution_count": 574,
     "metadata": {},
     "output_type": "execute_result"
    }
   ],
   "source": [
    "select(sql)"
   ]
  },
  {
   "cell_type": "code",
   "execution_count": 575,
   "id": "da258aea",
   "metadata": {
    "id": "H8LCBfJgBUvw"
   },
   "outputs": [],
   "source": [
    "sql = '''select t.*,\n",
    "\n",
    "row_number() over (partition by t.user_id order by t.dt desc) as rnk\n",
    "\n",
    " from revenue t'''"
   ]
  },
  {
   "cell_type": "code",
   "execution_count": 576,
   "id": "69f7df00",
   "metadata": {
    "colab": {
     "base_uri": "https://localhost:8080/",
     "height": 269
    },
    "id": "xdRM9qM6B9tW",
    "outputId": "772d608f-b2c6-4211-fddb-000bf1fb9fa0"
   },
   "outputs": [
    {
     "data": {
      "text/html": [
       "<div>\n",
       "<style scoped>\n",
       "    .dataframe tbody tr th:only-of-type {\n",
       "        vertical-align: middle;\n",
       "    }\n",
       "\n",
       "    .dataframe tbody tr th {\n",
       "        vertical-align: top;\n",
       "    }\n",
       "\n",
       "    .dataframe thead th {\n",
       "        text-align: right;\n",
       "    }\n",
       "</style>\n",
       "<table border=\"1\" class=\"dataframe\">\n",
       "  <thead>\n",
       "    <tr style=\"text-align: right;\">\n",
       "      <th></th>\n",
       "      <th>user_id</th>\n",
       "      <th>dt</th>\n",
       "      <th>revenue</th>\n",
       "      <th>rnk</th>\n",
       "    </tr>\n",
       "  </thead>\n",
       "  <tbody>\n",
       "    <tr>\n",
       "      <th>0</th>\n",
       "      <td>1</td>\n",
       "      <td>2021-04-03 00:00:00</td>\n",
       "      <td>3</td>\n",
       "      <td>1</td>\n",
       "    </tr>\n",
       "    <tr>\n",
       "      <th>1</th>\n",
       "      <td>1</td>\n",
       "      <td>2021-04-03 00:00:00</td>\n",
       "      <td>1</td>\n",
       "      <td>2</td>\n",
       "    </tr>\n",
       "    <tr>\n",
       "      <th>2</th>\n",
       "      <td>1</td>\n",
       "      <td>2021-04-02 00:00:00</td>\n",
       "      <td>2</td>\n",
       "      <td>3</td>\n",
       "    </tr>\n",
       "    <tr>\n",
       "      <th>3</th>\n",
       "      <td>1</td>\n",
       "      <td>2021-04-01 00:00:00</td>\n",
       "      <td>1</td>\n",
       "      <td>4</td>\n",
       "    </tr>\n",
       "    <tr>\n",
       "      <th>4</th>\n",
       "      <td>2</td>\n",
       "      <td>2021-04-05 00:00:00</td>\n",
       "      <td>4</td>\n",
       "      <td>1</td>\n",
       "    </tr>\n",
       "    <tr>\n",
       "      <th>5</th>\n",
       "      <td>2</td>\n",
       "      <td>2021-04-04 00:00:00</td>\n",
       "      <td>3</td>\n",
       "      <td>2</td>\n",
       "    </tr>\n",
       "    <tr>\n",
       "      <th>6</th>\n",
       "      <td>2</td>\n",
       "      <td>2021-04-03 00:00:00</td>\n",
       "      <td>2</td>\n",
       "      <td>3</td>\n",
       "    </tr>\n",
       "  </tbody>\n",
       "</table>\n",
       "</div>"
      ],
      "text/plain": [
       "   user_id                   dt  revenue  rnk\n",
       "0        1  2021-04-03 00:00:00        3    1\n",
       "1        1  2021-04-03 00:00:00        1    2\n",
       "2        1  2021-04-02 00:00:00        2    3\n",
       "3        1  2021-04-01 00:00:00        1    4\n",
       "4        2  2021-04-05 00:00:00        4    1\n",
       "5        2  2021-04-04 00:00:00        3    2\n",
       "6        2  2021-04-03 00:00:00        2    3"
      ]
     },
     "execution_count": 576,
     "metadata": {},
     "output_type": "execute_result"
    }
   ],
   "source": [
    "select(sql)"
   ]
  },
  {
   "cell_type": "code",
   "execution_count": 577,
   "id": "6a49553f",
   "metadata": {
    "id": "3_hStoT-B-fg"
   },
   "outputs": [],
   "source": [
    "sql = '''\n",
    "with dt_rank as (\n",
    "\n",
    "select t.*,\n",
    "\n",
    "row_number() over (partition by t.user_id order by t.dt desc) as rnk\n",
    "\n",
    " from revenue t)\n",
    " \n",
    " select * from dt_rank t\n",
    "where t.rnk = 1\n",
    " \n",
    " '''"
   ]
  },
  {
   "cell_type": "code",
   "execution_count": 578,
   "id": "32b8de76",
   "metadata": {
    "colab": {
     "base_uri": "https://localhost:8080/",
     "height": 112
    },
    "id": "ATg6x9hkCJHs",
    "outputId": "bbcb480b-9b67-4386-a5eb-cad00b9629a3"
   },
   "outputs": [
    {
     "data": {
      "text/html": [
       "<div>\n",
       "<style scoped>\n",
       "    .dataframe tbody tr th:only-of-type {\n",
       "        vertical-align: middle;\n",
       "    }\n",
       "\n",
       "    .dataframe tbody tr th {\n",
       "        vertical-align: top;\n",
       "    }\n",
       "\n",
       "    .dataframe thead th {\n",
       "        text-align: right;\n",
       "    }\n",
       "</style>\n",
       "<table border=\"1\" class=\"dataframe\">\n",
       "  <thead>\n",
       "    <tr style=\"text-align: right;\">\n",
       "      <th></th>\n",
       "      <th>user_id</th>\n",
       "      <th>dt</th>\n",
       "      <th>revenue</th>\n",
       "      <th>rnk</th>\n",
       "    </tr>\n",
       "  </thead>\n",
       "  <tbody>\n",
       "    <tr>\n",
       "      <th>0</th>\n",
       "      <td>1</td>\n",
       "      <td>2021-04-03 00:00:00</td>\n",
       "      <td>3</td>\n",
       "      <td>1</td>\n",
       "    </tr>\n",
       "    <tr>\n",
       "      <th>1</th>\n",
       "      <td>2</td>\n",
       "      <td>2021-04-05 00:00:00</td>\n",
       "      <td>4</td>\n",
       "      <td>1</td>\n",
       "    </tr>\n",
       "  </tbody>\n",
       "</table>\n",
       "</div>"
      ],
      "text/plain": [
       "   user_id                   dt  revenue  rnk\n",
       "0        1  2021-04-03 00:00:00        3    1\n",
       "1        2  2021-04-05 00:00:00        4    1"
      ]
     },
     "execution_count": 578,
     "metadata": {},
     "output_type": "execute_result"
    }
   ],
   "source": [
    "select(sql)"
   ]
  },
  {
   "cell_type": "code",
   "execution_count": null,
   "id": "aad4cbf0",
   "metadata": {
    "id": "4_36FTHQCJ6W"
   },
   "outputs": [],
   "source": []
  },
  {
   "cell_type": "code",
   "execution_count": 579,
   "id": "f6a5ed96",
   "metadata": {
    "id": "9eD06hOyCQaE"
   },
   "outputs": [],
   "source": [
    "t = pd.DataFrame({'user_id':[1,1,1,2,2,2],'dt':pd.to_datetime(['2021-04-01','2021-04-02','2021-04-03',\n",
    "                                                               '2021-04-03','2021-04-04','2021-04-05'],format='%Y-%m-%d'),\n",
    "                  'revenue':[1,2,3,2,3,4]})"
   ]
  },
  {
   "cell_type": "code",
   "execution_count": 580,
   "id": "8831ab30",
   "metadata": {
    "id": "QehKmNQZCQaF"
   },
   "outputs": [
    {
     "data": {
      "text/plain": [
       "6"
      ]
     },
     "execution_count": 580,
     "metadata": {},
     "output_type": "execute_result"
    }
   ],
   "source": [
    "t.to_sql('revenue',con,index=False,if_exists='replace')"
   ]
  },
  {
   "cell_type": "code",
   "execution_count": 581,
   "id": "9eefb863",
   "metadata": {
    "id": "TS1eodmFCTUN"
   },
   "outputs": [],
   "source": [
    "sql = '''select t.user_id, max(t.dt) as max_dt from revenue t\n",
    "group by t.user_id'''"
   ]
  },
  {
   "cell_type": "code",
   "execution_count": 582,
   "id": "6997050c",
   "metadata": {
    "colab": {
     "base_uri": "https://localhost:8080/",
     "height": 112
    },
    "id": "Hd1KKbsbCb7n",
    "outputId": "a5a359b3-6365-4fea-ef65-0f397c0183b9"
   },
   "outputs": [
    {
     "data": {
      "text/html": [
       "<div>\n",
       "<style scoped>\n",
       "    .dataframe tbody tr th:only-of-type {\n",
       "        vertical-align: middle;\n",
       "    }\n",
       "\n",
       "    .dataframe tbody tr th {\n",
       "        vertical-align: top;\n",
       "    }\n",
       "\n",
       "    .dataframe thead th {\n",
       "        text-align: right;\n",
       "    }\n",
       "</style>\n",
       "<table border=\"1\" class=\"dataframe\">\n",
       "  <thead>\n",
       "    <tr style=\"text-align: right;\">\n",
       "      <th></th>\n",
       "      <th>user_id</th>\n",
       "      <th>max_dt</th>\n",
       "    </tr>\n",
       "  </thead>\n",
       "  <tbody>\n",
       "    <tr>\n",
       "      <th>0</th>\n",
       "      <td>1</td>\n",
       "      <td>2021-04-03 00:00:00</td>\n",
       "    </tr>\n",
       "    <tr>\n",
       "      <th>1</th>\n",
       "      <td>2</td>\n",
       "      <td>2021-04-05 00:00:00</td>\n",
       "    </tr>\n",
       "  </tbody>\n",
       "</table>\n",
       "</div>"
      ],
      "text/plain": [
       "   user_id               max_dt\n",
       "0        1  2021-04-03 00:00:00\n",
       "1        2  2021-04-05 00:00:00"
      ]
     },
     "execution_count": 582,
     "metadata": {},
     "output_type": "execute_result"
    }
   ],
   "source": [
    "select(sql)"
   ]
  },
  {
   "cell_type": "code",
   "execution_count": 583,
   "id": "94ca23ae",
   "metadata": {
    "id": "wB_wcI5DCcoN"
   },
   "outputs": [],
   "source": [
    "sql = '''\n",
    "\n",
    "with last_dt as (\n",
    "select t.user_id, max(t.dt) as max_dt from revenue t\n",
    "group by t.user_id)\n",
    "\n",
    "select t.* from revenue t\n",
    "join last_dt ld on t.user_id = ld.user_id and t.dt = ld.max_dt\n",
    "\n",
    "'''"
   ]
  },
  {
   "cell_type": "code",
   "execution_count": 584,
   "id": "37b8d7f1",
   "metadata": {
    "colab": {
     "base_uri": "https://localhost:8080/",
     "height": 112
    },
    "id": "_fL-EAilCva0",
    "outputId": "003efd12-f25f-416d-8da1-d648247dd4b6"
   },
   "outputs": [
    {
     "data": {
      "text/html": [
       "<div>\n",
       "<style scoped>\n",
       "    .dataframe tbody tr th:only-of-type {\n",
       "        vertical-align: middle;\n",
       "    }\n",
       "\n",
       "    .dataframe tbody tr th {\n",
       "        vertical-align: top;\n",
       "    }\n",
       "\n",
       "    .dataframe thead th {\n",
       "        text-align: right;\n",
       "    }\n",
       "</style>\n",
       "<table border=\"1\" class=\"dataframe\">\n",
       "  <thead>\n",
       "    <tr style=\"text-align: right;\">\n",
       "      <th></th>\n",
       "      <th>user_id</th>\n",
       "      <th>dt</th>\n",
       "      <th>revenue</th>\n",
       "    </tr>\n",
       "  </thead>\n",
       "  <tbody>\n",
       "    <tr>\n",
       "      <th>0</th>\n",
       "      <td>1</td>\n",
       "      <td>2021-04-03 00:00:00</td>\n",
       "      <td>3</td>\n",
       "    </tr>\n",
       "    <tr>\n",
       "      <th>1</th>\n",
       "      <td>2</td>\n",
       "      <td>2021-04-05 00:00:00</td>\n",
       "      <td>4</td>\n",
       "    </tr>\n",
       "  </tbody>\n",
       "</table>\n",
       "</div>"
      ],
      "text/plain": [
       "   user_id                   dt  revenue\n",
       "0        1  2021-04-03 00:00:00        3\n",
       "1        2  2021-04-05 00:00:00        4"
      ]
     },
     "execution_count": 584,
     "metadata": {},
     "output_type": "execute_result"
    }
   ],
   "source": [
    "select(sql)"
   ]
  },
  {
   "cell_type": "markdown",
   "id": "34ab4964",
   "metadata": {
    "id": "kGd13gZtwp8y"
   },
   "source": [
    "## Топ 3 зарплаты в отделе"
   ]
  },
  {
   "cell_type": "code",
   "execution_count": 585,
   "id": "13f6e0c4",
   "metadata": {
    "id": "4TDADisgCwcz"
   },
   "outputs": [],
   "source": [
    "t = pd.DataFrame({'dep':['a','a','a','a','a',\n",
    "                         'b','b','b','b','b'],\n",
    "                  'emp':['aa','bb','cc','dd','ee',\n",
    "                         'aa','bb','cc','dd','ee'],\n",
    "                  'sal':[5,5,3,2,1,\n",
    "                         5,4,3,2,1]})"
   ]
  },
  {
   "cell_type": "code",
   "execution_count": 586,
   "id": "2343f8f2",
   "metadata": {
    "colab": {
     "base_uri": "https://localhost:8080/",
     "height": 363
    },
    "id": "ZG4cXisbEQLm",
    "outputId": "21c218e3-00f8-4754-ebce-5075f20a3a85"
   },
   "outputs": [
    {
     "data": {
      "text/html": [
       "<div>\n",
       "<style scoped>\n",
       "    .dataframe tbody tr th:only-of-type {\n",
       "        vertical-align: middle;\n",
       "    }\n",
       "\n",
       "    .dataframe tbody tr th {\n",
       "        vertical-align: top;\n",
       "    }\n",
       "\n",
       "    .dataframe thead th {\n",
       "        text-align: right;\n",
       "    }\n",
       "</style>\n",
       "<table border=\"1\" class=\"dataframe\">\n",
       "  <thead>\n",
       "    <tr style=\"text-align: right;\">\n",
       "      <th></th>\n",
       "      <th>dep</th>\n",
       "      <th>emp</th>\n",
       "      <th>sal</th>\n",
       "    </tr>\n",
       "  </thead>\n",
       "  <tbody>\n",
       "    <tr>\n",
       "      <th>0</th>\n",
       "      <td>a</td>\n",
       "      <td>aa</td>\n",
       "      <td>5</td>\n",
       "    </tr>\n",
       "    <tr>\n",
       "      <th>1</th>\n",
       "      <td>a</td>\n",
       "      <td>bb</td>\n",
       "      <td>5</td>\n",
       "    </tr>\n",
       "    <tr>\n",
       "      <th>2</th>\n",
       "      <td>a</td>\n",
       "      <td>cc</td>\n",
       "      <td>3</td>\n",
       "    </tr>\n",
       "    <tr>\n",
       "      <th>3</th>\n",
       "      <td>a</td>\n",
       "      <td>dd</td>\n",
       "      <td>2</td>\n",
       "    </tr>\n",
       "    <tr>\n",
       "      <th>4</th>\n",
       "      <td>a</td>\n",
       "      <td>ee</td>\n",
       "      <td>1</td>\n",
       "    </tr>\n",
       "    <tr>\n",
       "      <th>5</th>\n",
       "      <td>b</td>\n",
       "      <td>aa</td>\n",
       "      <td>5</td>\n",
       "    </tr>\n",
       "    <tr>\n",
       "      <th>6</th>\n",
       "      <td>b</td>\n",
       "      <td>bb</td>\n",
       "      <td>4</td>\n",
       "    </tr>\n",
       "    <tr>\n",
       "      <th>7</th>\n",
       "      <td>b</td>\n",
       "      <td>cc</td>\n",
       "      <td>3</td>\n",
       "    </tr>\n",
       "    <tr>\n",
       "      <th>8</th>\n",
       "      <td>b</td>\n",
       "      <td>dd</td>\n",
       "      <td>2</td>\n",
       "    </tr>\n",
       "    <tr>\n",
       "      <th>9</th>\n",
       "      <td>b</td>\n",
       "      <td>ee</td>\n",
       "      <td>1</td>\n",
       "    </tr>\n",
       "  </tbody>\n",
       "</table>\n",
       "</div>"
      ],
      "text/plain": [
       "  dep emp  sal\n",
       "0   a  aa    5\n",
       "1   a  bb    5\n",
       "2   a  cc    3\n",
       "3   a  dd    2\n",
       "4   a  ee    1\n",
       "5   b  aa    5\n",
       "6   b  bb    4\n",
       "7   b  cc    3\n",
       "8   b  dd    2\n",
       "9   b  ee    1"
      ]
     },
     "execution_count": 586,
     "metadata": {},
     "output_type": "execute_result"
    }
   ],
   "source": [
    "t"
   ]
  },
  {
   "cell_type": "code",
   "execution_count": 587,
   "id": "82c444ee",
   "metadata": {
    "id": "SOdfMZeCEQ1K"
   },
   "outputs": [
    {
     "data": {
      "text/plain": [
       "10"
      ]
     },
     "execution_count": 587,
     "metadata": {},
     "output_type": "execute_result"
    }
   ],
   "source": [
    "t.to_sql('salary',con,index=False,if_exists='replace')"
   ]
  },
  {
   "cell_type": "code",
   "execution_count": 588,
   "id": "0bab2da4",
   "metadata": {
    "id": "wvNCWZ9oEiZV"
   },
   "outputs": [],
   "source": [
    "sql = '''select t.*,\n",
    "rank() over (partition by t.dep order by t.sal desc) as rnk_rank,\n",
    "dense_rank() over (partition by t.dep order by t.sal desc) as rnk\n",
    "\n",
    " from salary t'''"
   ]
  },
  {
   "cell_type": "code",
   "execution_count": 589,
   "id": "5466903e",
   "metadata": {
    "colab": {
     "base_uri": "https://localhost:8080/",
     "height": 363
    },
    "id": "ivcdtg3sEk3N",
    "outputId": "4075ac0d-4534-4af1-d717-afcec35297e1"
   },
   "outputs": [
    {
     "data": {
      "text/html": [
       "<div>\n",
       "<style scoped>\n",
       "    .dataframe tbody tr th:only-of-type {\n",
       "        vertical-align: middle;\n",
       "    }\n",
       "\n",
       "    .dataframe tbody tr th {\n",
       "        vertical-align: top;\n",
       "    }\n",
       "\n",
       "    .dataframe thead th {\n",
       "        text-align: right;\n",
       "    }\n",
       "</style>\n",
       "<table border=\"1\" class=\"dataframe\">\n",
       "  <thead>\n",
       "    <tr style=\"text-align: right;\">\n",
       "      <th></th>\n",
       "      <th>dep</th>\n",
       "      <th>emp</th>\n",
       "      <th>sal</th>\n",
       "      <th>rnk_rank</th>\n",
       "      <th>rnk</th>\n",
       "    </tr>\n",
       "  </thead>\n",
       "  <tbody>\n",
       "    <tr>\n",
       "      <th>0</th>\n",
       "      <td>a</td>\n",
       "      <td>aa</td>\n",
       "      <td>5</td>\n",
       "      <td>1</td>\n",
       "      <td>1</td>\n",
       "    </tr>\n",
       "    <tr>\n",
       "      <th>1</th>\n",
       "      <td>a</td>\n",
       "      <td>bb</td>\n",
       "      <td>5</td>\n",
       "      <td>1</td>\n",
       "      <td>1</td>\n",
       "    </tr>\n",
       "    <tr>\n",
       "      <th>2</th>\n",
       "      <td>a</td>\n",
       "      <td>cc</td>\n",
       "      <td>3</td>\n",
       "      <td>3</td>\n",
       "      <td>2</td>\n",
       "    </tr>\n",
       "    <tr>\n",
       "      <th>3</th>\n",
       "      <td>a</td>\n",
       "      <td>dd</td>\n",
       "      <td>2</td>\n",
       "      <td>4</td>\n",
       "      <td>3</td>\n",
       "    </tr>\n",
       "    <tr>\n",
       "      <th>4</th>\n",
       "      <td>a</td>\n",
       "      <td>ee</td>\n",
       "      <td>1</td>\n",
       "      <td>5</td>\n",
       "      <td>4</td>\n",
       "    </tr>\n",
       "    <tr>\n",
       "      <th>5</th>\n",
       "      <td>b</td>\n",
       "      <td>aa</td>\n",
       "      <td>5</td>\n",
       "      <td>1</td>\n",
       "      <td>1</td>\n",
       "    </tr>\n",
       "    <tr>\n",
       "      <th>6</th>\n",
       "      <td>b</td>\n",
       "      <td>bb</td>\n",
       "      <td>4</td>\n",
       "      <td>2</td>\n",
       "      <td>2</td>\n",
       "    </tr>\n",
       "    <tr>\n",
       "      <th>7</th>\n",
       "      <td>b</td>\n",
       "      <td>cc</td>\n",
       "      <td>3</td>\n",
       "      <td>3</td>\n",
       "      <td>3</td>\n",
       "    </tr>\n",
       "    <tr>\n",
       "      <th>8</th>\n",
       "      <td>b</td>\n",
       "      <td>dd</td>\n",
       "      <td>2</td>\n",
       "      <td>4</td>\n",
       "      <td>4</td>\n",
       "    </tr>\n",
       "    <tr>\n",
       "      <th>9</th>\n",
       "      <td>b</td>\n",
       "      <td>ee</td>\n",
       "      <td>1</td>\n",
       "      <td>5</td>\n",
       "      <td>5</td>\n",
       "    </tr>\n",
       "  </tbody>\n",
       "</table>\n",
       "</div>"
      ],
      "text/plain": [
       "  dep emp  sal  rnk_rank  rnk\n",
       "0   a  aa    5         1    1\n",
       "1   a  bb    5         1    1\n",
       "2   a  cc    3         3    2\n",
       "3   a  dd    2         4    3\n",
       "4   a  ee    1         5    4\n",
       "5   b  aa    5         1    1\n",
       "6   b  bb    4         2    2\n",
       "7   b  cc    3         3    3\n",
       "8   b  dd    2         4    4\n",
       "9   b  ee    1         5    5"
      ]
     },
     "execution_count": 589,
     "metadata": {},
     "output_type": "execute_result"
    }
   ],
   "source": [
    "select(sql)"
   ]
  },
  {
   "cell_type": "code",
   "execution_count": 590,
   "id": "2186eefb",
   "metadata": {
    "id": "bEgYUC15Ele7"
   },
   "outputs": [],
   "source": [
    "sql = '''\n",
    "\n",
    "with salary_rnk as (\n",
    "\n",
    "select t.*,\n",
    "\n",
    "dense_rank() over (partition by t.dep order by t.sal desc) as rnk\n",
    "\n",
    " from salary t)\n",
    " \n",
    " select * from salary_rnk t\n",
    "\n",
    "where t.rnk <= 3\n",
    "\n",
    " \n",
    " '''"
   ]
  },
  {
   "cell_type": "code",
   "execution_count": 591,
   "id": "4a40b3ec",
   "metadata": {
    "colab": {
     "base_uri": "https://localhost:8080/",
     "height": 269
    },
    "id": "JnNz8OrHFKIr",
    "outputId": "5372a4f8-dbd5-41f1-f21d-b0e9346decfb"
   },
   "outputs": [
    {
     "data": {
      "text/html": [
       "<div>\n",
       "<style scoped>\n",
       "    .dataframe tbody tr th:only-of-type {\n",
       "        vertical-align: middle;\n",
       "    }\n",
       "\n",
       "    .dataframe tbody tr th {\n",
       "        vertical-align: top;\n",
       "    }\n",
       "\n",
       "    .dataframe thead th {\n",
       "        text-align: right;\n",
       "    }\n",
       "</style>\n",
       "<table border=\"1\" class=\"dataframe\">\n",
       "  <thead>\n",
       "    <tr style=\"text-align: right;\">\n",
       "      <th></th>\n",
       "      <th>dep</th>\n",
       "      <th>emp</th>\n",
       "      <th>sal</th>\n",
       "      <th>rnk</th>\n",
       "    </tr>\n",
       "  </thead>\n",
       "  <tbody>\n",
       "    <tr>\n",
       "      <th>0</th>\n",
       "      <td>a</td>\n",
       "      <td>aa</td>\n",
       "      <td>5</td>\n",
       "      <td>1</td>\n",
       "    </tr>\n",
       "    <tr>\n",
       "      <th>1</th>\n",
       "      <td>a</td>\n",
       "      <td>bb</td>\n",
       "      <td>5</td>\n",
       "      <td>1</td>\n",
       "    </tr>\n",
       "    <tr>\n",
       "      <th>2</th>\n",
       "      <td>a</td>\n",
       "      <td>cc</td>\n",
       "      <td>3</td>\n",
       "      <td>2</td>\n",
       "    </tr>\n",
       "    <tr>\n",
       "      <th>3</th>\n",
       "      <td>a</td>\n",
       "      <td>dd</td>\n",
       "      <td>2</td>\n",
       "      <td>3</td>\n",
       "    </tr>\n",
       "    <tr>\n",
       "      <th>4</th>\n",
       "      <td>b</td>\n",
       "      <td>aa</td>\n",
       "      <td>5</td>\n",
       "      <td>1</td>\n",
       "    </tr>\n",
       "    <tr>\n",
       "      <th>5</th>\n",
       "      <td>b</td>\n",
       "      <td>bb</td>\n",
       "      <td>4</td>\n",
       "      <td>2</td>\n",
       "    </tr>\n",
       "    <tr>\n",
       "      <th>6</th>\n",
       "      <td>b</td>\n",
       "      <td>cc</td>\n",
       "      <td>3</td>\n",
       "      <td>3</td>\n",
       "    </tr>\n",
       "  </tbody>\n",
       "</table>\n",
       "</div>"
      ],
      "text/plain": [
       "  dep emp  sal  rnk\n",
       "0   a  aa    5    1\n",
       "1   a  bb    5    1\n",
       "2   a  cc    3    2\n",
       "3   a  dd    2    3\n",
       "4   b  aa    5    1\n",
       "5   b  bb    4    2\n",
       "6   b  cc    3    3"
      ]
     },
     "execution_count": 591,
     "metadata": {},
     "output_type": "execute_result"
    }
   ],
   "source": [
    "select(sql)"
   ]
  },
  {
   "cell_type": "markdown",
   "id": "44338e96",
   "metadata": {
    "id": "rTKwzuZdQxdT"
   },
   "source": [
    "## Клиентские сессии"
   ]
  },
  {
   "cell_type": "code",
   "execution_count": 592,
   "id": "ab0b3061",
   "metadata": {
    "id": "ro032l2vJvLV"
   },
   "outputs": [],
   "source": [
    "user1 = pd.DataFrame({'user_id':[1,1,1,1,1],\n",
    "                  'dt':pd.to_datetime(['2021-04-01 07:31','2021-04-01 07:35',\n",
    "                                       '2021-04-01 08:20','2021-04-01 12:31',\n",
    "                                       '2021-04-03 07:31'],format='%Y-%m-%d %H:%M')})"
   ]
  },
  {
   "cell_type": "code",
   "execution_count": 593,
   "id": "e8c8250b",
   "metadata": {
    "colab": {
     "base_uri": "https://localhost:8080/",
     "height": 206
    },
    "id": "_CmAHcYKKYls",
    "outputId": "49580a3b-93d9-41a0-ad95-19585eaaa67d"
   },
   "outputs": [
    {
     "data": {
      "text/html": [
       "<div>\n",
       "<style scoped>\n",
       "    .dataframe tbody tr th:only-of-type {\n",
       "        vertical-align: middle;\n",
       "    }\n",
       "\n",
       "    .dataframe tbody tr th {\n",
       "        vertical-align: top;\n",
       "    }\n",
       "\n",
       "    .dataframe thead th {\n",
       "        text-align: right;\n",
       "    }\n",
       "</style>\n",
       "<table border=\"1\" class=\"dataframe\">\n",
       "  <thead>\n",
       "    <tr style=\"text-align: right;\">\n",
       "      <th></th>\n",
       "      <th>user_id</th>\n",
       "      <th>dt</th>\n",
       "    </tr>\n",
       "  </thead>\n",
       "  <tbody>\n",
       "    <tr>\n",
       "      <th>0</th>\n",
       "      <td>1</td>\n",
       "      <td>2021-04-01 07:31:00</td>\n",
       "    </tr>\n",
       "    <tr>\n",
       "      <th>1</th>\n",
       "      <td>1</td>\n",
       "      <td>2021-04-01 07:35:00</td>\n",
       "    </tr>\n",
       "    <tr>\n",
       "      <th>2</th>\n",
       "      <td>1</td>\n",
       "      <td>2021-04-01 08:20:00</td>\n",
       "    </tr>\n",
       "    <tr>\n",
       "      <th>3</th>\n",
       "      <td>1</td>\n",
       "      <td>2021-04-01 12:31:00</td>\n",
       "    </tr>\n",
       "    <tr>\n",
       "      <th>4</th>\n",
       "      <td>1</td>\n",
       "      <td>2021-04-03 07:31:00</td>\n",
       "    </tr>\n",
       "  </tbody>\n",
       "</table>\n",
       "</div>"
      ],
      "text/plain": [
       "   user_id                  dt\n",
       "0        1 2021-04-01 07:31:00\n",
       "1        1 2021-04-01 07:35:00\n",
       "2        1 2021-04-01 08:20:00\n",
       "3        1 2021-04-01 12:31:00\n",
       "4        1 2021-04-03 07:31:00"
      ]
     },
     "execution_count": 593,
     "metadata": {},
     "output_type": "execute_result"
    }
   ],
   "source": [
    "user1"
   ]
  },
  {
   "cell_type": "code",
   "execution_count": 594,
   "id": "3207d798",
   "metadata": {
    "id": "4R1PnQ3uKbOI"
   },
   "outputs": [],
   "source": [
    "user2 = pd.DataFrame({'user_id':[2,2,2,2],\n",
    "                  'dt':pd.to_datetime(['2021-04-01 07:31','2021-04-01 07:35',\n",
    "                                       '2021-04-01 08:20','2021-04-01 9:10',\n",
    "                                       ],format='%Y-%m-%d %H:%M')})"
   ]
  },
  {
   "cell_type": "code",
   "execution_count": 595,
   "id": "521c80cb",
   "metadata": {
    "id": "eVnEAz5QKnYB"
   },
   "outputs": [],
   "source": [
    "user3 = pd.DataFrame({'user_id':[3,3,3],\n",
    "                  'dt':pd.to_datetime(['2021-04-01 07:31','2021-04-02 07:35',\n",
    "                                       '2021-04-03 08:20'\n",
    "                                       ],format='%Y-%m-%d %H:%M')})"
   ]
  },
  {
   "cell_type": "code",
   "execution_count": 596,
   "id": "61fd42b2",
   "metadata": {
    "id": "9Y9a4syAKu9R"
   },
   "outputs": [],
   "source": [
    "t = pd.concat([user1,user2,user3])"
   ]
  },
  {
   "cell_type": "code",
   "execution_count": 597,
   "id": "e6be29cd",
   "metadata": {
    "colab": {
     "base_uri": "https://localhost:8080/",
     "height": 426
    },
    "id": "HxZIROvuKzmP",
    "outputId": "daa23808-9551-47a8-cd22-c3d443c1b261"
   },
   "outputs": [
    {
     "data": {
      "text/html": [
       "<div>\n",
       "<style scoped>\n",
       "    .dataframe tbody tr th:only-of-type {\n",
       "        vertical-align: middle;\n",
       "    }\n",
       "\n",
       "    .dataframe tbody tr th {\n",
       "        vertical-align: top;\n",
       "    }\n",
       "\n",
       "    .dataframe thead th {\n",
       "        text-align: right;\n",
       "    }\n",
       "</style>\n",
       "<table border=\"1\" class=\"dataframe\">\n",
       "  <thead>\n",
       "    <tr style=\"text-align: right;\">\n",
       "      <th></th>\n",
       "      <th>user_id</th>\n",
       "      <th>dt</th>\n",
       "    </tr>\n",
       "  </thead>\n",
       "  <tbody>\n",
       "    <tr>\n",
       "      <th>0</th>\n",
       "      <td>1</td>\n",
       "      <td>2021-04-01 07:31:00</td>\n",
       "    </tr>\n",
       "    <tr>\n",
       "      <th>1</th>\n",
       "      <td>1</td>\n",
       "      <td>2021-04-01 07:35:00</td>\n",
       "    </tr>\n",
       "    <tr>\n",
       "      <th>2</th>\n",
       "      <td>1</td>\n",
       "      <td>2021-04-01 08:20:00</td>\n",
       "    </tr>\n",
       "    <tr>\n",
       "      <th>3</th>\n",
       "      <td>1</td>\n",
       "      <td>2021-04-01 12:31:00</td>\n",
       "    </tr>\n",
       "    <tr>\n",
       "      <th>4</th>\n",
       "      <td>1</td>\n",
       "      <td>2021-04-03 07:31:00</td>\n",
       "    </tr>\n",
       "    <tr>\n",
       "      <th>0</th>\n",
       "      <td>2</td>\n",
       "      <td>2021-04-01 07:31:00</td>\n",
       "    </tr>\n",
       "    <tr>\n",
       "      <th>1</th>\n",
       "      <td>2</td>\n",
       "      <td>2021-04-01 07:35:00</td>\n",
       "    </tr>\n",
       "    <tr>\n",
       "      <th>2</th>\n",
       "      <td>2</td>\n",
       "      <td>2021-04-01 08:20:00</td>\n",
       "    </tr>\n",
       "    <tr>\n",
       "      <th>3</th>\n",
       "      <td>2</td>\n",
       "      <td>2021-04-01 09:10:00</td>\n",
       "    </tr>\n",
       "    <tr>\n",
       "      <th>0</th>\n",
       "      <td>3</td>\n",
       "      <td>2021-04-01 07:31:00</td>\n",
       "    </tr>\n",
       "    <tr>\n",
       "      <th>1</th>\n",
       "      <td>3</td>\n",
       "      <td>2021-04-02 07:35:00</td>\n",
       "    </tr>\n",
       "    <tr>\n",
       "      <th>2</th>\n",
       "      <td>3</td>\n",
       "      <td>2021-04-03 08:20:00</td>\n",
       "    </tr>\n",
       "  </tbody>\n",
       "</table>\n",
       "</div>"
      ],
      "text/plain": [
       "   user_id                  dt\n",
       "0        1 2021-04-01 07:31:00\n",
       "1        1 2021-04-01 07:35:00\n",
       "2        1 2021-04-01 08:20:00\n",
       "3        1 2021-04-01 12:31:00\n",
       "4        1 2021-04-03 07:31:00\n",
       "0        2 2021-04-01 07:31:00\n",
       "1        2 2021-04-01 07:35:00\n",
       "2        2 2021-04-01 08:20:00\n",
       "3        2 2021-04-01 09:10:00\n",
       "0        3 2021-04-01 07:31:00\n",
       "1        3 2021-04-02 07:35:00\n",
       "2        3 2021-04-03 08:20:00"
      ]
     },
     "execution_count": 597,
     "metadata": {},
     "output_type": "execute_result"
    }
   ],
   "source": [
    "t"
   ]
  },
  {
   "cell_type": "code",
   "execution_count": 598,
   "id": "d8f789b8",
   "metadata": {
    "id": "ne6hbIIMKz7Q"
   },
   "outputs": [
    {
     "data": {
      "text/plain": [
       "12"
      ]
     },
     "execution_count": 598,
     "metadata": {},
     "output_type": "execute_result"
    }
   ],
   "source": [
    "t.to_sql('client_log',con,index=False,if_exists='replace')"
   ]
  },
  {
   "cell_type": "code",
   "execution_count": 599,
   "id": "c599a1f0",
   "metadata": {
    "id": "VBl58ZHEK7gI"
   },
   "outputs": [],
   "source": [
    "sql = '''select * from client_log t'''"
   ]
  },
  {
   "cell_type": "code",
   "execution_count": 600,
   "id": "faa7acc2",
   "metadata": {
    "colab": {
     "base_uri": "https://localhost:8080/",
     "height": 426
    },
    "id": "0KjD2Vd3K-KT",
    "outputId": "19c230eb-dbce-4a02-f570-04019c7ffedf"
   },
   "outputs": [
    {
     "data": {
      "text/html": [
       "<div>\n",
       "<style scoped>\n",
       "    .dataframe tbody tr th:only-of-type {\n",
       "        vertical-align: middle;\n",
       "    }\n",
       "\n",
       "    .dataframe tbody tr th {\n",
       "        vertical-align: top;\n",
       "    }\n",
       "\n",
       "    .dataframe thead th {\n",
       "        text-align: right;\n",
       "    }\n",
       "</style>\n",
       "<table border=\"1\" class=\"dataframe\">\n",
       "  <thead>\n",
       "    <tr style=\"text-align: right;\">\n",
       "      <th></th>\n",
       "      <th>user_id</th>\n",
       "      <th>dt</th>\n",
       "    </tr>\n",
       "  </thead>\n",
       "  <tbody>\n",
       "    <tr>\n",
       "      <th>0</th>\n",
       "      <td>1</td>\n",
       "      <td>2021-04-01 07:31:00</td>\n",
       "    </tr>\n",
       "    <tr>\n",
       "      <th>1</th>\n",
       "      <td>1</td>\n",
       "      <td>2021-04-01 07:35:00</td>\n",
       "    </tr>\n",
       "    <tr>\n",
       "      <th>2</th>\n",
       "      <td>1</td>\n",
       "      <td>2021-04-01 08:20:00</td>\n",
       "    </tr>\n",
       "    <tr>\n",
       "      <th>3</th>\n",
       "      <td>1</td>\n",
       "      <td>2021-04-01 12:31:00</td>\n",
       "    </tr>\n",
       "    <tr>\n",
       "      <th>4</th>\n",
       "      <td>1</td>\n",
       "      <td>2021-04-03 07:31:00</td>\n",
       "    </tr>\n",
       "    <tr>\n",
       "      <th>5</th>\n",
       "      <td>2</td>\n",
       "      <td>2021-04-01 07:31:00</td>\n",
       "    </tr>\n",
       "    <tr>\n",
       "      <th>6</th>\n",
       "      <td>2</td>\n",
       "      <td>2021-04-01 07:35:00</td>\n",
       "    </tr>\n",
       "    <tr>\n",
       "      <th>7</th>\n",
       "      <td>2</td>\n",
       "      <td>2021-04-01 08:20:00</td>\n",
       "    </tr>\n",
       "    <tr>\n",
       "      <th>8</th>\n",
       "      <td>2</td>\n",
       "      <td>2021-04-01 09:10:00</td>\n",
       "    </tr>\n",
       "    <tr>\n",
       "      <th>9</th>\n",
       "      <td>3</td>\n",
       "      <td>2021-04-01 07:31:00</td>\n",
       "    </tr>\n",
       "    <tr>\n",
       "      <th>10</th>\n",
       "      <td>3</td>\n",
       "      <td>2021-04-02 07:35:00</td>\n",
       "    </tr>\n",
       "    <tr>\n",
       "      <th>11</th>\n",
       "      <td>3</td>\n",
       "      <td>2021-04-03 08:20:00</td>\n",
       "    </tr>\n",
       "  </tbody>\n",
       "</table>\n",
       "</div>"
      ],
      "text/plain": [
       "    user_id                   dt\n",
       "0         1  2021-04-01 07:31:00\n",
       "1         1  2021-04-01 07:35:00\n",
       "2         1  2021-04-01 08:20:00\n",
       "3         1  2021-04-01 12:31:00\n",
       "4         1  2021-04-03 07:31:00\n",
       "5         2  2021-04-01 07:31:00\n",
       "6         2  2021-04-01 07:35:00\n",
       "7         2  2021-04-01 08:20:00\n",
       "8         2  2021-04-01 09:10:00\n",
       "9         3  2021-04-01 07:31:00\n",
       "10        3  2021-04-02 07:35:00\n",
       "11        3  2021-04-03 08:20:00"
      ]
     },
     "execution_count": 600,
     "metadata": {},
     "output_type": "execute_result"
    }
   ],
   "source": [
    "select(sql)"
   ]
  },
  {
   "cell_type": "code",
   "execution_count": 601,
   "id": "6d5b85df",
   "metadata": {
    "colab": {
     "base_uri": "https://localhost:8080/"
    },
    "id": "KBk72u98MD6t",
    "outputId": "778a1f0d-45bc-4459-f6ea-d2edceaeb3a6"
   },
   "outputs": [
    {
     "data": {
      "text/plain": [
       "86400"
      ]
     },
     "execution_count": 601,
     "metadata": {},
     "output_type": "execute_result"
    }
   ],
   "source": [
    "24 * 60 * 60"
   ]
  },
  {
   "cell_type": "code",
   "execution_count": 602,
   "id": "bab74002",
   "metadata": {
    "id": "aXzL9cvmK_tt"
   },
   "outputs": [],
   "source": [
    "sql = '''\n",
    "with new_session as (\n",
    "select t.*,\n",
    "lag(t.dt) over (partition by t.user_id order by t.dt) as prev_dt,\n",
    "round((julianday(t.dt) - julianday(lag(t.dt) over (partition by t.user_id order by t.dt))) * 24 * 60 * 60) as dt_diff,\n",
    "\n",
    "\n",
    "case when round((julianday(t.dt) - julianday(lag(t.dt) over (partition by t.user_id order by t.dt))) * 24 * 60 * 60) >= 3600\n",
    "then 1 else 0 end as new_session\n",
    "\n",
    " from client_log t),\n",
    "\n",
    " client_sessions as (\n",
    " \n",
    " select t.*,\n",
    " \n",
    " sum(t.new_session) over (partition by t.user_id order by t.dt) as session_id\n",
    " \n",
    "  from new_session t),\n",
    "\n",
    "  client_sessions_agg as (\n",
    "\n",
    "  select t.user_id, t.session_id, count(1) as action_cnt from client_sessions t\n",
    "  group by t.user_id, t.session_id)\n",
    "\n",
    "\n",
    "  select count(*) from client_sessions_agg t\n",
    " \n",
    " '''"
   ]
  },
  {
   "cell_type": "code",
   "execution_count": 603,
   "id": "d1f57fb0",
   "metadata": {
    "colab": {
     "base_uri": "https://localhost:8080/",
     "height": 81
    },
    "id": "uP8YPgBNLgZb",
    "outputId": "df27c64a-d2a6-4b1e-ab9d-480265b7887e"
   },
   "outputs": [
    {
     "data": {
      "text/html": [
       "<div>\n",
       "<style scoped>\n",
       "    .dataframe tbody tr th:only-of-type {\n",
       "        vertical-align: middle;\n",
       "    }\n",
       "\n",
       "    .dataframe tbody tr th {\n",
       "        vertical-align: top;\n",
       "    }\n",
       "\n",
       "    .dataframe thead th {\n",
       "        text-align: right;\n",
       "    }\n",
       "</style>\n",
       "<table border=\"1\" class=\"dataframe\">\n",
       "  <thead>\n",
       "    <tr style=\"text-align: right;\">\n",
       "      <th></th>\n",
       "      <th>count(*)</th>\n",
       "    </tr>\n",
       "  </thead>\n",
       "  <tbody>\n",
       "    <tr>\n",
       "      <th>0</th>\n",
       "      <td>7</td>\n",
       "    </tr>\n",
       "  </tbody>\n",
       "</table>\n",
       "</div>"
      ],
      "text/plain": [
       "   count(*)\n",
       "0         7"
      ]
     },
     "execution_count": 603,
     "metadata": {},
     "output_type": "execute_result"
    }
   ],
   "source": [
    "select(sql)"
   ]
  },
  {
   "cell_type": "markdown",
   "id": "d528c130",
   "metadata": {
    "id": "WlbxKiU7wxsU"
   },
   "source": [
    "## Скользящее среднее"
   ]
  },
  {
   "cell_type": "code",
   "execution_count": 604,
   "id": "c83f988a",
   "metadata": {
    "id": "ExdCR0U7TjjB"
   },
   "outputs": [],
   "source": [
    "t = pd.DataFrame({'user_id':[1,1,1,1,1,1,\n",
    "                             2,2,2,2,2],\n",
    "                  'dt':[1,2,3,4,5,6,\n",
    "                        1,2,3,4,5],\n",
    "                  'revenue':[1,2,3,4,5,6,\n",
    "                             3,4,5,6,7]})"
   ]
  },
  {
   "cell_type": "code",
   "execution_count": 605,
   "id": "f2b119c5",
   "metadata": {
    "id": "QG8esUwcT8XX"
   },
   "outputs": [
    {
     "data": {
      "text/plain": [
       "11"
      ]
     },
     "execution_count": 605,
     "metadata": {},
     "output_type": "execute_result"
    }
   ],
   "source": [
    "t.to_sql('revenue',con,index=False,if_exists='replace')"
   ]
  },
  {
   "cell_type": "code",
   "execution_count": 606,
   "id": "a63909fe",
   "metadata": {
    "id": "02xg6-oGUBKs"
   },
   "outputs": [],
   "source": [
    "sql = '''select t.*,\n",
    "\n",
    "avg(t.revenue) over (partition by t.user_id order by t.dt\n",
    "\n",
    "rows between 2 preceding and current row\n",
    "\n",
    ") as moving_avg\n",
    "\n",
    " from revenue t'''"
   ]
  },
  {
   "cell_type": "code",
   "execution_count": 607,
   "id": "ad381b1c",
   "metadata": {
    "colab": {
     "base_uri": "https://localhost:8080/",
     "height": 394
    },
    "id": "uUR-GbowUDPA",
    "outputId": "8a791e86-b81a-4dae-e3ed-be1e58fb75b8"
   },
   "outputs": [
    {
     "data": {
      "text/html": [
       "<div>\n",
       "<style scoped>\n",
       "    .dataframe tbody tr th:only-of-type {\n",
       "        vertical-align: middle;\n",
       "    }\n",
       "\n",
       "    .dataframe tbody tr th {\n",
       "        vertical-align: top;\n",
       "    }\n",
       "\n",
       "    .dataframe thead th {\n",
       "        text-align: right;\n",
       "    }\n",
       "</style>\n",
       "<table border=\"1\" class=\"dataframe\">\n",
       "  <thead>\n",
       "    <tr style=\"text-align: right;\">\n",
       "      <th></th>\n",
       "      <th>user_id</th>\n",
       "      <th>dt</th>\n",
       "      <th>revenue</th>\n",
       "      <th>moving_avg</th>\n",
       "    </tr>\n",
       "  </thead>\n",
       "  <tbody>\n",
       "    <tr>\n",
       "      <th>0</th>\n",
       "      <td>1</td>\n",
       "      <td>1</td>\n",
       "      <td>1</td>\n",
       "      <td>1.0</td>\n",
       "    </tr>\n",
       "    <tr>\n",
       "      <th>1</th>\n",
       "      <td>1</td>\n",
       "      <td>2</td>\n",
       "      <td>2</td>\n",
       "      <td>1.5</td>\n",
       "    </tr>\n",
       "    <tr>\n",
       "      <th>2</th>\n",
       "      <td>1</td>\n",
       "      <td>3</td>\n",
       "      <td>3</td>\n",
       "      <td>2.0</td>\n",
       "    </tr>\n",
       "    <tr>\n",
       "      <th>3</th>\n",
       "      <td>1</td>\n",
       "      <td>4</td>\n",
       "      <td>4</td>\n",
       "      <td>3.0</td>\n",
       "    </tr>\n",
       "    <tr>\n",
       "      <th>4</th>\n",
       "      <td>1</td>\n",
       "      <td>5</td>\n",
       "      <td>5</td>\n",
       "      <td>4.0</td>\n",
       "    </tr>\n",
       "    <tr>\n",
       "      <th>5</th>\n",
       "      <td>1</td>\n",
       "      <td>6</td>\n",
       "      <td>6</td>\n",
       "      <td>5.0</td>\n",
       "    </tr>\n",
       "    <tr>\n",
       "      <th>6</th>\n",
       "      <td>2</td>\n",
       "      <td>1</td>\n",
       "      <td>3</td>\n",
       "      <td>3.0</td>\n",
       "    </tr>\n",
       "    <tr>\n",
       "      <th>7</th>\n",
       "      <td>2</td>\n",
       "      <td>2</td>\n",
       "      <td>4</td>\n",
       "      <td>3.5</td>\n",
       "    </tr>\n",
       "    <tr>\n",
       "      <th>8</th>\n",
       "      <td>2</td>\n",
       "      <td>3</td>\n",
       "      <td>5</td>\n",
       "      <td>4.0</td>\n",
       "    </tr>\n",
       "    <tr>\n",
       "      <th>9</th>\n",
       "      <td>2</td>\n",
       "      <td>4</td>\n",
       "      <td>6</td>\n",
       "      <td>5.0</td>\n",
       "    </tr>\n",
       "    <tr>\n",
       "      <th>10</th>\n",
       "      <td>2</td>\n",
       "      <td>5</td>\n",
       "      <td>7</td>\n",
       "      <td>6.0</td>\n",
       "    </tr>\n",
       "  </tbody>\n",
       "</table>\n",
       "</div>"
      ],
      "text/plain": [
       "    user_id  dt  revenue  moving_avg\n",
       "0         1   1        1         1.0\n",
       "1         1   2        2         1.5\n",
       "2         1   3        3         2.0\n",
       "3         1   4        4         3.0\n",
       "4         1   5        5         4.0\n",
       "5         1   6        6         5.0\n",
       "6         2   1        3         3.0\n",
       "7         2   2        4         3.5\n",
       "8         2   3        5         4.0\n",
       "9         2   4        6         5.0\n",
       "10        2   5        7         6.0"
      ]
     },
     "execution_count": 607,
     "metadata": {},
     "output_type": "execute_result"
    }
   ],
   "source": [
    "select(sql)"
   ]
  },
  {
   "cell_type": "code",
   "execution_count": null,
   "id": "40bd3a47",
   "metadata": {},
   "outputs": [],
   "source": []
  }
 ],
 "metadata": {
  "kernelspec": {
   "display_name": "Python 3 (ipykernel)",
   "language": "python",
   "name": "python3"
  },
  "language_info": {
   "codemirror_mode": {
    "name": "ipython",
    "version": 3
   },
   "file_extension": ".py",
   "mimetype": "text/x-python",
   "name": "python",
   "nbconvert_exporter": "python",
   "pygments_lexer": "ipython3",
   "version": "3.9.13"
  }
 },
 "nbformat": 4,
 "nbformat_minor": 5
}
