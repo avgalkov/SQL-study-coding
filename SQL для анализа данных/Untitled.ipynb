{
 "cells": [
  {
   "cell_type": "code",
   "execution_count": 1,
   "id": "43b3da7f",
   "metadata": {},
   "outputs": [],
   "source": [
    "import pandas as pd\n",
    "import sqlite3"
   ]
  },
  {
   "cell_type": "code",
   "execution_count": 2,
   "id": "d80549cf",
   "metadata": {},
   "outputs": [],
   "source": [
    "con = sqlite3.connect('C:/Users/79295/Desktop/GITHUB/SQL/SQL для анализа данных/databases/german_credit.db')"
   ]
  },
  {
   "cell_type": "code",
   "execution_count": 17,
   "id": "95f47bdf",
   "metadata": {},
   "outputs": [],
   "source": [
    "df = pd.read_csv('C:/Users/79295/Desktop/GITHUB/SQL/SQL для анализа данных/datasets/german_credit_augmented.csv')"
   ]
  },
  {
   "cell_type": "code",
   "execution_count": 4,
   "id": "f29de98c",
   "metadata": {},
   "outputs": [],
   "source": [
    "df.contract_dt = pd.to_datetime(df.contract_dt, format='%Y-%m-%d %H:%M:%S')"
   ]
  },
  {
   "cell_type": "code",
   "execution_count": 5,
   "id": "a3c1f592",
   "metadata": {},
   "outputs": [
    {
     "data": {
      "text/plain": [
       "1000"
      ]
     },
     "execution_count": 5,
     "metadata": {},
     "output_type": "execute_result"
    }
   ],
   "source": [
    "# Выгружаем нашу табличку в базу данных\n",
    "\n",
    "df.to_sql('german_credit', con, index=False,if_exists='replace')"
   ]
  },
  {
   "cell_type": "code",
   "execution_count": 6,
   "id": "54772df8",
   "metadata": {},
   "outputs": [],
   "source": [
    "# Заворачиваем функцию  pd.read_sql(sql,con) во вспомогательную функцию select(sql), чтобы меньше печатать \n",
    "\n",
    "def select(sql):\n",
    "    return pd.read_sql(sql,con)"
   ]
  },
  {
   "cell_type": "code",
   "execution_count": 35,
   "id": "c084d37b",
   "metadata": {},
   "outputs": [
    {
     "data": {
      "text/html": [
       "<div>\n",
       "<style scoped>\n",
       "    .dataframe tbody tr th:only-of-type {\n",
       "        vertical-align: middle;\n",
       "    }\n",
       "\n",
       "    .dataframe tbody tr th {\n",
       "        vertical-align: top;\n",
       "    }\n",
       "\n",
       "    .dataframe thead th {\n",
       "        text-align: right;\n",
       "    }\n",
       "</style>\n",
       "<table border=\"1\" class=\"dataframe\">\n",
       "  <thead>\n",
       "    <tr style=\"text-align: right;\">\n",
       "      <th></th>\n",
       "      <th>age</th>\n",
       "      <th>sex</th>\n",
       "      <th>job</th>\n",
       "      <th>housing</th>\n",
       "      <th>saving_accounts</th>\n",
       "      <th>checking_account</th>\n",
       "      <th>credit_amount</th>\n",
       "      <th>duration</th>\n",
       "      <th>purpose</th>\n",
       "      <th>default</th>\n",
       "      <th>contract_dt</th>\n",
       "      <th>client_id</th>\n",
       "      <th>age_mult3</th>\n",
       "    </tr>\n",
       "  </thead>\n",
       "  <tbody>\n",
       "    <tr>\n",
       "      <th>0</th>\n",
       "      <td>22</td>\n",
       "      <td>male</td>\n",
       "      <td>2</td>\n",
       "      <td>own</td>\n",
       "      <td>rich</td>\n",
       "      <td>moderate</td>\n",
       "      <td>1007</td>\n",
       "      <td>12</td>\n",
       "      <td>car</td>\n",
       "      <td>0</td>\n",
       "      <td>2007-07-17 12:33:24</td>\n",
       "      <td>67</td>\n",
       "      <td>66</td>\n",
       "    </tr>\n",
       "  </tbody>\n",
       "</table>\n",
       "</div>"
      ],
      "text/plain": [
       "   age   sex  job housing saving_accounts checking_account  credit_amount  \\\n",
       "0   22  male    2     own            rich         moderate           1007   \n",
       "\n",
       "   duration purpose  default          contract_dt  client_id  age_mult3  \n",
       "0        12     car        0  2007-07-17 12:33:24         67         66  "
      ]
     },
     "execution_count": 35,
     "metadata": {},
     "output_type": "execute_result"
    }
   ],
   "source": [
    "sql = '''select\n",
    "        t.*,\n",
    "        t.age * 3 as age_mult3\n",
    "        from german_credit t\n",
    "        where t.age < 23 \n",
    "        and t.purpose = \"car\"\n",
    "        and t.housing = \"own\"\n",
    "        '''\n",
    "select(sql)"
   ]
  },
  {
   "cell_type": "code",
   "execution_count": 36,
   "id": "e54855e6",
   "metadata": {
    "scrolled": true
   },
   "outputs": [
    {
     "data": {
      "text/html": [
       "<div>\n",
       "<style scoped>\n",
       "    .dataframe tbody tr th:only-of-type {\n",
       "        vertical-align: middle;\n",
       "    }\n",
       "\n",
       "    .dataframe tbody tr th {\n",
       "        vertical-align: top;\n",
       "    }\n",
       "\n",
       "    .dataframe thead th {\n",
       "        text-align: right;\n",
       "    }\n",
       "</style>\n",
       "<table border=\"1\" class=\"dataframe\">\n",
       "  <thead>\n",
       "    <tr style=\"text-align: right;\">\n",
       "      <th></th>\n",
       "      <th>age</th>\n",
       "      <th>sex</th>\n",
       "      <th>job</th>\n",
       "      <th>housing</th>\n",
       "      <th>saving_accounts</th>\n",
       "      <th>checking_account</th>\n",
       "      <th>credit_amount</th>\n",
       "      <th>duration</th>\n",
       "      <th>purpose</th>\n",
       "      <th>default</th>\n",
       "      <th>contract_dt</th>\n",
       "      <th>client_id</th>\n",
       "      <th>age_mult3</th>\n",
       "    </tr>\n",
       "  </thead>\n",
       "  <tbody>\n",
       "    <tr>\n",
       "      <th>0</th>\n",
       "      <td>21</td>\n",
       "      <td>female</td>\n",
       "      <td>2</td>\n",
       "      <td>rent</td>\n",
       "      <td>little</td>\n",
       "      <td>None</td>\n",
       "      <td>2570</td>\n",
       "      <td>27</td>\n",
       "      <td>car</td>\n",
       "      <td>1</td>\n",
       "      <td>2008-06-14 22:03:03</td>\n",
       "      <td>724</td>\n",
       "      <td>63</td>\n",
       "    </tr>\n",
       "    <tr>\n",
       "      <th>1</th>\n",
       "      <td>20</td>\n",
       "      <td>female</td>\n",
       "      <td>2</td>\n",
       "      <td>rent</td>\n",
       "      <td>None</td>\n",
       "      <td>None</td>\n",
       "      <td>4675</td>\n",
       "      <td>12</td>\n",
       "      <td>car</td>\n",
       "      <td>0</td>\n",
       "      <td>2008-06-06 19:31:48</td>\n",
       "      <td>296</td>\n",
       "      <td>60</td>\n",
       "    </tr>\n",
       "    <tr>\n",
       "      <th>2</th>\n",
       "      <td>21</td>\n",
       "      <td>male</td>\n",
       "      <td>2</td>\n",
       "      <td>rent</td>\n",
       "      <td>little</td>\n",
       "      <td>moderate</td>\n",
       "      <td>2779</td>\n",
       "      <td>18</td>\n",
       "      <td>car</td>\n",
       "      <td>0</td>\n",
       "      <td>2008-06-06 15:51:39</td>\n",
       "      <td>425</td>\n",
       "      <td>63</td>\n",
       "    </tr>\n",
       "    <tr>\n",
       "      <th>3</th>\n",
       "      <td>20</td>\n",
       "      <td>female</td>\n",
       "      <td>2</td>\n",
       "      <td>rent</td>\n",
       "      <td>rich</td>\n",
       "      <td>None</td>\n",
       "      <td>3186</td>\n",
       "      <td>15</td>\n",
       "      <td>car</td>\n",
       "      <td>0</td>\n",
       "      <td>2008-05-06 18:34:56</td>\n",
       "      <td>420</td>\n",
       "      <td>60</td>\n",
       "    </tr>\n",
       "    <tr>\n",
       "      <th>4</th>\n",
       "      <td>20</td>\n",
       "      <td>female</td>\n",
       "      <td>1</td>\n",
       "      <td>rent</td>\n",
       "      <td>little</td>\n",
       "      <td>moderate</td>\n",
       "      <td>2718</td>\n",
       "      <td>24</td>\n",
       "      <td>car</td>\n",
       "      <td>1</td>\n",
       "      <td>2008-04-12 12:34:40</td>\n",
       "      <td>593</td>\n",
       "      <td>60</td>\n",
       "    </tr>\n",
       "  </tbody>\n",
       "</table>\n",
       "</div>"
      ],
      "text/plain": [
       "   age     sex  job housing saving_accounts checking_account  credit_amount  \\\n",
       "0   21  female    2    rent          little             None           2570   \n",
       "1   20  female    2    rent            None             None           4675   \n",
       "2   21    male    2    rent          little         moderate           2779   \n",
       "3   20  female    2    rent            rich             None           3186   \n",
       "4   20  female    1    rent          little         moderate           2718   \n",
       "\n",
       "   duration purpose  default          contract_dt  client_id  age_mult3  \n",
       "0        27     car        1  2008-06-14 22:03:03        724         63  \n",
       "1        12     car        0  2008-06-06 19:31:48        296         60  \n",
       "2        18     car        0  2008-06-06 15:51:39        425         63  \n",
       "3        15     car        0  2008-05-06 18:34:56        420         60  \n",
       "4        24     car        1  2008-04-12 12:34:40        593         60  "
      ]
     },
     "execution_count": 36,
     "metadata": {},
     "output_type": "execute_result"
    }
   ],
   "source": [
    "sql = '''select\n",
    "        t.*,\n",
    "        t.age * 3 as age_mult3\n",
    "        from german_credit t\n",
    "        where t.age < 22 \n",
    "        and t.purpose = \"car\"\n",
    "        and t.housing in (\"own\",\"rent\")\n",
    "        '''\n",
    "select(sql)"
   ]
  },
  {
   "cell_type": "markdown",
   "id": "d7573290",
   "metadata": {},
   "source": [
    "*Сохраним результат запроса в новую табличку*"
   ]
  },
  {
   "cell_type": "code",
   "execution_count": 39,
   "id": "cb132d84",
   "metadata": {},
   "outputs": [],
   "source": [
    "cur = con.cursor()"
   ]
  },
  {
   "cell_type": "code",
   "execution_count": 50,
   "id": "5ee4b6fd",
   "metadata": {},
   "outputs": [],
   "source": [
    "# Создадим запрос в котором сначала будем дропать табличку, чтобы оставалась возможность перезапуска"
   ]
  },
  {
   "cell_type": "code",
   "execution_count": 46,
   "id": "187926a8",
   "metadata": {},
   "outputs": [],
   "source": [
    "sql = '''\n",
    "    drop table if exists my_table; \n",
    "    create table my_table as \n",
    "    select\n",
    "    t.*,\n",
    "    t.age * 3 as age_mult3\n",
    "    from german_credit t\n",
    "    where t.age < 22 \n",
    "    and t.purpose = \"car\"\n",
    "    and t.housing in (\"own\",\"rent\")\n",
    "    '''"
   ]
  },
  {
   "cell_type": "code",
   "execution_count": 47,
   "id": "cee4b3ea",
   "metadata": {},
   "outputs": [
    {
     "data": {
      "text/plain": [
       "<sqlite3.Cursor at 0x246ab089110>"
      ]
     },
     "execution_count": 47,
     "metadata": {},
     "output_type": "execute_result"
    }
   ],
   "source": [
    "cur.executescript(sql)"
   ]
  },
  {
   "cell_type": "code",
   "execution_count": 48,
   "id": "44dc1abc",
   "metadata": {},
   "outputs": [],
   "source": [
    "sql = '''\n",
    "select *\n",
    "from my_table\n",
    "'''"
   ]
  },
  {
   "cell_type": "code",
   "execution_count": 49,
   "id": "1f7afa67",
   "metadata": {},
   "outputs": [
    {
     "data": {
      "text/html": [
       "<div>\n",
       "<style scoped>\n",
       "    .dataframe tbody tr th:only-of-type {\n",
       "        vertical-align: middle;\n",
       "    }\n",
       "\n",
       "    .dataframe tbody tr th {\n",
       "        vertical-align: top;\n",
       "    }\n",
       "\n",
       "    .dataframe thead th {\n",
       "        text-align: right;\n",
       "    }\n",
       "</style>\n",
       "<table border=\"1\" class=\"dataframe\">\n",
       "  <thead>\n",
       "    <tr style=\"text-align: right;\">\n",
       "      <th></th>\n",
       "      <th>age</th>\n",
       "      <th>sex</th>\n",
       "      <th>job</th>\n",
       "      <th>housing</th>\n",
       "      <th>saving_accounts</th>\n",
       "      <th>checking_account</th>\n",
       "      <th>credit_amount</th>\n",
       "      <th>duration</th>\n",
       "      <th>purpose</th>\n",
       "      <th>default</th>\n",
       "      <th>contract_dt</th>\n",
       "      <th>client_id</th>\n",
       "      <th>age_mult3</th>\n",
       "    </tr>\n",
       "  </thead>\n",
       "  <tbody>\n",
       "    <tr>\n",
       "      <th>0</th>\n",
       "      <td>21</td>\n",
       "      <td>female</td>\n",
       "      <td>2</td>\n",
       "      <td>rent</td>\n",
       "      <td>little</td>\n",
       "      <td>None</td>\n",
       "      <td>2570</td>\n",
       "      <td>27</td>\n",
       "      <td>car</td>\n",
       "      <td>1</td>\n",
       "      <td>2008-06-14 22:03:03</td>\n",
       "      <td>724</td>\n",
       "      <td>63</td>\n",
       "    </tr>\n",
       "    <tr>\n",
       "      <th>1</th>\n",
       "      <td>20</td>\n",
       "      <td>female</td>\n",
       "      <td>2</td>\n",
       "      <td>rent</td>\n",
       "      <td>None</td>\n",
       "      <td>None</td>\n",
       "      <td>4675</td>\n",
       "      <td>12</td>\n",
       "      <td>car</td>\n",
       "      <td>0</td>\n",
       "      <td>2008-06-06 19:31:48</td>\n",
       "      <td>296</td>\n",
       "      <td>60</td>\n",
       "    </tr>\n",
       "    <tr>\n",
       "      <th>2</th>\n",
       "      <td>21</td>\n",
       "      <td>male</td>\n",
       "      <td>2</td>\n",
       "      <td>rent</td>\n",
       "      <td>little</td>\n",
       "      <td>moderate</td>\n",
       "      <td>2779</td>\n",
       "      <td>18</td>\n",
       "      <td>car</td>\n",
       "      <td>0</td>\n",
       "      <td>2008-06-06 15:51:39</td>\n",
       "      <td>425</td>\n",
       "      <td>63</td>\n",
       "    </tr>\n",
       "    <tr>\n",
       "      <th>3</th>\n",
       "      <td>20</td>\n",
       "      <td>female</td>\n",
       "      <td>2</td>\n",
       "      <td>rent</td>\n",
       "      <td>rich</td>\n",
       "      <td>None</td>\n",
       "      <td>3186</td>\n",
       "      <td>15</td>\n",
       "      <td>car</td>\n",
       "      <td>0</td>\n",
       "      <td>2008-05-06 18:34:56</td>\n",
       "      <td>420</td>\n",
       "      <td>60</td>\n",
       "    </tr>\n",
       "    <tr>\n",
       "      <th>4</th>\n",
       "      <td>20</td>\n",
       "      <td>female</td>\n",
       "      <td>1</td>\n",
       "      <td>rent</td>\n",
       "      <td>little</td>\n",
       "      <td>moderate</td>\n",
       "      <td>2718</td>\n",
       "      <td>24</td>\n",
       "      <td>car</td>\n",
       "      <td>1</td>\n",
       "      <td>2008-04-12 12:34:40</td>\n",
       "      <td>593</td>\n",
       "      <td>60</td>\n",
       "    </tr>\n",
       "  </tbody>\n",
       "</table>\n",
       "</div>"
      ],
      "text/plain": [
       "   age     sex  job housing saving_accounts checking_account  credit_amount  \\\n",
       "0   21  female    2    rent          little             None           2570   \n",
       "1   20  female    2    rent            None             None           4675   \n",
       "2   21    male    2    rent          little         moderate           2779   \n",
       "3   20  female    2    rent            rich             None           3186   \n",
       "4   20  female    1    rent          little         moderate           2718   \n",
       "\n",
       "   duration purpose  default          contract_dt  client_id  age_mult3  \n",
       "0        27     car        1  2008-06-14 22:03:03        724         63  \n",
       "1        12     car        0  2008-06-06 19:31:48        296         60  \n",
       "2        18     car        0  2008-06-06 15:51:39        425         63  \n",
       "3        15     car        0  2008-05-06 18:34:56        420         60  \n",
       "4        24     car        1  2008-04-12 12:34:40        593         60  "
      ]
     },
     "execution_count": 49,
     "metadata": {},
     "output_type": "execute_result"
    }
   ],
   "source": [
    "select(sql)"
   ]
  },
  {
   "cell_type": "code",
   "execution_count": null,
   "id": "41c73263",
   "metadata": {},
   "outputs": [],
   "source": []
  }
 ],
 "metadata": {
  "kernelspec": {
   "display_name": "Python 3 (ipykernel)",
   "language": "python",
   "name": "python3"
  },
  "language_info": {
   "codemirror_mode": {
    "name": "ipython",
    "version": 3
   },
   "file_extension": ".py",
   "mimetype": "text/x-python",
   "name": "python",
   "nbconvert_exporter": "python",
   "pygments_lexer": "ipython3",
   "version": "3.9.13"
  }
 },
 "nbformat": 4,
 "nbformat_minor": 5
}
